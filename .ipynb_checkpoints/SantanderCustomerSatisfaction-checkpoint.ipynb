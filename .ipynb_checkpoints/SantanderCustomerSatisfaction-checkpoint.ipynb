{
 "cells": [
  {
   "cell_type": "markdown",
   "metadata": {},
   "source": [
    "# Santander Customer Satisfaction"
   ]
  },
  {
   "cell_type": "markdown",
   "metadata": {},
   "source": [
    "A satisfação do cliente é uma medida fundamental de sucesso. Clientes insatisfeitos cancelam seus serviços e raramente expressam sua insatisfação antes de sair. Clientes satisfeitos, por outro lado, se tornam defensores da marca! "
   ]
  },
  {
   "cell_type": "markdown",
   "metadata": {},
   "source": [
    "Em 2016 o Banco Santander realizou uma competição no Kaggle pedindo aos participantes para ajudá-los a identificar clientes insatisfeitos no início do relacionamento. Isso permitiu ao Santander adotar medidas proativas para melhorar a satisfacão de um cliente antes que seja tarde demais."
   ]
  },
  {
   "cell_type": "markdown",
   "metadata": {},
   "source": [
    "Neste projeto, a partir da base de dados fornecida da <a href=\"https://www.kaggle.com/c/santander-customer-satisfaction/overview\">competição no Kaggle</a>, tentaremos encontrar uma solução para prever se um cliente está insatisfeito ou não com sua experiência bancária, o objetivo aqui é chegar em uma acurácia superior a 70%."
   ]
  },
  {
   "cell_type": "markdown",
   "metadata": {},
   "source": [
    "Este é o terceiro projeto com feedback da formação Cientista de Dados da <a href=\"https://www.datascienceacademy.com.br/home\">Data Science Academy</a>, mais especificamente pertencente ao curso \"Big Data Real-Time Analytics com Python e Spark\"."
   ]
  },
  {
   "cell_type": "markdown",
   "metadata": {},
   "source": [
    "## Imports e Carga do Dataset"
   ]
  },
  {
   "cell_type": "code",
   "execution_count": 1,
   "metadata": {},
   "outputs": [],
   "source": [
    "# Imports dos pacotes necessários\n",
    "import numpy as np\n",
    "import pandas as pd\n",
    "import matplotlib.pyplot as plt\n",
    "import seaborn as sns\n",
    "%matplotlib inline\n",
    "from itertools import combinations\n",
    "import random\n",
    "from sklearn.preprocessing import MinMaxScaler\n",
    "from sklearn.decomposition import PCA\n",
    "from sklearn.model_selection import KFold\n",
    "from sklearn.model_selection import cross_val_score\n",
    "from sklearn.linear_model import LogisticRegression\n",
    "from sklearn.tree import DecisionTreeClassifier\n",
    "from sklearn.neighbors import KNeighborsClassifier\n",
    "from sklearn.discriminant_analysis import LinearDiscriminantAnalysis\n",
    "from sklearn.naive_bayes import GaussianNB\n",
    "from sklearn.ensemble import RandomForestClassifier\n",
    "import xgboost as xgb\n",
    "from sklearn.model_selection import GridSearchCV\n",
    "import pickle\n",
    "\n",
    "import warnings\n",
    "warnings.filterwarnings(\"ignore\", category=DeprecationWarning)"
   ]
  },
  {
   "cell_type": "code",
   "execution_count": 2,
   "metadata": {
    "scrolled": false
   },
   "outputs": [
    {
     "data": {
      "text/html": [
       "<div>\n",
       "<style scoped>\n",
       "    .dataframe tbody tr th:only-of-type {\n",
       "        vertical-align: middle;\n",
       "    }\n",
       "\n",
       "    .dataframe tbody tr th {\n",
       "        vertical-align: top;\n",
       "    }\n",
       "\n",
       "    .dataframe thead th {\n",
       "        text-align: right;\n",
       "    }\n",
       "</style>\n",
       "<table border=\"1\" class=\"dataframe\">\n",
       "  <thead>\n",
       "    <tr style=\"text-align: right;\">\n",
       "      <th></th>\n",
       "      <th>ID</th>\n",
       "      <th>var3</th>\n",
       "      <th>var15</th>\n",
       "      <th>imp_ent_var16_ult1</th>\n",
       "      <th>imp_op_var39_comer_ult1</th>\n",
       "      <th>imp_op_var39_comer_ult3</th>\n",
       "      <th>imp_op_var40_comer_ult1</th>\n",
       "      <th>imp_op_var40_comer_ult3</th>\n",
       "      <th>imp_op_var40_efect_ult1</th>\n",
       "      <th>imp_op_var40_efect_ult3</th>\n",
       "      <th>...</th>\n",
       "      <th>saldo_medio_var33_hace2</th>\n",
       "      <th>saldo_medio_var33_hace3</th>\n",
       "      <th>saldo_medio_var33_ult1</th>\n",
       "      <th>saldo_medio_var33_ult3</th>\n",
       "      <th>saldo_medio_var44_hace2</th>\n",
       "      <th>saldo_medio_var44_hace3</th>\n",
       "      <th>saldo_medio_var44_ult1</th>\n",
       "      <th>saldo_medio_var44_ult3</th>\n",
       "      <th>var38</th>\n",
       "      <th>TARGET</th>\n",
       "    </tr>\n",
       "  </thead>\n",
       "  <tbody>\n",
       "    <tr>\n",
       "      <th>0</th>\n",
       "      <td>1</td>\n",
       "      <td>2</td>\n",
       "      <td>23</td>\n",
       "      <td>0.0</td>\n",
       "      <td>0.0</td>\n",
       "      <td>0.0</td>\n",
       "      <td>0.0</td>\n",
       "      <td>0.0</td>\n",
       "      <td>0.0</td>\n",
       "      <td>0.0</td>\n",
       "      <td>...</td>\n",
       "      <td>0.0</td>\n",
       "      <td>0.0</td>\n",
       "      <td>0.0</td>\n",
       "      <td>0.0</td>\n",
       "      <td>0.0</td>\n",
       "      <td>0.0</td>\n",
       "      <td>0.0</td>\n",
       "      <td>0.0</td>\n",
       "      <td>39205.170000</td>\n",
       "      <td>0</td>\n",
       "    </tr>\n",
       "    <tr>\n",
       "      <th>1</th>\n",
       "      <td>3</td>\n",
       "      <td>2</td>\n",
       "      <td>34</td>\n",
       "      <td>0.0</td>\n",
       "      <td>0.0</td>\n",
       "      <td>0.0</td>\n",
       "      <td>0.0</td>\n",
       "      <td>0.0</td>\n",
       "      <td>0.0</td>\n",
       "      <td>0.0</td>\n",
       "      <td>...</td>\n",
       "      <td>0.0</td>\n",
       "      <td>0.0</td>\n",
       "      <td>0.0</td>\n",
       "      <td>0.0</td>\n",
       "      <td>0.0</td>\n",
       "      <td>0.0</td>\n",
       "      <td>0.0</td>\n",
       "      <td>0.0</td>\n",
       "      <td>49278.030000</td>\n",
       "      <td>0</td>\n",
       "    </tr>\n",
       "    <tr>\n",
       "      <th>2</th>\n",
       "      <td>4</td>\n",
       "      <td>2</td>\n",
       "      <td>23</td>\n",
       "      <td>0.0</td>\n",
       "      <td>0.0</td>\n",
       "      <td>0.0</td>\n",
       "      <td>0.0</td>\n",
       "      <td>0.0</td>\n",
       "      <td>0.0</td>\n",
       "      <td>0.0</td>\n",
       "      <td>...</td>\n",
       "      <td>0.0</td>\n",
       "      <td>0.0</td>\n",
       "      <td>0.0</td>\n",
       "      <td>0.0</td>\n",
       "      <td>0.0</td>\n",
       "      <td>0.0</td>\n",
       "      <td>0.0</td>\n",
       "      <td>0.0</td>\n",
       "      <td>67333.770000</td>\n",
       "      <td>0</td>\n",
       "    </tr>\n",
       "    <tr>\n",
       "      <th>3</th>\n",
       "      <td>8</td>\n",
       "      <td>2</td>\n",
       "      <td>37</td>\n",
       "      <td>0.0</td>\n",
       "      <td>195.0</td>\n",
       "      <td>195.0</td>\n",
       "      <td>0.0</td>\n",
       "      <td>0.0</td>\n",
       "      <td>0.0</td>\n",
       "      <td>0.0</td>\n",
       "      <td>...</td>\n",
       "      <td>0.0</td>\n",
       "      <td>0.0</td>\n",
       "      <td>0.0</td>\n",
       "      <td>0.0</td>\n",
       "      <td>0.0</td>\n",
       "      <td>0.0</td>\n",
       "      <td>0.0</td>\n",
       "      <td>0.0</td>\n",
       "      <td>64007.970000</td>\n",
       "      <td>0</td>\n",
       "    </tr>\n",
       "    <tr>\n",
       "      <th>4</th>\n",
       "      <td>10</td>\n",
       "      <td>2</td>\n",
       "      <td>39</td>\n",
       "      <td>0.0</td>\n",
       "      <td>0.0</td>\n",
       "      <td>0.0</td>\n",
       "      <td>0.0</td>\n",
       "      <td>0.0</td>\n",
       "      <td>0.0</td>\n",
       "      <td>0.0</td>\n",
       "      <td>...</td>\n",
       "      <td>0.0</td>\n",
       "      <td>0.0</td>\n",
       "      <td>0.0</td>\n",
       "      <td>0.0</td>\n",
       "      <td>0.0</td>\n",
       "      <td>0.0</td>\n",
       "      <td>0.0</td>\n",
       "      <td>0.0</td>\n",
       "      <td>117310.979016</td>\n",
       "      <td>0</td>\n",
       "    </tr>\n",
       "  </tbody>\n",
       "</table>\n",
       "<p>5 rows × 371 columns</p>\n",
       "</div>"
      ],
      "text/plain": [
       "   ID  var3  var15  imp_ent_var16_ult1  imp_op_var39_comer_ult1  \\\n",
       "0   1     2     23                 0.0                      0.0   \n",
       "1   3     2     34                 0.0                      0.0   \n",
       "2   4     2     23                 0.0                      0.0   \n",
       "3   8     2     37                 0.0                    195.0   \n",
       "4  10     2     39                 0.0                      0.0   \n",
       "\n",
       "   imp_op_var39_comer_ult3  imp_op_var40_comer_ult1  imp_op_var40_comer_ult3  \\\n",
       "0                      0.0                      0.0                      0.0   \n",
       "1                      0.0                      0.0                      0.0   \n",
       "2                      0.0                      0.0                      0.0   \n",
       "3                    195.0                      0.0                      0.0   \n",
       "4                      0.0                      0.0                      0.0   \n",
       "\n",
       "   imp_op_var40_efect_ult1  imp_op_var40_efect_ult3  ...  \\\n",
       "0                      0.0                      0.0  ...   \n",
       "1                      0.0                      0.0  ...   \n",
       "2                      0.0                      0.0  ...   \n",
       "3                      0.0                      0.0  ...   \n",
       "4                      0.0                      0.0  ...   \n",
       "\n",
       "   saldo_medio_var33_hace2  saldo_medio_var33_hace3  saldo_medio_var33_ult1  \\\n",
       "0                      0.0                      0.0                     0.0   \n",
       "1                      0.0                      0.0                     0.0   \n",
       "2                      0.0                      0.0                     0.0   \n",
       "3                      0.0                      0.0                     0.0   \n",
       "4                      0.0                      0.0                     0.0   \n",
       "\n",
       "   saldo_medio_var33_ult3  saldo_medio_var44_hace2  saldo_medio_var44_hace3  \\\n",
       "0                     0.0                      0.0                      0.0   \n",
       "1                     0.0                      0.0                      0.0   \n",
       "2                     0.0                      0.0                      0.0   \n",
       "3                     0.0                      0.0                      0.0   \n",
       "4                     0.0                      0.0                      0.0   \n",
       "\n",
       "   saldo_medio_var44_ult1  saldo_medio_var44_ult3          var38  TARGET  \n",
       "0                     0.0                     0.0   39205.170000       0  \n",
       "1                     0.0                     0.0   49278.030000       0  \n",
       "2                     0.0                     0.0   67333.770000       0  \n",
       "3                     0.0                     0.0   64007.970000       0  \n",
       "4                     0.0                     0.0  117310.979016       0  \n",
       "\n",
       "[5 rows x 371 columns]"
      ]
     },
     "execution_count": 2,
     "metadata": {},
     "output_type": "execute_result"
    }
   ],
   "source": [
    "DadosSantander = pd.read_csv('datasets/train.csv', sep = ',', encoding = 'latin-1', decimal = '.')\n",
    "DadosSantander.head()"
   ]
  },
  {
   "cell_type": "code",
   "execution_count": 3,
   "metadata": {},
   "outputs": [
    {
     "data": {
      "text/plain": [
       "(76020, 371)"
      ]
     },
     "execution_count": 3,
     "metadata": {},
     "output_type": "execute_result"
    }
   ],
   "source": [
    "DadosSantander.shape"
   ]
  },
  {
   "cell_type": "markdown",
   "metadata": {},
   "source": [
    "Ao todo o dataset possui 76020 registros com 371 colunas, são muitas informações que naturalmente precisarão ser filtradas, isto já indica que alguma técnica de seleção de variáveis e/ou componentes precisará ser usada para reduzir a dimensão do dataset, neste sentido precisaremos descobrir o que cada coluna representa."
   ]
  },
  {
   "cell_type": "markdown",
   "metadata": {},
   "source": [
    "## Análise Exploratória"
   ]
  },
  {
   "cell_type": "code",
   "execution_count": 4,
   "metadata": {
    "scrolled": true
   },
   "outputs": [
    {
     "name": "stdout",
     "output_type": "stream",
     "text": [
      "Var: ID Tipo: int64\n",
      "Var: var3 Tipo: int64\n",
      "Var: var15 Tipo: int64\n",
      "Var: imp_ent_var16_ult1 Tipo: float64\n",
      "Var: imp_op_var39_comer_ult1 Tipo: float64\n",
      "Var: imp_op_var39_comer_ult3 Tipo: float64\n",
      "Var: imp_op_var40_comer_ult1 Tipo: float64\n",
      "Var: imp_op_var40_comer_ult3 Tipo: float64\n",
      "Var: imp_op_var40_efect_ult1 Tipo: float64\n",
      "Var: imp_op_var40_efect_ult3 Tipo: float64\n",
      "Var: imp_op_var40_ult1 Tipo: float64\n",
      "Var: imp_op_var41_comer_ult1 Tipo: float64\n",
      "Var: imp_op_var41_comer_ult3 Tipo: float64\n",
      "Var: imp_op_var41_efect_ult1 Tipo: float64\n",
      "Var: imp_op_var41_efect_ult3 Tipo: float64\n",
      "Var: imp_op_var41_ult1 Tipo: float64\n",
      "Var: imp_op_var39_efect_ult1 Tipo: float64\n",
      "Var: imp_op_var39_efect_ult3 Tipo: float64\n",
      "Var: imp_op_var39_ult1 Tipo: float64\n",
      "Var: imp_sal_var16_ult1 Tipo: float64\n",
      "Var: ind_var1_0 Tipo: int64\n",
      "Var: ind_var1 Tipo: int64\n",
      "Var: ind_var2_0 Tipo: int64\n",
      "Var: ind_var2 Tipo: int64\n",
      "Var: ind_var5_0 Tipo: int64\n",
      "Var: ind_var5 Tipo: int64\n",
      "Var: ind_var6_0 Tipo: int64\n",
      "Var: ind_var6 Tipo: int64\n",
      "Var: ind_var8_0 Tipo: int64\n",
      "Var: ind_var8 Tipo: int64\n",
      "Var: ind_var12_0 Tipo: int64\n",
      "Var: ind_var12 Tipo: int64\n",
      "Var: ind_var13_0 Tipo: int64\n",
      "Var: ind_var13_corto_0 Tipo: int64\n",
      "Var: ind_var13_corto Tipo: int64\n",
      "Var: ind_var13_largo_0 Tipo: int64\n",
      "Var: ind_var13_largo Tipo: int64\n",
      "Var: ind_var13_medio_0 Tipo: int64\n",
      "Var: ind_var13_medio Tipo: int64\n",
      "Var: ind_var13 Tipo: int64\n",
      "Var: ind_var14_0 Tipo: int64\n",
      "Var: ind_var14 Tipo: int64\n",
      "Var: ind_var17_0 Tipo: int64\n",
      "Var: ind_var17 Tipo: int64\n",
      "Var: ind_var18_0 Tipo: int64\n",
      "Var: ind_var18 Tipo: int64\n",
      "Var: ind_var19 Tipo: int64\n",
      "Var: ind_var20_0 Tipo: int64\n",
      "Var: ind_var20 Tipo: int64\n",
      "Var: ind_var24_0 Tipo: int64\n",
      "Var: ind_var24 Tipo: int64\n",
      "Var: ind_var25_cte Tipo: int64\n",
      "Var: ind_var26_0 Tipo: int64\n",
      "Var: ind_var26_cte Tipo: int64\n",
      "Var: ind_var26 Tipo: int64\n",
      "Var: ind_var25_0 Tipo: int64\n",
      "Var: ind_var25 Tipo: int64\n",
      "Var: ind_var27_0 Tipo: int64\n",
      "Var: ind_var28_0 Tipo: int64\n",
      "Var: ind_var28 Tipo: int64\n",
      "Var: ind_var27 Tipo: int64\n",
      "Var: ind_var29_0 Tipo: int64\n",
      "Var: ind_var29 Tipo: int64\n",
      "Var: ind_var30_0 Tipo: int64\n",
      "Var: ind_var30 Tipo: int64\n",
      "Var: ind_var31_0 Tipo: int64\n",
      "Var: ind_var31 Tipo: int64\n",
      "Var: ind_var32_cte Tipo: int64\n",
      "Var: ind_var32_0 Tipo: int64\n",
      "Var: ind_var32 Tipo: int64\n",
      "Var: ind_var33_0 Tipo: int64\n",
      "Var: ind_var33 Tipo: int64\n",
      "Var: ind_var34_0 Tipo: int64\n",
      "Var: ind_var34 Tipo: int64\n",
      "Var: ind_var37_cte Tipo: int64\n",
      "Var: ind_var37_0 Tipo: int64\n",
      "Var: ind_var37 Tipo: int64\n",
      "Var: ind_var39_0 Tipo: int64\n",
      "Var: ind_var40_0 Tipo: int64\n",
      "Var: ind_var40 Tipo: int64\n",
      "Var: ind_var41_0 Tipo: int64\n",
      "Var: ind_var41 Tipo: int64\n",
      "Var: ind_var39 Tipo: int64\n",
      "Var: ind_var44_0 Tipo: int64\n",
      "Var: ind_var44 Tipo: int64\n",
      "Var: ind_var46_0 Tipo: int64\n",
      "Var: ind_var46 Tipo: int64\n",
      "Var: num_var1_0 Tipo: int64\n",
      "Var: num_var1 Tipo: int64\n",
      "Var: num_var4 Tipo: int64\n",
      "Var: num_var5_0 Tipo: int64\n",
      "Var: num_var5 Tipo: int64\n",
      "Var: num_var6_0 Tipo: int64\n",
      "Var: num_var6 Tipo: int64\n",
      "Var: num_var8_0 Tipo: int64\n",
      "Var: num_var8 Tipo: int64\n",
      "Var: num_var12_0 Tipo: int64\n",
      "Var: num_var12 Tipo: int64\n",
      "Var: num_var13_0 Tipo: int64\n",
      "Var: num_var13_corto_0 Tipo: int64\n",
      "Var: num_var13_corto Tipo: int64\n",
      "Var: num_var13_largo_0 Tipo: int64\n",
      "Var: num_var13_largo Tipo: int64\n",
      "Var: num_var13_medio_0 Tipo: int64\n",
      "Var: num_var13_medio Tipo: int64\n",
      "Var: num_var13 Tipo: int64\n",
      "Var: num_var14_0 Tipo: int64\n",
      "Var: num_var14 Tipo: int64\n",
      "Var: num_var17_0 Tipo: int64\n",
      "Var: num_var17 Tipo: int64\n",
      "Var: num_var18_0 Tipo: int64\n",
      "Var: num_var18 Tipo: int64\n",
      "Var: num_var20_0 Tipo: int64\n",
      "Var: num_var20 Tipo: int64\n",
      "Var: num_var24_0 Tipo: int64\n",
      "Var: num_var24 Tipo: int64\n",
      "Var: num_var26_0 Tipo: int64\n",
      "Var: num_var26 Tipo: int64\n",
      "Var: num_var25_0 Tipo: int64\n",
      "Var: num_var25 Tipo: int64\n",
      "Var: num_op_var40_hace2 Tipo: int64\n",
      "Var: num_op_var40_hace3 Tipo: int64\n",
      "Var: num_op_var40_ult1 Tipo: int64\n",
      "Var: num_op_var40_ult3 Tipo: int64\n",
      "Var: num_op_var41_hace2 Tipo: int64\n",
      "Var: num_op_var41_hace3 Tipo: int64\n",
      "Var: num_op_var41_ult1 Tipo: int64\n",
      "Var: num_op_var41_ult3 Tipo: int64\n",
      "Var: num_op_var39_hace2 Tipo: int64\n",
      "Var: num_op_var39_hace3 Tipo: int64\n",
      "Var: num_op_var39_ult1 Tipo: int64\n",
      "Var: num_op_var39_ult3 Tipo: int64\n",
      "Var: num_var27_0 Tipo: int64\n",
      "Var: num_var28_0 Tipo: int64\n",
      "Var: num_var28 Tipo: int64\n",
      "Var: num_var27 Tipo: int64\n",
      "Var: num_var29_0 Tipo: int64\n",
      "Var: num_var29 Tipo: int64\n",
      "Var: num_var30_0 Tipo: int64\n",
      "Var: num_var30 Tipo: int64\n",
      "Var: num_var31_0 Tipo: int64\n",
      "Var: num_var31 Tipo: int64\n",
      "Var: num_var32_0 Tipo: int64\n",
      "Var: num_var32 Tipo: int64\n",
      "Var: num_var33_0 Tipo: int64\n",
      "Var: num_var33 Tipo: int64\n",
      "Var: num_var34_0 Tipo: int64\n",
      "Var: num_var34 Tipo: int64\n",
      "Var: num_var35 Tipo: int64\n",
      "Var: num_var37_med_ult2 Tipo: int64\n",
      "Var: num_var37_0 Tipo: int64\n",
      "Var: num_var37 Tipo: int64\n",
      "Var: num_var39_0 Tipo: int64\n",
      "Var: num_var40_0 Tipo: int64\n",
      "Var: num_var40 Tipo: int64\n",
      "Var: num_var41_0 Tipo: int64\n",
      "Var: num_var41 Tipo: int64\n",
      "Var: num_var39 Tipo: int64\n",
      "Var: num_var42_0 Tipo: int64\n",
      "Var: num_var42 Tipo: int64\n",
      "Var: num_var44_0 Tipo: int64\n",
      "Var: num_var44 Tipo: int64\n",
      "Var: num_var46_0 Tipo: int64\n",
      "Var: num_var46 Tipo: int64\n",
      "Var: saldo_var1 Tipo: float64\n",
      "Var: saldo_var5 Tipo: float64\n",
      "Var: saldo_var6 Tipo: float64\n",
      "Var: saldo_var8 Tipo: float64\n",
      "Var: saldo_var12 Tipo: float64\n",
      "Var: saldo_var13_corto Tipo: float64\n",
      "Var: saldo_var13_largo Tipo: float64\n",
      "Var: saldo_var13_medio Tipo: int64\n",
      "Var: saldo_var13 Tipo: float64\n",
      "Var: saldo_var14 Tipo: float64\n",
      "Var: saldo_var17 Tipo: float64\n",
      "Var: saldo_var18 Tipo: int64\n",
      "Var: saldo_var20 Tipo: float64\n",
      "Var: saldo_var24 Tipo: float64\n",
      "Var: saldo_var26 Tipo: float64\n",
      "Var: saldo_var25 Tipo: float64\n",
      "Var: saldo_var28 Tipo: int64\n",
      "Var: saldo_var27 Tipo: int64\n",
      "Var: saldo_var29 Tipo: float64\n",
      "Var: saldo_var30 Tipo: float64\n",
      "Var: saldo_var31 Tipo: float64\n",
      "Var: saldo_var32 Tipo: float64\n",
      "Var: saldo_var33 Tipo: float64\n",
      "Var: saldo_var34 Tipo: int64\n",
      "Var: saldo_var37 Tipo: float64\n",
      "Var: saldo_var40 Tipo: float64\n",
      "Var: saldo_var41 Tipo: int64\n",
      "Var: saldo_var42 Tipo: float64\n",
      "Var: saldo_var44 Tipo: float64\n",
      "Var: saldo_var46 Tipo: int64\n",
      "Var: var36 Tipo: int64\n",
      "Var: delta_imp_amort_var18_1y3 Tipo: int64\n",
      "Var: delta_imp_amort_var34_1y3 Tipo: int64\n",
      "Var: delta_imp_aport_var13_1y3 Tipo: float64\n",
      "Var: delta_imp_aport_var17_1y3 Tipo: float64\n",
      "Var: delta_imp_aport_var33_1y3 Tipo: float64\n",
      "Var: delta_imp_compra_var44_1y3 Tipo: float64\n",
      "Var: delta_imp_reemb_var13_1y3 Tipo: int64\n",
      "Var: delta_imp_reemb_var17_1y3 Tipo: int64\n",
      "Var: delta_imp_reemb_var33_1y3 Tipo: int64\n",
      "Var: delta_imp_trasp_var17_in_1y3 Tipo: int64\n",
      "Var: delta_imp_trasp_var17_out_1y3 Tipo: int64\n",
      "Var: delta_imp_trasp_var33_in_1y3 Tipo: int64\n",
      "Var: delta_imp_trasp_var33_out_1y3 Tipo: int64\n",
      "Var: delta_imp_venta_var44_1y3 Tipo: float64\n",
      "Var: delta_num_aport_var13_1y3 Tipo: float64\n",
      "Var: delta_num_aport_var17_1y3 Tipo: float64\n",
      "Var: delta_num_aport_var33_1y3 Tipo: float64\n",
      "Var: delta_num_compra_var44_1y3 Tipo: float64\n",
      "Var: delta_num_reemb_var13_1y3 Tipo: int64\n",
      "Var: delta_num_reemb_var17_1y3 Tipo: int64\n",
      "Var: delta_num_reemb_var33_1y3 Tipo: int64\n",
      "Var: delta_num_trasp_var17_in_1y3 Tipo: int64\n",
      "Var: delta_num_trasp_var17_out_1y3 Tipo: int64\n",
      "Var: delta_num_trasp_var33_in_1y3 Tipo: int64\n",
      "Var: delta_num_trasp_var33_out_1y3 Tipo: int64\n",
      "Var: delta_num_venta_var44_1y3 Tipo: float64\n",
      "Var: imp_amort_var18_hace3 Tipo: int64\n",
      "Var: imp_amort_var18_ult1 Tipo: float64\n",
      "Var: imp_amort_var34_hace3 Tipo: int64\n",
      "Var: imp_amort_var34_ult1 Tipo: float64\n",
      "Var: imp_aport_var13_hace3 Tipo: float64\n",
      "Var: imp_aport_var13_ult1 Tipo: float64\n",
      "Var: imp_aport_var17_hace3 Tipo: float64\n",
      "Var: imp_aport_var17_ult1 Tipo: float64\n",
      "Var: imp_aport_var33_hace3 Tipo: int64\n",
      "Var: imp_aport_var33_ult1 Tipo: int64\n",
      "Var: imp_var7_emit_ult1 Tipo: float64\n",
      "Var: imp_var7_recib_ult1 Tipo: float64\n",
      "Var: imp_compra_var44_hace3 Tipo: float64\n",
      "Var: imp_compra_var44_ult1 Tipo: float64\n",
      "Var: imp_reemb_var13_hace3 Tipo: int64\n",
      "Var: imp_reemb_var13_ult1 Tipo: float64\n",
      "Var: imp_reemb_var17_hace3 Tipo: float64\n",
      "Var: imp_reemb_var17_ult1 Tipo: float64\n",
      "Var: imp_reemb_var33_hace3 Tipo: int64\n",
      "Var: imp_reemb_var33_ult1 Tipo: int64\n",
      "Var: imp_var43_emit_ult1 Tipo: float64\n",
      "Var: imp_trans_var37_ult1 Tipo: float64\n",
      "Var: imp_trasp_var17_in_hace3 Tipo: float64\n",
      "Var: imp_trasp_var17_in_ult1 Tipo: float64\n",
      "Var: imp_trasp_var17_out_hace3 Tipo: int64\n",
      "Var: imp_trasp_var17_out_ult1 Tipo: float64\n",
      "Var: imp_trasp_var33_in_hace3 Tipo: float64\n",
      "Var: imp_trasp_var33_in_ult1 Tipo: float64\n",
      "Var: imp_trasp_var33_out_hace3 Tipo: int64\n",
      "Var: imp_trasp_var33_out_ult1 Tipo: int64\n",
      "Var: imp_venta_var44_hace3 Tipo: float64\n",
      "Var: imp_venta_var44_ult1 Tipo: float64\n",
      "Var: ind_var7_emit_ult1 Tipo: int64\n",
      "Var: ind_var7_recib_ult1 Tipo: int64\n",
      "Var: ind_var10_ult1 Tipo: int64\n",
      "Var: ind_var10cte_ult1 Tipo: int64\n",
      "Var: ind_var9_cte_ult1 Tipo: int64\n",
      "Var: ind_var9_ult1 Tipo: int64\n",
      "Var: ind_var43_emit_ult1 Tipo: int64\n",
      "Var: ind_var43_recib_ult1 Tipo: int64\n",
      "Var: var21 Tipo: int64\n",
      "Var: num_var2_0_ult1 Tipo: int64\n",
      "Var: num_var2_ult1 Tipo: int64\n",
      "Var: num_aport_var13_hace3 Tipo: int64\n",
      "Var: num_aport_var13_ult1 Tipo: int64\n",
      "Var: num_aport_var17_hace3 Tipo: int64\n",
      "Var: num_aport_var17_ult1 Tipo: int64\n",
      "Var: num_aport_var33_hace3 Tipo: int64\n",
      "Var: num_aport_var33_ult1 Tipo: int64\n",
      "Var: num_var7_emit_ult1 Tipo: int64\n",
      "Var: num_var7_recib_ult1 Tipo: int64\n",
      "Var: num_compra_var44_hace3 Tipo: int64\n",
      "Var: num_compra_var44_ult1 Tipo: int64\n",
      "Var: num_ent_var16_ult1 Tipo: int64\n",
      "Var: num_var22_hace2 Tipo: int64\n",
      "Var: num_var22_hace3 Tipo: int64\n",
      "Var: num_var22_ult1 Tipo: int64\n",
      "Var: num_var22_ult3 Tipo: int64\n",
      "Var: num_med_var22_ult3 Tipo: int64\n",
      "Var: num_med_var45_ult3 Tipo: int64\n",
      "Var: num_meses_var5_ult3 Tipo: int64\n",
      "Var: num_meses_var8_ult3 Tipo: int64\n",
      "Var: num_meses_var12_ult3 Tipo: int64\n",
      "Var: num_meses_var13_corto_ult3 Tipo: int64\n",
      "Var: num_meses_var13_largo_ult3 Tipo: int64\n",
      "Var: num_meses_var13_medio_ult3 Tipo: int64\n",
      "Var: num_meses_var17_ult3 Tipo: int64\n",
      "Var: num_meses_var29_ult3 Tipo: int64\n",
      "Var: num_meses_var33_ult3 Tipo: int64\n",
      "Var: num_meses_var39_vig_ult3 Tipo: int64\n",
      "Var: num_meses_var44_ult3 Tipo: int64\n",
      "Var: num_op_var39_comer_ult1 Tipo: int64\n",
      "Var: num_op_var39_comer_ult3 Tipo: int64\n",
      "Var: num_op_var40_comer_ult1 Tipo: int64\n",
      "Var: num_op_var40_comer_ult3 Tipo: int64\n",
      "Var: num_op_var40_efect_ult1 Tipo: int64\n",
      "Var: num_op_var40_efect_ult3 Tipo: int64\n",
      "Var: num_op_var41_comer_ult1 Tipo: int64\n",
      "Var: num_op_var41_comer_ult3 Tipo: int64\n",
      "Var: num_op_var41_efect_ult1 Tipo: int64\n",
      "Var: num_op_var41_efect_ult3 Tipo: int64\n",
      "Var: num_op_var39_efect_ult1 Tipo: int64\n",
      "Var: num_op_var39_efect_ult3 Tipo: int64\n",
      "Var: num_reemb_var13_hace3 Tipo: int64\n",
      "Var: num_reemb_var13_ult1 Tipo: int64\n",
      "Var: num_reemb_var17_hace3 Tipo: int64\n",
      "Var: num_reemb_var17_ult1 Tipo: int64\n",
      "Var: num_reemb_var33_hace3 Tipo: int64\n",
      "Var: num_reemb_var33_ult1 Tipo: int64\n",
      "Var: num_sal_var16_ult1 Tipo: int64\n",
      "Var: num_var43_emit_ult1 Tipo: int64\n",
      "Var: num_var43_recib_ult1 Tipo: int64\n",
      "Var: num_trasp_var11_ult1 Tipo: int64\n",
      "Var: num_trasp_var17_in_hace3 Tipo: int64\n",
      "Var: num_trasp_var17_in_ult1 Tipo: int64\n",
      "Var: num_trasp_var17_out_hace3 Tipo: int64\n",
      "Var: num_trasp_var17_out_ult1 Tipo: int64\n",
      "Var: num_trasp_var33_in_hace3 Tipo: int64\n",
      "Var: num_trasp_var33_in_ult1 Tipo: int64\n",
      "Var: num_trasp_var33_out_hace3 Tipo: int64\n",
      "Var: num_trasp_var33_out_ult1 Tipo: int64\n",
      "Var: num_venta_var44_hace3 Tipo: int64\n",
      "Var: num_venta_var44_ult1 Tipo: int64\n",
      "Var: num_var45_hace2 Tipo: int64\n",
      "Var: num_var45_hace3 Tipo: int64\n",
      "Var: num_var45_ult1 Tipo: int64\n",
      "Var: num_var45_ult3 Tipo: int64\n",
      "Var: saldo_var2_ult1 Tipo: int64\n",
      "Var: saldo_medio_var5_hace2 Tipo: float64\n",
      "Var: saldo_medio_var5_hace3 Tipo: float64\n",
      "Var: saldo_medio_var5_ult1 Tipo: float64\n",
      "Var: saldo_medio_var5_ult3 Tipo: float64\n",
      "Var: saldo_medio_var8_hace2 Tipo: float64\n",
      "Var: saldo_medio_var8_hace3 Tipo: float64\n",
      "Var: saldo_medio_var8_ult1 Tipo: float64\n",
      "Var: saldo_medio_var8_ult3 Tipo: float64\n",
      "Var: saldo_medio_var12_hace2 Tipo: float64\n",
      "Var: saldo_medio_var12_hace3 Tipo: float64\n",
      "Var: saldo_medio_var12_ult1 Tipo: float64\n",
      "Var: saldo_medio_var12_ult3 Tipo: float64\n",
      "Var: saldo_medio_var13_corto_hace2 Tipo: float64\n",
      "Var: saldo_medio_var13_corto_hace3 Tipo: float64\n",
      "Var: saldo_medio_var13_corto_ult1 Tipo: float64\n",
      "Var: saldo_medio_var13_corto_ult3 Tipo: float64\n",
      "Var: saldo_medio_var13_largo_hace2 Tipo: float64\n",
      "Var: saldo_medio_var13_largo_hace3 Tipo: float64\n",
      "Var: saldo_medio_var13_largo_ult1 Tipo: float64\n",
      "Var: saldo_medio_var13_largo_ult3 Tipo: float64\n",
      "Var: saldo_medio_var13_medio_hace2 Tipo: float64\n",
      "Var: saldo_medio_var13_medio_hace3 Tipo: int64\n",
      "Var: saldo_medio_var13_medio_ult1 Tipo: int64\n",
      "Var: saldo_medio_var13_medio_ult3 Tipo: float64\n",
      "Var: saldo_medio_var17_hace2 Tipo: float64\n",
      "Var: saldo_medio_var17_hace3 Tipo: float64\n",
      "Var: saldo_medio_var17_ult1 Tipo: float64\n",
      "Var: saldo_medio_var17_ult3 Tipo: float64\n",
      "Var: saldo_medio_var29_hace2 Tipo: float64\n",
      "Var: saldo_medio_var29_hace3 Tipo: float64\n",
      "Var: saldo_medio_var29_ult1 Tipo: float64\n",
      "Var: saldo_medio_var29_ult3 Tipo: float64\n",
      "Var: saldo_medio_var33_hace2 Tipo: float64\n",
      "Var: saldo_medio_var33_hace3 Tipo: float64\n",
      "Var: saldo_medio_var33_ult1 Tipo: float64\n",
      "Var: saldo_medio_var33_ult3 Tipo: float64\n",
      "Var: saldo_medio_var44_hace2 Tipo: float64\n",
      "Var: saldo_medio_var44_hace3 Tipo: float64\n",
      "Var: saldo_medio_var44_ult1 Tipo: float64\n",
      "Var: saldo_medio_var44_ult3 Tipo: float64\n",
      "Var: var38 Tipo: float64\n",
      "Var: TARGET Tipo: int64\n"
     ]
    }
   ],
   "source": [
    "# Verificando o nome e tipo das variáveis \n",
    "for col in DadosSantander.columns:\n",
    "    print('Var: ' + str(col) + ' Tipo: ' + str(DadosSantander[col].dtype))"
   ]
  },
  {
   "cell_type": "markdown",
   "metadata": {},
   "source": [
    "A variável TARGET é a nossa variável alvo (a ser predita), o valor '0' representa os clientes satisfeitos e o valor '1' os clientes insatisfeitos, vamos verificar a proporção dos valores desta variável no dataset."
   ]
  },
  {
   "cell_type": "code",
   "execution_count": 5,
   "metadata": {},
   "outputs": [
    {
     "name": "stdout",
     "output_type": "stream",
     "text": [
      "Consumidores Insatisfeitos: 3008\n",
      "Consumidores Satisfeitos: 73012\n",
      "\n"
     ]
    },
    {
     "data": {
      "image/png": "[encoded data removed]",
      "text/plain": [
       "<Figure size 360x360 with 1 Axes>"
      ]
     },
     "metadata": {
      "needs_background": "light"
     },
     "output_type": "display_data"
    }
   ],
   "source": [
    "h=500\n",
    "size=(5,5)\n",
    "\n",
    "plt.figure(figsize=size)\n",
    "ax = sns.countplot(x='TARGET',data=DadosSantander)\n",
    "total = DadosSantander.shape[0]\n",
    "\n",
    "for p in ax.patches:\n",
    "    height = p.get_height()\n",
    "    ax.text(p.get_x()+p.get_width()/2.,\n",
    "            height + h,\n",
    "           '{:1.2f}%'.format(height*100/total),\n",
    "           ha=\"center\") \n",
    "plt.title(\"Distribuicao da variavel TARGET\")\n",
    "target_1 = DadosSantander[DadosSantander['TARGET']==1].shape[0]\n",
    "target_0 = DadosSantander[DadosSantander['TARGET']==0].shape[0]\n",
    "print(\"Consumidores Insatisfeitos: %i\"%(target_1))\n",
    "print(\"Consumidores Satisfeitos: %i\"%(target_0))\n",
    "print('')\n",
    "plt.show()"
   ]
  },
  {
   "cell_type": "markdown",
   "metadata": {},
   "source": [
    "As classes estão desbalanceadas, o que pode levar a interpretações equivocadas no modelo, por exemplo se o modelo que criarmos predizer que todos os valores são '0' (um simples operador \"IF\" poderia fazer isto), ele acertaria mais de 70%, atingindo o nosso critério inicial, mesmo assim ele não seria um bom modelo, pois não conseguiria prever os clientes insatisfeitos. Diante deste cenário poderíamos aplicar alguma técnica para balancear os dados ou ainda, ao aferir os resultados do modelo trazer a métrica AUC que permite determinar se um modelo é bom em distinguir ambas as classes."
   ]
  },
  {
   "cell_type": "markdown",
   "metadata": {},
   "source": [
    "Em relação ao elevado número de colunas (370) excluindo a variável alvo, precisaremos explorar os dados para ir reduzindo o dataset, uma primeira tarefa nestes casos é comecar a redução pelas colunas que possuam variância igual a 0, isto é não possuem informação relevante, possuem apenas 1 único valor."
   ]
  },
  {
   "cell_type": "code",
   "execution_count": 6,
   "metadata": {},
   "outputs": [
    {
     "data": {
      "text/plain": [
       "(76020, 337)"
      ]
     },
     "execution_count": 6,
     "metadata": {},
     "output_type": "execute_result"
    }
   ],
   "source": [
    "# Copia o dataset original para um novo dataset\n",
    "dados_0 = DadosSantander\n",
    "i = 0\n",
    "\n",
    "# Remove os dados com variância igual a 0\n",
    "for col in dados_0.columns:\n",
    "    if dados_0[col].var() == 0:\n",
    "        del dados_0[col]\n",
    "dados_0.shape"
   ]
  },
  {
   "cell_type": "markdown",
   "metadata": {},
   "source": [
    "De 370 colunas, agora temos 336, o que é um número alto ainda,  seguindo o que foi mostrado no portal <a href=\"https://towardsdatascience.com/santander-customer-satisfaction-a-self-case-study-using-python-5776d3f8b060\">Towards Data Science</a> vamos remover as colunas que possuem os mesmos valores, mas não possuem o mesmo nome."
   ]
  },
  {
   "cell_type": "code",
   "execution_count": 7,
   "metadata": {},
   "outputs": [
    {
     "data": {
      "text/plain": [
       "(76020, 308)"
      ]
     },
     "execution_count": 7,
     "metadata": {},
     "output_type": "execute_result"
    }
   ],
   "source": [
    "# Obtendo todas as combinações de colunas\n",
    "comb = list(combinations(dados_0.columns,2))\n",
    "remove=[]\n",
    "\n",
    "# Encontrando e adicionando a lista \"remove\" todas as colunas com os mesmos valores, mas que não possuem o mesmo nome.\n",
    "for f1,f2 in comb:\n",
    "    if (f1 not in remove) & (f2 not in remove):\n",
    "        if dados_0[f1].equals(dados_0[f2]):\n",
    "            remove.append(f1)\n",
    "            \n",
    "dados_0.drop(remove,axis=1,inplace=True)\n",
    "dados_0.shape"
   ]
  },
  {
   "cell_type": "markdown",
   "metadata": {},
   "source": [
    "Agora de 336 passamos a 307 colunas, seguindo o processo de remoção, vamos remover as variáveis esparsas, estas por sua vez são colunas com poucas informações, como por exemplo as colunas que possuem o percentil em 99% representando o valor 0 (quase todos os dados são 0)."
   ]
  },
  {
   "cell_type": "code",
   "execution_count": 8,
   "metadata": {},
   "outputs": [
    {
     "data": {
      "text/plain": [
       "(76020, 143)"
      ]
     },
     "execution_count": 8,
     "metadata": {},
     "output_type": "execute_result"
    }
   ],
   "source": [
    "perc = 99\n",
    "\n",
    "for col in dados_0.columns: #reomving all sparse features\n",
    "    if np.percentile(dados_0[col], perc)==0:\n",
    "        del dados_0[col]\n",
    "\n",
    "dados_0.shape"
   ]
  },
  {
   "cell_type": "markdown",
   "metadata": {},
   "source": [
    "Finalmente, apenas neste processo de remoção de variáveis que nada estavam acrescentando ao dataset, ficamos com 142 recursos, o que ainda é bastante, mas que representa uma redução de aproximadamente 62% em relação aos dados originais."
   ]
  },
  {
   "cell_type": "markdown",
   "metadata": {},
   "source": [
    "Uma vez que analisamos o dataset em termos de colunas, vamps analisá-lo em termos dos registros, verificando se há registros duplicados ou valores NA."
   ]
  },
  {
   "cell_type": "code",
   "execution_count": 9,
   "metadata": {},
   "outputs": [
    {
     "data": {
      "text/plain": [
       "0"
      ]
     },
     "execution_count": 9,
     "metadata": {},
     "output_type": "execute_result"
    }
   ],
   "source": [
    "dados_0.duplicated().sum()"
   ]
  },
  {
   "cell_type": "code",
   "execution_count": 10,
   "metadata": {},
   "outputs": [
    {
     "data": {
      "text/plain": [
       "0"
      ]
     },
     "execution_count": 10,
     "metadata": {},
     "output_type": "execute_result"
    }
   ],
   "source": [
    "dados_0.isna().sum().sum()"
   ]
  },
  {
   "cell_type": "markdown",
   "metadata": {},
   "source": [
    "Maravilha! Não há registros duplicados e nem valores NA, vamos voltar a analisar o nome das variáveis que restaram."
   ]
  },
  {
   "cell_type": "code",
   "execution_count": 11,
   "metadata": {},
   "outputs": [
    {
     "name": "stdout",
     "output_type": "stream",
     "text": [
      "Var: ID Tipo: int64\n",
      "Var: var3 Tipo: int64\n",
      "Var: var15 Tipo: int64\n",
      "Var: imp_ent_var16_ult1 Tipo: float64\n",
      "Var: imp_op_var39_comer_ult1 Tipo: float64\n",
      "Var: imp_op_var39_comer_ult3 Tipo: float64\n",
      "Var: imp_op_var41_comer_ult1 Tipo: float64\n",
      "Var: imp_op_var41_comer_ult3 Tipo: float64\n",
      "Var: imp_op_var41_efect_ult1 Tipo: float64\n",
      "Var: imp_op_var41_efect_ult3 Tipo: float64\n",
      "Var: imp_op_var41_ult1 Tipo: float64\n",
      "Var: imp_op_var39_efect_ult1 Tipo: float64\n",
      "Var: imp_op_var39_efect_ult3 Tipo: float64\n",
      "Var: imp_op_var39_ult1 Tipo: float64\n",
      "Var: ind_var1_0 Tipo: int64\n",
      "Var: ind_var5_0 Tipo: int64\n",
      "Var: ind_var5 Tipo: int64\n",
      "Var: ind_var8_0 Tipo: int64\n",
      "Var: ind_var8 Tipo: int64\n",
      "Var: ind_var12_0 Tipo: int64\n",
      "Var: ind_var12 Tipo: int64\n",
      "Var: ind_var13_0 Tipo: int64\n",
      "Var: ind_var13_corto_0 Tipo: int64\n",
      "Var: ind_var13_corto Tipo: int64\n",
      "Var: ind_var13_largo_0 Tipo: int64\n",
      "Var: ind_var13 Tipo: int64\n",
      "Var: ind_var14_0 Tipo: int64\n",
      "Var: ind_var24_0 Tipo: int64\n",
      "Var: ind_var24 Tipo: int64\n",
      "Var: ind_var25_cte Tipo: int64\n",
      "Var: ind_var26_cte Tipo: int64\n",
      "Var: ind_var26 Tipo: int64\n",
      "Var: ind_var25 Tipo: int64\n",
      "Var: ind_var30_0 Tipo: int64\n",
      "Var: ind_var30 Tipo: int64\n",
      "Var: ind_var37_cte Tipo: int64\n",
      "Var: ind_var37 Tipo: int64\n",
      "Var: ind_var39_0 Tipo: int64\n",
      "Var: ind_var40_0 Tipo: int64\n",
      "Var: ind_var41_0 Tipo: int64\n",
      "Var: num_var1_0 Tipo: int64\n",
      "Var: num_var4 Tipo: int64\n",
      "Var: num_var5_0 Tipo: int64\n",
      "Var: num_var5 Tipo: int64\n",
      "Var: num_var8_0 Tipo: int64\n",
      "Var: num_var8 Tipo: int64\n",
      "Var: num_var12_0 Tipo: int64\n",
      "Var: num_var12 Tipo: int64\n",
      "Var: num_var13_0 Tipo: int64\n",
      "Var: num_var13_corto_0 Tipo: int64\n",
      "Var: num_var13_corto Tipo: int64\n",
      "Var: num_var13_largo_0 Tipo: int64\n",
      "Var: num_var13 Tipo: int64\n",
      "Var: num_var14_0 Tipo: int64\n",
      "Var: num_var24_0 Tipo: int64\n",
      "Var: num_var24 Tipo: int64\n",
      "Var: num_var26 Tipo: int64\n",
      "Var: num_var25 Tipo: int64\n",
      "Var: num_op_var41_hace2 Tipo: int64\n",
      "Var: num_op_var41_hace3 Tipo: int64\n",
      "Var: num_op_var41_ult1 Tipo: int64\n",
      "Var: num_op_var41_ult3 Tipo: int64\n",
      "Var: num_op_var39_hace2 Tipo: int64\n",
      "Var: num_op_var39_hace3 Tipo: int64\n",
      "Var: num_op_var39_ult1 Tipo: int64\n",
      "Var: num_op_var39_ult3 Tipo: int64\n",
      "Var: num_var30_0 Tipo: int64\n",
      "Var: num_var30 Tipo: int64\n",
      "Var: num_var35 Tipo: int64\n",
      "Var: num_var37_med_ult2 Tipo: int64\n",
      "Var: num_var37 Tipo: int64\n",
      "Var: num_var39_0 Tipo: int64\n",
      "Var: num_var40_0 Tipo: int64\n",
      "Var: num_var41_0 Tipo: int64\n",
      "Var: num_var42_0 Tipo: int64\n",
      "Var: num_var42 Tipo: int64\n",
      "Var: saldo_var5 Tipo: float64\n",
      "Var: saldo_var8 Tipo: float64\n",
      "Var: saldo_var12 Tipo: float64\n",
      "Var: saldo_var13_corto Tipo: float64\n",
      "Var: saldo_var13 Tipo: float64\n",
      "Var: saldo_var24 Tipo: float64\n",
      "Var: saldo_var26 Tipo: float64\n",
      "Var: saldo_var25 Tipo: float64\n",
      "Var: saldo_var30 Tipo: float64\n",
      "Var: saldo_var37 Tipo: float64\n",
      "Var: saldo_var42 Tipo: float64\n",
      "Var: var36 Tipo: int64\n",
      "Var: imp_aport_var13_hace3 Tipo: float64\n",
      "Var: imp_var43_emit_ult1 Tipo: float64\n",
      "Var: imp_trans_var37_ult1 Tipo: float64\n",
      "Var: ind_var10_ult1 Tipo: int64\n",
      "Var: ind_var10cte_ult1 Tipo: int64\n",
      "Var: ind_var9_cte_ult1 Tipo: int64\n",
      "Var: ind_var9_ult1 Tipo: int64\n",
      "Var: ind_var43_emit_ult1 Tipo: int64\n",
      "Var: ind_var43_recib_ult1 Tipo: int64\n",
      "Var: var21 Tipo: int64\n",
      "Var: num_aport_var13_hace3 Tipo: int64\n",
      "Var: num_ent_var16_ult1 Tipo: int64\n",
      "Var: num_var22_hace2 Tipo: int64\n",
      "Var: num_var22_hace3 Tipo: int64\n",
      "Var: num_var22_ult1 Tipo: int64\n",
      "Var: num_var22_ult3 Tipo: int64\n",
      "Var: num_med_var22_ult3 Tipo: int64\n",
      "Var: num_med_var45_ult3 Tipo: int64\n",
      "Var: num_meses_var5_ult3 Tipo: int64\n",
      "Var: num_meses_var8_ult3 Tipo: int64\n",
      "Var: num_meses_var12_ult3 Tipo: int64\n",
      "Var: num_meses_var13_corto_ult3 Tipo: int64\n",
      "Var: num_meses_var39_vig_ult3 Tipo: int64\n",
      "Var: num_op_var39_comer_ult1 Tipo: int64\n",
      "Var: num_op_var39_comer_ult3 Tipo: int64\n",
      "Var: num_op_var41_comer_ult1 Tipo: int64\n",
      "Var: num_op_var41_comer_ult3 Tipo: int64\n",
      "Var: num_op_var41_efect_ult1 Tipo: int64\n",
      "Var: num_op_var41_efect_ult3 Tipo: int64\n",
      "Var: num_op_var39_efect_ult1 Tipo: int64\n",
      "Var: num_op_var39_efect_ult3 Tipo: int64\n",
      "Var: num_var43_emit_ult1 Tipo: int64\n",
      "Var: num_var43_recib_ult1 Tipo: int64\n",
      "Var: num_trasp_var11_ult1 Tipo: int64\n",
      "Var: num_var45_hace2 Tipo: int64\n",
      "Var: num_var45_hace3 Tipo: int64\n",
      "Var: num_var45_ult1 Tipo: int64\n",
      "Var: num_var45_ult3 Tipo: int64\n",
      "Var: saldo_medio_var5_hace2 Tipo: float64\n",
      "Var: saldo_medio_var5_hace3 Tipo: float64\n",
      "Var: saldo_medio_var5_ult1 Tipo: float64\n",
      "Var: saldo_medio_var5_ult3 Tipo: float64\n",
      "Var: saldo_medio_var8_hace2 Tipo: float64\n",
      "Var: saldo_medio_var8_ult1 Tipo: float64\n",
      "Var: saldo_medio_var8_ult3 Tipo: float64\n",
      "Var: saldo_medio_var12_hace2 Tipo: float64\n",
      "Var: saldo_medio_var12_hace3 Tipo: float64\n",
      "Var: saldo_medio_var12_ult1 Tipo: float64\n",
      "Var: saldo_medio_var12_ult3 Tipo: float64\n",
      "Var: saldo_medio_var13_corto_hace2 Tipo: float64\n",
      "Var: saldo_medio_var13_corto_hace3 Tipo: float64\n",
      "Var: saldo_medio_var13_corto_ult1 Tipo: float64\n",
      "Var: saldo_medio_var13_corto_ult3 Tipo: float64\n",
      "Var: var38 Tipo: float64\n",
      "Var: TARGET Tipo: int64\n"
     ]
    }
   ],
   "source": [
    "# Verificando o nome e tipo das variáveis \n",
    "for col in dados_0.columns:\n",
    "    print('Var: ' + str(col) + ' Tipo: ' + str(dados_0[col].dtype))"
   ]
  },
  {
   "cell_type": "markdown",
   "metadata": {},
   "source": [
    "Há muitas variáveis com sufixos \"imp\", \"ind\", \"num\", \"saldo\", etc, e também existem algumas variáveis chamadas \"var\", não há na página da competição no Kaggle uma definição clara (ou um dicionário de dados) expressando o significado destas variáveis, portanto vamos continuar a nossa análise baseada em seus respectivos valores e algumas pesquisas."
   ]
  },
  {
   "cell_type": "markdown",
   "metadata": {},
   "source": [
    "### Variáveis \"var\""
   ]
  },
  {
   "cell_type": "markdown",
   "metadata": {},
   "source": [
    "Uma pesquisa na internet aponta que a variável 'var3' representa a região do cliente, com valores missing sendo representado por -999999 e cerca de 97% dos valores sendo representado pelo valor 2, vamos averiguar se isto continua sendo verdade mesmo após as remoções que fizemos um nosso dataset."
   ]
  },
  {
   "cell_type": "code",
   "execution_count": 12,
   "metadata": {},
   "outputs": [
    {
     "data": {
      "text/plain": [
       "array([-999999,       0,       1,       2,       3,       4,       5,\n",
       "             6,       7,       8,       9,      10,      11,      12,\n",
       "            13,      14,      15,      16,      17,      18,      19,\n",
       "            20,      21,      22,      23,      24,      25,      26,\n",
       "            27,      28,      29,      30,      31,      32,      33,\n",
       "            34,      35,      36,      38,      40,      41,      42,\n",
       "            43,      44,      45,      46,      47,      48,      49,\n",
       "            50,      51,      52,      53,      54,      55,      56,\n",
       "            57,      58,      59,      60,      61,      62,      63,\n",
       "            64,      65,      66,      68,      69,      71,      72,\n",
       "            73,      74,      76,      77,      78,      79,      81,\n",
       "            82,      84,      85,      86,      87,      88,      89,\n",
       "            90,      91,      93,      94,      95,      96,      97,\n",
       "            98,      99,     100,     101,     102,     103,     104,\n",
       "           105,     106,     107,     108,     110,     111,     112,\n",
       "           114,     115,     116,     117,     118,     119,     120,\n",
       "           121,     122,     124,     125,     126,     127,     128,\n",
       "           129,     130,     131,     132,     133,     134,     135,\n",
       "           136,     137,     138,     139,     141,     142,     143,\n",
       "           144,     145,     146,     147,     148,     149,     150,\n",
       "           151,     152,     153,     154,     156,     157,     158,\n",
       "           159,     161,     162,     163,     164,     165,     166,\n",
       "           167,     168,     169,     170,     171,     172,     173,\n",
       "           174,     175,     176,     177,     178,     181,     182,\n",
       "           183,     184,     185,     186,     187,     188,     189,\n",
       "           190,     191,     192,     193,     194,     195,     196,\n",
       "           197,     198,     199,     200,     201,     204,     205,\n",
       "           207,     208,     209,     210,     211,     213,     215,\n",
       "           216,     217,     218,     219,     220,     223,     225,\n",
       "           228,     229,     231,     235,     238], dtype=int64)"
      ]
     },
     "execution_count": 12,
     "metadata": {},
     "output_type": "execute_result"
    }
   ],
   "source": [
    "np.array(sorted(dados_0['var3'].unique()))"
   ]
  },
  {
   "cell_type": "code",
   "execution_count": 13,
   "metadata": {},
   "outputs": [
    {
     "data": {
      "text/plain": [
       " 2         74165\n",
       " 8           138\n",
       "-999999      116\n",
       " 9           110\n",
       " 3           108\n",
       "Name: var3, dtype: int64"
      ]
     },
     "execution_count": 13,
     "metadata": {},
     "output_type": "execute_result"
    }
   ],
   "source": [
    "#Obtendo os 5 primeiros valores que mais ocorrem em nosso dataset\n",
    "dados_0['var3'].value_counts()[:5]"
   ]
  },
  {
   "cell_type": "markdown",
   "metadata": {},
   "source": [
    "De fato, o valor 2 aparece em 74165 registros de 76020, e há um número muito destoante dos demais que é este -999999 provavelmente representando uma região missing, vamos modificar este valor \"missing\" para o valor 2, uma vez que este valor representa 97% dos registros, alterar os valores de \"missing\" para 2 não deve trazer grandes mudanças no dataset."
   ]
  },
  {
   "cell_type": "code",
   "execution_count": 14,
   "metadata": {},
   "outputs": [],
   "source": [
    "dados_0['var3'].replace(-999999,2,inplace=True)"
   ]
  },
  {
   "cell_type": "markdown",
   "metadata": {},
   "source": [
    "De acordo com as pesquisas a variável \"var15\" represeta a idade do consumidor, vamos averiguar a distribuição de valores desta variável para confirmar isto:"
   ]
  },
  {
   "cell_type": "code",
   "execution_count": 15,
   "metadata": {},
   "outputs": [
    {
     "name": "stdout",
     "output_type": "stream",
     "text": [
      "Valor Minimo var15: 5\n",
      "Valor Maximo var15: 105\n"
     ]
    }
   ],
   "source": [
    "max_ = dados_0['var15'].max()\n",
    "min_ = dados_0['var15'].min()\n",
    "print(\"Valor Minimo var15: \" + str(min_))\n",
    "print(\"Valor Maximo var15: \" + str(max_))"
   ]
  },
  {
   "cell_type": "code",
   "execution_count": 16,
   "metadata": {},
   "outputs": [
    {
     "data": {
      "image/png": "[encoded data removed]",
      "text/plain": [
       "<Figure size 576x360 with 1 Axes>"
      ]
     },
     "metadata": {
      "needs_background": "light"
     },
     "output_type": "display_data"
    }
   ],
   "source": [
    "size=(8,5)\n",
    "bins=20\n",
    "\n",
    "plt.figure(figsize=size)\n",
    "plt.title(\"Distribuição da variável var15\")\n",
    "plt.ylabel('Ocorrências')\n",
    "plt.xlabel(\"var15\")\n",
    "plt.hist(dados_0['var15'],bins=bins)\n",
    "\n",
    "plt.show()"
   ]
  },
  {
   "cell_type": "markdown",
   "metadata": {},
   "source": [
    "Desde que a variável assume valores de 5 a 105, e a distribuição de seus valores é decrescente (similar a distribuição populacional de idades), parece seguro afirmar que esta variável representa a idade do consumidor, o que é extremamente interessante, pois podemos analisar agora a satisfação do cliente pela faixa etária."
   ]
  },
  {
   "cell_type": "code",
   "execution_count": 17,
   "metadata": {},
   "outputs": [
    {
     "name": "stdout",
     "output_type": "stream",
     "text": [
      "Valor Minimo var15: 23\n",
      "Valor Maximo var15: 102\n"
     ]
    }
   ],
   "source": [
    "unsat = dados_0[(dados_0['TARGET']==1)]\n",
    "max_ = unsat['var15'].max()\n",
    "min_ = unsat['var15'].min()\n",
    "print(\"Valor Minimo var15: \" + str(min_))\n",
    "print(\"Valor Maximo var15: \" + str(max_))"
   ]
  },
  {
   "cell_type": "markdown",
   "metadata": {},
   "source": [
    "A idade minima de um cliente insatisfeito neste dataset é de 23 anos, ou seja este dataset (com estes clientes) está dizendo que todos abaixo desta idade estão sempre satisfeitos, com isto podemos criar uma nova variável binária representando se o cliente tem menos de 23 anos (1) ou não (0)."
   ]
  },
  {
   "cell_type": "code",
   "execution_count": 18,
   "metadata": {},
   "outputs": [],
   "source": [
    "for df in [dados_0]:\n",
    "    df['var15_below_23'] = np.zeros(df.shape[0],dtype=int)\n",
    "    df.loc[df['var15']<23,'var15_below_23']=1\n",
    "    \n",
    "idade_menos_23 = ['var15_below_23']"
   ]
  },
  {
   "cell_type": "markdown",
   "metadata": {},
   "source": [
    "Além disso, como a variável \"var15\" representa a idade dos clientes, podemos agrupá-la em faixa de valores (faixa etária), tornando-a basicamente uma variável discreta sem perder informação relevante."
   ]
  },
  {
   "cell_type": "code",
   "execution_count": 19,
   "metadata": {},
   "outputs": [
    {
     "name": "stdout",
     "output_type": "stream",
     "text": [
      "[(4.9, 25.0], (25.0, 45.0], (4.9, 25.0], (25.0, 45.0], (25.0, 45.0], ..., (45.0, 65.0], (25.0, 45.0], (4.9, 25.0], (4.9, 25.0], (45.0, 65.0]]\n",
      "Length: 76020\n",
      "Categories (5, interval[float64, right]): [(4.9, 25.0] < (25.0, 45.0] < (45.0, 65.0] < (65.0, 85.0] < (85.0, 105.0]]\n"
     ]
    }
   ],
   "source": [
    "# Convertendo a variável 'var15' em discreta (em 5 faixas)\n",
    "_,bins = pd.cut(dados_0['var15'].values, 5, retbins=True) #getting the bins\n",
    "print(_ )\n",
    "dados_0['var15'] = pd.cut(dados_0['var15'].values,bins,labels=False)"
   ]
  },
  {
   "cell_type": "code",
   "execution_count": 20,
   "metadata": {},
   "outputs": [
    {
     "data": {
      "image/png": "[encoded data removed]",
      "text/plain": [
       "<Figure size 479.75x432 with 1 Axes>"
      ]
     },
     "metadata": {
      "needs_background": "light"
     },
     "output_type": "display_data"
    }
   ],
   "source": [
    "sns.FacetGrid(data=dados_0,hue='TARGET',height=6).map(plt.hist,'var15').add_legend()\n",
    "plt.title(\"Distribuicao de var15 com a variavel target por faixa etaria\")\n",
    "plt.show()"
   ]
  },
  {
   "cell_type": "markdown",
   "metadata": {},
   "source": [
    "Segundo as pesquisas nos forúns do Kaggle e em outras páginas da internet, a variável var38 representa os valores de hipoteca, como trata-se de uma variável contínua numerica (diferente das variáveis anteriores) vamos analisar os percentis dela."
   ]
  },
  {
   "cell_type": "code",
   "execution_count": 21,
   "metadata": {},
   "outputs": [
    {
     "name": "stdout",
     "output_type": "stream",
     "text": [
      "Valor Minimo var38: 5163.75\n",
      "Valor Maximo var38: 22034738.76\n"
     ]
    }
   ],
   "source": [
    "max_ = dados_0['var38'].max()\n",
    "min_ = dados_0['var38'].min()\n",
    "print(\"Valor Minimo var38: \" + str(min_))\n",
    "print(\"Valor Maximo var38: \" + str(max_))"
   ]
  },
  {
   "cell_type": "code",
   "execution_count": 22,
   "metadata": {},
   "outputs": [
    {
     "name": "stdout",
     "output_type": "stream",
     "text": [
      "0 percentil : 5163\n",
      "10 percentil : 48070\n",
      "20 percentil : 61496\n",
      "30 percentil : 74152\n",
      "40 percentil : 88571\n",
      "50 percentil : 106409\n",
      "60 percentil : 117310\n",
      "70 percentil : 117310\n",
      "80 percentil : 132859\n",
      "90 percentil : 182585\n",
      "100 percentil : 22034738\n"
     ]
    }
   ],
   "source": [
    "for i in np.arange(0,1.1,0.1):\n",
    "    print('%i percentil : %i'%(i*100,np.quantile(dados_0.var38.values,i)))"
   ]
  },
  {
   "cell_type": "markdown",
   "metadata": {},
   "source": [
    "Há uma grande diferença de valores entre os percentis 0 (5163) e 10 (48070), e os percentis 90 (182585) e 100 (22034738). Vamos analisar esta faixa de valores."
   ]
  },
  {
   "cell_type": "code",
   "execution_count": 23,
   "metadata": {},
   "outputs": [
    {
     "name": "stdout",
     "output_type": "stream",
     "text": [
      "0 percentil : 5163\n",
      "2 percentil : 32664\n",
      "5 percentil : 39255\n",
      "7 percentil : 44098\n",
      "10 percentil : 48070\n"
     ]
    }
   ],
   "source": [
    "for i in np.arange(0,0.11,0.025):\n",
    "    print('%i percentil : %i'%(i*100,np.quantile(dados_0.var38.values,i)))"
   ]
  },
  {
   "cell_type": "code",
   "execution_count": 24,
   "metadata": {},
   "outputs": [
    {
     "name": "stdout",
     "output_type": "stream",
     "text": [
      "90 percentil : 182585\n",
      "92 percentil : 206707\n",
      "95 percentil : 242780\n",
      "97 percentil : 323173\n",
      "100 percentil : 22034738\n"
     ]
    }
   ],
   "source": [
    "for i in np.arange(0.9,1.01,0.025):\n",
    "    print('%i percentil : %i'%(i*100,np.quantile(dados_0.var38.values,i)))"
   ]
  },
  {
   "cell_type": "markdown",
   "metadata": {},
   "source": [
    "Nos primeiros percentis, a principal diferença está entre 0 e 2 percentil, enquanto nos últimos percentis, a maior diferença está entre 97 e 100 percentil, ou seja as principais diferenças estão nos extremos."
   ]
  },
  {
   "cell_type": "code",
   "execution_count": 25,
   "metadata": {},
   "outputs": [
    {
     "data": {
      "image/png": "[encoded data removed]",
      "text/plain": [
       "<Figure size 551.75x504 with 1 Axes>"
      ]
     },
     "metadata": {
      "needs_background": "light"
     },
     "output_type": "display_data"
    }
   ],
   "source": [
    "#plotando um histograma com os valores abaixo do percentil 97,5%\n",
    "mask = dados_0[dados_0['var38']<=np.quantile(dados_0['var38'].values,0.975)]\n",
    "sns.FacetGrid(data=mask,hue='TARGET',height=7).map(plt.hist,'var38',bins=20).add_legend()\n",
    "plt.title('Distribuição da \"var38\" com valores abaixo do percentil 97,5%')\n",
    "plt.ylabel(\"frequencia\")\n",
    "plt.show()"
   ]
  },
  {
   "cell_type": "markdown",
   "metadata": {},
   "source": [
    "Há uma grande concentração de valores no intervalo entre 100,000 and 150,000, podemos tentar aplicar uma transformação logarítmica e verificar se esta varíavel irá assumir uma distribuição normal (recomendada para os algorítmos de Machine Learning).\n",
    "\n",
    "A transformação logarítmica usualmente aplicada em dados que não possuem uma distribuição normal, para estes adquirirem uma distribuição mais normal, ela também reduz os vieses dos dados. Veja mais em <a href=\"http://rstudio-pubs-static.s3.amazonaws.com/289147_99e32d5403f942339c3fe05414ac62fd.html\">Por que usar transformação logarítmica em dados?</a>"
   ]
  },
  {
   "cell_type": "code",
   "execution_count": 26,
   "metadata": {},
   "outputs": [
    {
     "data": {
      "text/plain": [
       "<Figure size 576x432 with 0 Axes>"
      ]
     },
     "metadata": {},
     "output_type": "display_data"
    },
    {
     "data": {
      "image/png": "[encoded data removed]",
      "text/plain": [
       "<Figure size 551.75x504 with 1 Axes>"
      ]
     },
     "metadata": {
      "needs_background": "light"
     },
     "output_type": "display_data"
    }
   ],
   "source": [
    "dados_0.loc[:,'var38'] = np.log(dados_0['var38']).values\n",
    "plt.figure(figsize=(8,6))\n",
    "sns.FacetGrid(data=dados_0,hue='TARGET',height=7).map(plt.hist,'var38',bins=20).add_legend()\n",
    "plt.title(\"Distribuição de var38 pós transformação log\")\n",
    "plt.xlabel('log(var38)')\n",
    "plt.ylabel(\"frequencia\")\n",
    "plt.show()"
   ]
  },
  {
   "cell_type": "markdown",
   "metadata": {},
   "source": [
    "Legal! A variável var38 assumiu uma distribuição \"mais\" normal."
   ]
  },
  {
   "cell_type": "markdown",
   "metadata": {},
   "source": [
    "Em relação as outras variáveis do dataset, conforme comentado elas seguem um padrão de keywords, vamos averiguar quais keywords são mais comuns:"
   ]
  },
  {
   "cell_type": "code",
   "execution_count": 27,
   "metadata": {},
   "outputs": [
    {
     "data": {
      "image/png": "[encoded data removed]",
      "text/plain": [
       "<Figure size 432x288 with 1 Axes>"
      ]
     },
     "metadata": {
      "needs_background": "light"
     },
     "output_type": "display_data"
    }
   ],
   "source": [
    "f_keywords = {col.split('_')[0] for col in dados_0.columns if (len(col.split('_'))>1) & ~('var15' in col)}\n",
    "\n",
    "#contando o numero de ocorrencias das variaveis por keyword\n",
    "f_keywords = dict(zip(f_keywords,np.zeros(len(f_keywords),dtype=int)))\n",
    "for key in f_keywords.keys():\n",
    "    for col in dados_0.columns:\n",
    "        if key in col:\n",
    "            f_keywords[key]+=1\n",
    "\n",
    "k = pd.Series(f_keywords)\n",
    "sns.barplot(x=k.index,y=k.values)\n",
    "plt.title(\"N. variaveis por keywords\")\n",
    "plt.ylabel('frequencia')\n",
    "plt.xlabel('Keyword')\n",
    "plt.show()"
   ]
  },
  {
   "cell_type": "markdown",
   "metadata": {},
   "source": [
    "As variáveis com \"num\" aparecem numa frequencia muito maior do que as demais, enquanto as variáveis \"imp\" é a que menos aparece. Vamos começar analisando as variáveis \"num\"."
   ]
  },
  {
   "cell_type": "markdown",
   "metadata": {},
   "source": [
    "### Variáveis \"num\""
   ]
  },
  {
   "cell_type": "code",
   "execution_count": 28,
   "metadata": {},
   "outputs": [
    {
     "name": "stdout",
     "output_type": "stream",
     "text": [
      "O número de variáveis com  a keyword 'num' são: 64\n"
     ]
    },
    {
     "data": {
      "text/plain": [
       "['num_var1_0',\n",
       " 'num_var4',\n",
       " 'num_var5_0',\n",
       " 'num_var5',\n",
       " 'num_var8_0',\n",
       " 'num_var8',\n",
       " 'num_var12_0',\n",
       " 'num_var12',\n",
       " 'num_var13_0',\n",
       " 'num_var13_corto_0',\n",
       " 'num_var13_corto',\n",
       " 'num_var13_largo_0',\n",
       " 'num_var13',\n",
       " 'num_var14_0',\n",
       " 'num_var24_0',\n",
       " 'num_var24',\n",
       " 'num_var26',\n",
       " 'num_var25',\n",
       " 'num_op_var41_hace2',\n",
       " 'num_op_var41_hace3',\n",
       " 'num_op_var41_ult1',\n",
       " 'num_op_var41_ult3',\n",
       " 'num_op_var39_hace2',\n",
       " 'num_op_var39_hace3',\n",
       " 'num_op_var39_ult1',\n",
       " 'num_op_var39_ult3',\n",
       " 'num_var30_0',\n",
       " 'num_var30',\n",
       " 'num_var35',\n",
       " 'num_var37_med_ult2',\n",
       " 'num_var37',\n",
       " 'num_var39_0',\n",
       " 'num_var40_0',\n",
       " 'num_var41_0',\n",
       " 'num_var42_0',\n",
       " 'num_var42',\n",
       " 'num_aport_var13_hace3',\n",
       " 'num_ent_var16_ult1',\n",
       " 'num_var22_hace2',\n",
       " 'num_var22_hace3',\n",
       " 'num_var22_ult1',\n",
       " 'num_var22_ult3',\n",
       " 'num_med_var22_ult3',\n",
       " 'num_med_var45_ult3',\n",
       " 'num_meses_var5_ult3',\n",
       " 'num_meses_var8_ult3',\n",
       " 'num_meses_var12_ult3',\n",
       " 'num_meses_var13_corto_ult3',\n",
       " 'num_meses_var39_vig_ult3',\n",
       " 'num_op_var39_comer_ult1',\n",
       " 'num_op_var39_comer_ult3',\n",
       " 'num_op_var41_comer_ult1',\n",
       " 'num_op_var41_comer_ult3',\n",
       " 'num_op_var41_efect_ult1',\n",
       " 'num_op_var41_efect_ult3',\n",
       " 'num_op_var39_efect_ult1',\n",
       " 'num_op_var39_efect_ult3',\n",
       " 'num_var43_emit_ult1',\n",
       " 'num_var43_recib_ult1',\n",
       " 'num_trasp_var11_ult1',\n",
       " 'num_var45_hace2',\n",
       " 'num_var45_hace3',\n",
       " 'num_var45_ult1',\n",
       " 'num_var45_ult3']"
      ]
     },
     "execution_count": 28,
     "metadata": {},
     "output_type": "execute_result"
    }
   ],
   "source": [
    "imp = [col for col in dados_0.columns if 'num' in col]\n",
    "print(\"O número de variáveis com  a keyword 'num' são: %i\"%(len(imp)))\n",
    "imp"
   ]
  },
  {
   "cell_type": "markdown",
   "metadata": {},
   "source": [
    "São 64 variáveis, o que seria muito exaustivo analisar todas, vamos escolher uma variável por keyword de forma aleatóra para análise, e depois escolher outra (da mesma keyword) para verificar se ambas apresentam as mesmas características:"
   ]
  },
  {
   "cell_type": "code",
   "execution_count": 29,
   "metadata": {},
   "outputs": [
    {
     "name": "stdout",
     "output_type": "stream",
     "text": [
      "As variáveis escolhidas aleatoriamente são 'num_var25' e 'num_var13_0'\n"
     ]
    }
   ],
   "source": [
    "random.seed(a=1) \n",
    "imp_feat = random.sample(imp,2)\n",
    "print(\"As variáveis escolhidas aleatoriamente são '%s' e '%s'\"%(imp_feat[0],imp_feat[1]))"
   ]
  },
  {
   "cell_type": "markdown",
   "metadata": {},
   "source": [
    "Começando a análise por esta \"num_var25\", vamos averiguar os seus valores extremos:"
   ]
  },
  {
   "cell_type": "code",
   "execution_count": 30,
   "metadata": {},
   "outputs": [
    {
     "data": {
      "text/plain": [
       "'num_var25'"
      ]
     },
     "execution_count": 30,
     "metadata": {},
     "output_type": "execute_result"
    }
   ],
   "source": [
    "imp_feat[0]"
   ]
  },
  {
   "cell_type": "code",
   "execution_count": 31,
   "metadata": {},
   "outputs": [
    {
     "name": "stdout",
     "output_type": "stream",
     "text": [
      "Valor Minimo num_var25: 0\n",
      "Valor Minimo num_var25: 33\n"
     ]
    }
   ],
   "source": [
    "col = imp_feat[0]\n",
    "max_ = dados_0[col].max()\n",
    "min_ = dados_0[col].min()\n",
    "print(\"Valor Minimo %s: \" %(col) + str(min_))\n",
    "print(\"Valor Minimo %s: \" %(col) + str(max_))"
   ]
  },
  {
   "cell_type": "markdown",
   "metadata": {},
   "source": [
    "Está variável possui um range baixo de valores, vamos analisar a distribuição destes valores."
   ]
  },
  {
   "cell_type": "code",
   "execution_count": 32,
   "metadata": {},
   "outputs": [
    {
     "name": "stdout",
     "output_type": "stream",
     "text": [
      "Top 5 Percentual de ocorrências dos valores para 'num_var25':\n",
      "Valor\t Contagem%\n",
      "0     97.636148\n",
      "3      2.006051\n",
      "6      0.284136\n",
      "9      0.052618\n",
      "12     0.014470\n",
      "Name: num_var25, dtype: float64\n",
      "****************************************************************************************************\n",
      "Top -5 Percentual de ocorrências dos valores para 'num_var25':\n",
      "Valor\t Contagem%\n",
      "12    0.014470\n",
      "15    0.002631\n",
      "33    0.001315\n",
      "21    0.001315\n",
      "27    0.001315\n",
      "Name: num_var25, dtype: float64\n"
     ]
    }
   ],
   "source": [
    "print(\"Top 5 Percentual de ocorrências dos valores para '%s':\"%(col))\n",
    "print(\"Valor\\t Contagem%\")\n",
    "print((dados_0[col].value_counts()*100/dados_0.shape[0]).iloc[:5])\n",
    "print(\"*\"*100)\n",
    "print(\"Top -5 Percentual de ocorrências dos valores para '%s':\"%(col))\n",
    "print(\"Valor\\t Contagem%\")\n",
    "print((dados_0[col].value_counts()*100/dados_0.shape[0]).iloc[-5:])"
   ]
  },
  {
   "cell_type": "markdown",
   "metadata": {},
   "source": [
    "Está variável possui valores múltiplos de 3, ou seja é uma variável categórica, além disso quase 98% de seus valores possuem o valor 0. Vamos averiguar se a outra variável selecionada randômicamente possui as mesmas características:"
   ]
  },
  {
   "cell_type": "code",
   "execution_count": 33,
   "metadata": {},
   "outputs": [
    {
     "name": "stdout",
     "output_type": "stream",
     "text": [
      "Valor Minimo num_var13_0: 0\n",
      "Valor Minimo num_var13_0: 18\n"
     ]
    }
   ],
   "source": [
    "col = imp_feat[1]\n",
    "max_ = dados_0[col].max()\n",
    "min_ = dados_0[col].min()\n",
    "print(\"Valor Minimo %s: \" %(col) + str(min_))\n",
    "print(\"Valor Minimo %s: \" %(col) + str(max_))"
   ]
  },
  {
   "cell_type": "code",
   "execution_count": 34,
   "metadata": {},
   "outputs": [
    {
     "name": "stdout",
     "output_type": "stream",
     "text": [
      "Top 5 Percentual de ocorrências dos valores para 'num_var13_0':\n",
      "Valor\t Contagem%\n",
      "0     94.775059\n",
      "3      4.919758\n",
      "6      0.263089\n",
      "9      0.028940\n",
      "12     0.009208\n",
      "Name: num_var13_0, dtype: float64\n",
      "****************************************************************************************************\n",
      "Top -5 Percentual de ocorrências dos valores para 'num_var13_0':\n",
      "Valor\t Contagem%\n",
      "6     0.263089\n",
      "9     0.028940\n",
      "12    0.009208\n",
      "15    0.002631\n",
      "18    0.001315\n",
      "Name: num_var13_0, dtype: float64\n"
     ]
    }
   ],
   "source": [
    "print(\"Top 5 Percentual de ocorrências dos valores para '%s':\"%(col))\n",
    "print(\"Valor\\t Contagem%\")\n",
    "print((dados_0[col].value_counts()*100/dados_0.shape[0]).iloc[:5])\n",
    "print(\"*\"*100)\n",
    "print(\"Top -5 Percentual de ocorrências dos valores para '%s':\"%(col))\n",
    "print(\"Valor\\t Contagem%\")\n",
    "print((dados_0[col].value_counts()*100/dados_0.shape[0]).iloc[-5:])"
   ]
  },
  {
   "cell_type": "markdown",
   "metadata": {},
   "source": [
    "A variável \"num_var13_0\" também possui valores múltiplos de 3 com a categoria 0 aparecendo em quase 95% dos dados, se são categóricas, é natural que as variaveis com este prefixo possuem poucos valores únicos."
   ]
  },
  {
   "cell_type": "code",
   "execution_count": 35,
   "metadata": {},
   "outputs": [
    {
     "name": "stdout",
     "output_type": "stream",
     "text": [
      "num_var1_0 \t Valores unicos:3 \n",
      "num_var4 \t Valores unicos:8 \n",
      "num_var5_0 \t Valores unicos:5 \n",
      "num_var5 \t Valores unicos:5 \n",
      "num_var8_0 \t Valores unicos:3 \n",
      "num_var8 \t Valores unicos:2 \n",
      "num_var12_0 \t Valores unicos:6 \n",
      "num_var12 \t Valores unicos:4 \n",
      "num_var13_0 \t Valores unicos:7 \n",
      "num_var13_corto_0 \t Valores unicos:3 \n",
      "num_var13_corto \t Valores unicos:3 \n",
      "num_var13_largo_0 \t Valores unicos:7 \n",
      "num_var13 \t Valores unicos:7 \n",
      "num_var14_0 \t Valores unicos:5 \n",
      "num_var24_0 \t Valores unicos:4 \n",
      "num_var24 \t Valores unicos:3 \n",
      "num_var26 \t Valores unicos:9 \n",
      "num_var25 \t Valores unicos:9 \n",
      "num_op_var41_hace2 \t Valores unicos:51 \n",
      "num_op_var41_hace3 \t Valores unicos:22 \n",
      "num_op_var41_ult1 \t Valores unicos:68 \n",
      "num_op_var41_ult3 \t Valores unicos:96 \n",
      "num_op_var39_hace2 \t Valores unicos:50 \n",
      "num_op_var39_hace3 \t Valores unicos:22 \n",
      "num_op_var39_ult1 \t Valores unicos:71 \n",
      "num_op_var39_ult3 \t Valores unicos:99 \n",
      "num_var30_0 \t Valores unicos:11 \n",
      "num_var30 \t Valores unicos:9 \n",
      "num_var35 \t Valores unicos:13 \n",
      "num_var37_med_ult2 \t Valores unicos:21 \n",
      "num_var37 \t Valores unicos:22 \n",
      "num_var39_0 \t Valores unicos:9 \n",
      "num_var40_0 \t Valores unicos:3 \n",
      "num_var41_0 \t Valores unicos:9 \n",
      "num_var42_0 \t Valores unicos:8 \n",
      "num_var42 \t Valores unicos:7 \n",
      "num_aport_var13_hace3 \t Valores unicos:8 \n",
      "num_ent_var16_ult1 \t Valores unicos:13 \n",
      "num_var22_hace2 \t Valores unicos:22 \n",
      "num_var22_hace3 \t Valores unicos:19 \n",
      "num_var22_ult1 \t Valores unicos:18 \n",
      "num_var22_ult3 \t Valores unicos:33 \n",
      "num_med_var22_ult3 \t Valores unicos:15 \n",
      "num_med_var45_ult3 \t Valores unicos:71 \n",
      "num_meses_var5_ult3 \t Valores unicos:4 \n",
      "num_meses_var8_ult3 \t Valores unicos:4 \n",
      "num_meses_var12_ult3 \t Valores unicos:4 \n",
      "num_meses_var13_corto_ult3 \t Valores unicos:4 \n",
      "num_meses_var39_vig_ult3 \t Valores unicos:4 \n",
      "num_op_var39_comer_ult1 \t Valores unicos:63 \n",
      "num_op_var39_comer_ult3 \t Valores unicos:92 \n",
      "num_op_var41_comer_ult1 \t Valores unicos:60 \n",
      "num_op_var41_comer_ult3 \t Valores unicos:88 \n",
      "num_op_var41_efect_ult1 \t Valores unicos:25 \n",
      "num_op_var41_efect_ult3 \t Valores unicos:40 \n",
      "num_op_var39_efect_ult1 \t Valores unicos:26 \n",
      "num_op_var39_efect_ult3 \t Valores unicos:40 \n",
      "num_var43_emit_ult1 \t Valores unicos:27 \n",
      "num_var43_recib_ult1 \t Valores unicos:38 \n",
      "num_trasp_var11_ult1 \t Valores unicos:18 \n",
      "num_var45_hace2 \t Valores unicos:85 \n",
      "num_var45_hace3 \t Valores unicos:66 \n",
      "num_var45_ult1 \t Valores unicos:94 \n",
      "num_var45_ult3 \t Valores unicos:172 \n"
     ]
    }
   ],
   "source": [
    "#Analisando cada variável valor unico das variáveis 'num'\n",
    "for feat in imp:\n",
    "    print(\"%s \\t Valores unicos:%i \"%(feat,dados_0[feat].nunique()))"
   ]
  },
  {
   "cell_type": "markdown",
   "metadata": {},
   "source": [
    "Mesmo algumas das variáveis possuindo mais de 60, 80 valores únicos, em relação ao total de registros do dataset, estes valores ainda podem ser entendidos como categóricos. Vamos então mantê-los como estão."
   ]
  },
  {
   "cell_type": "markdown",
   "metadata": {},
   "source": [
    "### Variável 'imp'"
   ]
  },
  {
   "cell_type": "markdown",
   "metadata": {},
   "source": [
    "Vamos repetir a estratégia para as variáveis \"imp\", que em espanhol (o banco Santander é espanhol) pode ser entendido como a abreviação de \"importe\" que significa quantia em português."
   ]
  },
  {
   "cell_type": "code",
   "execution_count": 36,
   "metadata": {},
   "outputs": [
    {
     "name": "stdout",
     "output_type": "stream",
     "text": [
      "As variáveis escolhidas aleatoriamente são 'imp_op_var39_comer_ult3' e 'imp_op_var39_efect_ult3'\n"
     ]
    }
   ],
   "source": [
    "imp = [col for col in dados_0.columns if 'imp' in col]\n",
    "\n",
    "random.seed(a=1)\n",
    "imp_feat = random.sample(imp,2)\n",
    "print(\"As variáveis escolhidas aleatoriamente são '%s' e '%s'\"%(imp_feat[0],imp_feat[1]))"
   ]
  },
  {
   "cell_type": "code",
   "execution_count": 37,
   "metadata": {},
   "outputs": [
    {
     "name": "stdout",
     "output_type": "stream",
     "text": [
      "Valor Minimo imp_op_var39_comer_ult3: 0.0\n",
      "Valor Minimo imp_op_var39_comer_ult3: 21024.81\n"
     ]
    }
   ],
   "source": [
    "col = imp_feat[0]\n",
    "max_ = dados_0[col].max()\n",
    "min_ = dados_0[col].min()\n",
    "print(\"Valor Minimo %s: \" %(col) + str(min_))\n",
    "print(\"Valor Minimo %s: \" %(col) + str(max_))"
   ]
  },
  {
   "cell_type": "code",
   "execution_count": 38,
   "metadata": {},
   "outputs": [
    {
     "name": "stdout",
     "output_type": "stream",
     "text": [
      "Percentage value counts(top 5 only) in train data for 'imp_op_var39_comer_ult3':\n",
      "Value\t Count%\n",
      "0.0     84.622468\n",
      "30.0     0.211786\n",
      "60.0     0.119705\n",
      "4.5      0.094712\n",
      "15.0     0.078927\n",
      "Name: imp_op_var39_comer_ult3, dtype: float64\n",
      "****************************************************************************************************\n",
      "Percentage value counts(bottom 5 only) in train data for 'imp_op_var39_comer_ult3':\n",
      "Value\t Count%\n",
      "261.90     0.001315\n",
      "16.92      0.001315\n",
      "344.82     0.001315\n",
      "2808.36    0.001315\n",
      "586.83     0.001315\n",
      "Name: imp_op_var39_comer_ult3, dtype: float64\n"
     ]
    }
   ],
   "source": [
    "print(\"Percentage value counts(top 5 only) in train data for '%s':\"%(col))\n",
    "print(\"Value\\t Count%\")\n",
    "print((dados_0[col].value_counts()*100/dados_0.shape[0]).iloc[:5])\n",
    "print(\"*\"*100)\n",
    "print(\"Percentage value counts(bottom 5 only) in train data for '%s':\"%(col))\n",
    "print(\"Value\\t Count%\")\n",
    "print((dados_0[col].value_counts()*100/dados_0.shape[0]).iloc[-5:])"
   ]
  },
  {
   "cell_type": "markdown",
   "metadata": {},
   "source": [
    "Esta variável possui um alto range de valores, mas a sua grande maioria são valores 0 (85%), vamos analisar a sua distribuição de valores excluindo os valores 0."
   ]
  },
  {
   "cell_type": "code",
   "execution_count": 39,
   "metadata": {},
   "outputs": [
    {
     "name": "stdout",
     "output_type": "stream",
     "text": [
      "Top 5 Percentual de ocorrências dos valores para 'imp_op_var39_comer_ult3':\n",
      "Valor\t Contagem%\n",
      "0.0     84.622468\n",
      "30.0     0.211786\n",
      "60.0     0.119705\n",
      "4.5      0.094712\n",
      "15.0     0.078927\n",
      "Name: imp_op_var39_comer_ult3, dtype: float64\n",
      "****************************************************************************************************\n",
      "Top -5 Percentual de ocorrências dos valores para 'imp_op_var39_comer_ult3':\n",
      "Valor\t Contagem%\n",
      "261.90     0.001315\n",
      "16.92      0.001315\n",
      "344.82     0.001315\n",
      "2808.36    0.001315\n",
      "586.83     0.001315\n",
      "Name: imp_op_var39_comer_ult3, dtype: float64\n"
     ]
    }
   ],
   "source": [
    "print(\"Top 5 Percentual de ocorrências dos valores para '%s':\"%(col))\n",
    "print(\"Valor\\t Contagem%\")\n",
    "print((dados_0[col].value_counts()*100/dados_0.shape[0]).iloc[:5])\n",
    "print(\"*\"*100)\n",
    "print(\"Top -5 Percentual de ocorrências dos valores para '%s':\"%(col))\n",
    "print(\"Valor\\t Contagem%\")\n",
    "print((dados_0[col].value_counts()*100/dados_0.shape[0]).iloc[-5:])"
   ]
  },
  {
   "cell_type": "markdown",
   "metadata": {},
   "source": [
    "Desde que a grande maioria dos dados estão concentrados em valores menores, vamos aplicar uma trasformação logaritimica nos valores que foram diferentes de 0 para tentar deixa-los parecidos com uma distribuição normal"
   ]
  },
  {
   "cell_type": "code",
   "execution_count": 40,
   "metadata": {},
   "outputs": [],
   "source": [
    "#Aplicando a transformação logarítmica para os valores diferentes de 0\n",
    "dados_0.loc[dados_0[col]!=0,col] = np.log(dados_0.loc[dados_0[col]!=0,col])"
   ]
  },
  {
   "cell_type": "code",
   "execution_count": 41,
   "metadata": {},
   "outputs": [
    {
     "data": {
      "image/png": "[encoded data removed]",
      "text/plain": [
       "<Figure size 576x360 with 1 Axes>"
      ]
     },
     "metadata": {
      "needs_background": "light"
     },
     "output_type": "display_data"
    }
   ],
   "source": [
    "size=(8,5)\n",
    "bins=20\n",
    "\n",
    "plt.figure(figsize=size)\n",
    "#plotting train data\n",
    "plt.title(\"Distribuicao da variavel %s\" %(col))\n",
    "plt.ylabel('Ocorrencias')\n",
    "plt.xlabel('%s' %(col))\n",
    "plt.hist(dados_0[dados_0[col]!=0][col],bins=bins)\n",
    "\n",
    "plt.show()"
   ]
  },
  {
   "cell_type": "markdown",
   "metadata": {},
   "source": [
    "Vamos averiguar a variável \"imp_op_var39_efect_ult3\" utilizando as mesmas estratégias."
   ]
  },
  {
   "cell_type": "code",
   "execution_count": 42,
   "metadata": {},
   "outputs": [
    {
     "name": "stdout",
     "output_type": "stream",
     "text": [
      "Valor Minimo imp_op_var39_efect_ult3: 0.0\n",
      "Valor Minimo imp_op_var39_efect_ult3: 131100.0\n",
      "Top 5 Percentual de ocorrências dos valores para 'imp_op_var39_efect_ult3':\n",
      "Valor\t Contagem%\n",
      "0.0      88.608261\n",
      "60.0      2.063931\n",
      "120.0     0.912918\n",
      "180.0     0.463036\n",
      "240.0     0.367009\n",
      "Name: imp_op_var39_efect_ult3, dtype: float64\n",
      "****************************************************************************************************\n",
      "Top -5 Percentual de ocorrências dos valores para 'imp_op_var39_efect_ult3':\n",
      "Valor\t Contagem%\n",
      "9420.0     0.001315\n",
      "326.7      0.001315\n",
      "15240.0    0.001315\n",
      "9000.0     0.001315\n",
      "315.0      0.001315\n",
      "Name: imp_op_var39_efect_ult3, dtype: float64\n"
     ]
    }
   ],
   "source": [
    "col = imp_feat[1]\n",
    "max_ = dados_0[col].max()\n",
    "min_ = dados_0[col].min()\n",
    "print(\"Valor Minimo %s: \" %(col) + str(min_))\n",
    "print(\"Valor Minimo %s: \" %(col) + str(max_))\n",
    "\n",
    "print(\"Top 5 Percentual de ocorrências dos valores para '%s':\"%(col))\n",
    "print(\"Valor\\t Contagem%\")\n",
    "print((dados_0[col].value_counts()*100/dados_0.shape[0]).iloc[:5])\n",
    "print(\"*\"*100)\n",
    "print(\"Top -5 Percentual de ocorrências dos valores para '%s':\"%(col))\n",
    "print(\"Valor\\t Contagem%\")\n",
    "print((dados_0[col].value_counts()*100/dados_0.shape[0]).iloc[-5:])"
   ]
  },
  {
   "cell_type": "markdown",
   "metadata": {},
   "source": [
    "Aqui também há uma concentração maior nos valores menores, neste caso vamos aplicar uma transformação logaritimca nos valores não nulos."
   ]
  },
  {
   "cell_type": "code",
   "execution_count": 43,
   "metadata": {},
   "outputs": [],
   "source": [
    "#Aplicando a transformação logarítmica para os valores diferentes de 0\n",
    "dados_0.loc[dados_0[col]!=0,col] = np.log(dados_0.loc[dados_0[col]!=0,col])"
   ]
  },
  {
   "cell_type": "code",
   "execution_count": 44,
   "metadata": {},
   "outputs": [
    {
     "data": {
      "image/png": "[encoded data removed]",
      "text/plain": [
       "<Figure size 576x360 with 1 Axes>"
      ]
     },
     "metadata": {
      "needs_background": "light"
     },
     "output_type": "display_data"
    }
   ],
   "source": [
    "size=(8,5)\n",
    "bins=20\n",
    "\n",
    "plt.figure(figsize=size)\n",
    "#plotting train data\n",
    "plt.title(\"Distribuicao da variavel %s\" %(col))\n",
    "plt.ylabel('Ocorrencias')\n",
    "plt.xlabel('%s' %(col))\n",
    "plt.hist(dados_0[dados_0[col]!=0][col],bins=bins)\n",
    "\n",
    "plt.show()"
   ]
  },
  {
   "cell_type": "markdown",
   "metadata": {},
   "source": [
    "Ao contrário de \"imp_op_var39_comer_ult3\" a variável \"imp_op_var39_efect_ult3\" ficou com uma leve distorção a esquerda."
   ]
  },
  {
   "cell_type": "markdown",
   "metadata": {},
   "source": [
    "### Variável \"saldo\""
   ]
  },
  {
   "cell_type": "markdown",
   "metadata": {},
   "source": [
    "Vamos repetir as estratégias de análise para a variável saldo."
   ]
  },
  {
   "cell_type": "code",
   "execution_count": 45,
   "metadata": {},
   "outputs": [
    {
     "name": "stdout",
     "output_type": "stream",
     "text": [
      "As variáveis escolhidas aleatoriamente são 'saldo_var13' e 'saldo_medio_var12_hace2'\n"
     ]
    }
   ],
   "source": [
    "imp = [col for col in dados_0.columns if 'saldo' in col]\n",
    "\n",
    "random.seed(a=1)\n",
    "imp_feat = random.sample(imp,2)\n",
    "print(\"As variáveis escolhidas aleatoriamente são '%s' e '%s'\"%(imp_feat[0],imp_feat[1]))"
   ]
  },
  {
   "cell_type": "code",
   "execution_count": 46,
   "metadata": {},
   "outputs": [
    {
     "name": "stdout",
     "output_type": "stream",
     "text": [
      "Valor Minimo saldo_var13: 0.0\n",
      "Valor Minimo saldo_var13: 1500000.0\n"
     ]
    }
   ],
   "source": [
    "col = imp_feat[0]\n",
    "max_ = dados_0[col].max()\n",
    "min_ = dados_0[col].min()\n",
    "print(\"Valor Minimo %s: \" %(col) + str(min_))\n",
    "print(\"Valor Minimo %s: \" %(col) + str(max_))"
   ]
  },
  {
   "cell_type": "code",
   "execution_count": 47,
   "metadata": {},
   "outputs": [
    {
     "name": "stdout",
     "output_type": "stream",
     "text": [
      "Top 5 Percentual de ocorrências dos valores para 'saldo_var13':\n",
      "Valor\t Contagem%\n",
      "0.0         94.914496\n",
      "90000.0      0.249934\n",
      "150000.0     0.226256\n",
      "300000.0     0.209155\n",
      "30000.0      0.194686\n",
      "Name: saldo_var13, dtype: float64\n",
      "****************************************************************************************************\n",
      "Top -5 Percentual de ocorrências dos valores para 'saldo_var13':\n",
      "Valor\t Contagem%\n",
      "92040.00     0.001315\n",
      "117924.60    0.001315\n",
      "297030.00    0.001315\n",
      "182455.92    0.001315\n",
      "72005.70     0.001315\n",
      "Name: saldo_var13, dtype: float64\n"
     ]
    }
   ],
   "source": [
    "print(\"Top 5 Percentual de ocorrências dos valores para '%s':\"%(col))\n",
    "print(\"Valor\\t Contagem%\")\n",
    "print((dados_0[col].value_counts()*100/dados_0.shape[0]).iloc[:5])\n",
    "print(\"*\"*100)\n",
    "print(\"Top -5 Percentual de ocorrências dos valores para '%s':\"%(col))\n",
    "print(\"Valor\\t Contagem%\")\n",
    "print((dados_0[col].value_counts()*100/dados_0.shape[0]).iloc[-5:])"
   ]
  },
  {
   "cell_type": "markdown",
   "metadata": {},
   "source": [
    "Apesar da variável saldo ter range de valores de 0 a 1.500,000, 95% de seus valores são nulos, vamos seguir a estratégia aplicada nas variáveis acima e aplicar uma transformação logarítmica."
   ]
  },
  {
   "cell_type": "code",
   "execution_count": 48,
   "metadata": {},
   "outputs": [],
   "source": [
    "#Aplicando a transformação logarítmica para os valores diferentes de 0\n",
    "dados_0.loc[dados_0[col]!=0,col] = np.log(dados_0.loc[dados_0[col]!=0,col])"
   ]
  },
  {
   "cell_type": "code",
   "execution_count": 49,
   "metadata": {},
   "outputs": [
    {
     "data": {
      "image/png": "[encoded data removed]",
      "text/plain": [
       "<Figure size 576x360 with 1 Axes>"
      ]
     },
     "metadata": {
      "needs_background": "light"
     },
     "output_type": "display_data"
    }
   ],
   "source": [
    "size=(8,5)\n",
    "bins=20\n",
    "\n",
    "plt.figure(figsize=size)\n",
    "#plotting train data\n",
    "plt.title(\"Distribuicao da variavel %s\" %(col))\n",
    "plt.ylabel('Ocorrencias')\n",
    "plt.xlabel('%s' %(col))\n",
    "plt.hist(dados_0[dados_0[col]!=0][col],bins=bins)\n",
    "\n",
    "plt.show()"
   ]
  },
  {
   "cell_type": "markdown",
   "metadata": {},
   "source": [
    "Assim como a variável \"imp_op_var39_comer_ult3\", a variável \"saldo_var13\" possui seus valores distorcidos a direita após a transformação logarítmica."
   ]
  },
  {
   "cell_type": "markdown",
   "metadata": {},
   "source": [
    "Agora repetindo a estratégia para a outra variável de saldo: \"saldo_medio_var12_hace2\""
   ]
  },
  {
   "cell_type": "code",
   "execution_count": 50,
   "metadata": {},
   "outputs": [
    {
     "name": "stdout",
     "output_type": "stream",
     "text": [
      "Valor Minimo saldo_medio_var12_hace2: 0.0\n",
      "Valor Minimo saldo_medio_var12_hace2: 3000538.14\n",
      "Top 5 Percentual de ocorrências dos valores para 'saldo_medio_var12_hace2':\n",
      "Valor\t Contagem%\n",
      "0.0         96.058932\n",
      "150000.0     0.007893\n",
      "180000.0     0.007893\n",
      "60.0         0.006577\n",
      "45000.0      0.006577\n",
      "Name: saldo_medio_var12_hace2, dtype: float64\n",
      "****************************************************************************************************\n",
      "Top -5 Percentual de ocorrências dos valores para 'saldo_medio_var12_hace2':\n",
      "Valor\t Contagem%\n",
      "2266.08      0.001315\n",
      "126490.20    0.001315\n",
      "73814.34     0.001315\n",
      "108109.41    0.001315\n",
      "15498.42     0.001315\n",
      "Name: saldo_medio_var12_hace2, dtype: float64\n"
     ]
    }
   ],
   "source": [
    "col = imp_feat[1]\n",
    "max_ = dados_0[col].max()\n",
    "min_ = dados_0[col].min()\n",
    "print(\"Valor Minimo %s: \" %(col) + str(min_))\n",
    "print(\"Valor Minimo %s: \" %(col) + str(max_))\n",
    "\n",
    "print(\"Top 5 Percentual de ocorrências dos valores para '%s':\"%(col))\n",
    "print(\"Valor\\t Contagem%\")\n",
    "print((dados_0[col].value_counts()*100/dados_0.shape[0]).iloc[:5])\n",
    "print(\"*\"*100)\n",
    "print(\"Top -5 Percentual de ocorrências dos valores para '%s':\"%(col))\n",
    "print(\"Valor\\t Contagem%\")\n",
    "print((dados_0[col].value_counts()*100/dados_0.shape[0]).iloc[-5:])"
   ]
  },
  {
   "cell_type": "markdown",
   "metadata": {},
   "source": [
    "Basicamente idêntido a variável \"saldo_var13\", com a grande maioria dos valores nulos, vamos seguir aplicando as transformação logarítmica nos valores não nulos."
   ]
  },
  {
   "cell_type": "code",
   "execution_count": 51,
   "metadata": {},
   "outputs": [],
   "source": [
    "#Aplicando a transformação logarítmica para os valores diferentes de 0\n",
    "dados_0.loc[dados_0[col]!=0,col] = np.log(dados_0.loc[dados_0[col]!=0,col])"
   ]
  },
  {
   "cell_type": "markdown",
   "metadata": {},
   "source": [
    "### Variáveis \"ind\""
   ]
  },
  {
   "cell_type": "markdown",
   "metadata": {},
   "source": [
    "Por fim, vamos analisar as variáveis 'ind':"
   ]
  },
  {
   "cell_type": "code",
   "execution_count": 52,
   "metadata": {},
   "outputs": [
    {
     "name": "stdout",
     "output_type": "stream",
     "text": [
      "As variáveis escolhidas aleatoriamente são 'ind_var13_corto_0' e 'ind_var8'\n"
     ]
    }
   ],
   "source": [
    "imp = [col for col in dados_0.columns if 'ind' in col]\n",
    "\n",
    "random.seed(a=1) #setting seed so that random chosen features are always the same\n",
    "imp_feat = random.sample(imp,2)\n",
    "print(\"As variáveis escolhidas aleatoriamente são '%s' e '%s'\"%(imp_feat[0],imp_feat[1]))"
   ]
  },
  {
   "cell_type": "code",
   "execution_count": 53,
   "metadata": {},
   "outputs": [
    {
     "name": "stdout",
     "output_type": "stream",
     "text": [
      "Valor Minimo ind_var13_corto_0: 0\n",
      "Valor Minimo ind_var13_corto_0: 1\n"
     ]
    }
   ],
   "source": [
    "col = imp_feat[0]\n",
    "max_ = dados_0[col].max()\n",
    "min_ = dados_0[col].min()\n",
    "print(\"Valor Minimo %s: \" %(col) + str(min_))\n",
    "print(\"Valor Minimo %s: \" %(col) + str(max_))"
   ]
  },
  {
   "cell_type": "markdown",
   "metadata": {},
   "source": [
    "Ao contrário das outras variáveis, esta variável parece ser binária!"
   ]
  },
  {
   "cell_type": "code",
   "execution_count": 54,
   "metadata": {},
   "outputs": [
    {
     "name": "stdout",
     "output_type": "stream",
     "text": [
      "Top 5 Percentual de ocorrências dos valores para 'ind_var13_corto_0':\n",
      "Valor\t Contagem%\n",
      "0    95.706393\n",
      "1     4.293607\n",
      "Name: ind_var13_corto_0, dtype: float64\n",
      "****************************************************************************************************\n"
     ]
    }
   ],
   "source": [
    "print(\"Top 5 Percentual de ocorrências dos valores para '%s':\"%(col))\n",
    "print(\"Valor\\t Contagem%\")\n",
    "print((dados_0[col].value_counts()*100/dados_0.shape[0]).iloc[:5])\n",
    "print(\"*\"*100)"
   ]
  },
  {
   "cell_type": "markdown",
   "metadata": {},
   "source": [
    "Com 96% de seus valores sendo 0, já que é uma variável binária, vamos analisar seus valores de acordo com a nossa variável \"TARGET\""
   ]
  },
  {
   "cell_type": "code",
   "execution_count": 55,
   "metadata": {},
   "outputs": [
    {
     "name": "stdout",
     "output_type": "stream",
     "text": [
      "\n"
     ]
    },
    {
     "data": {
      "image/png": "[encoded data removed]",
      "text/plain": [
       "<Figure size 407.75x360 with 1 Axes>"
      ]
     },
     "metadata": {
      "needs_background": "light"
     },
     "output_type": "display_data"
    },
    {
     "name": "stdout",
     "output_type": "stream",
     "text": [
      "Percentual de clientes insatisfeitos quando 'ind_var13_corto_0'==0 é 4.099%\n",
      "Percentual de clientes insatisfeitos quando 'ind_var13_corto_0'==1 é 0.797%\n"
     ]
    }
   ],
   "source": [
    "y_col='TARGET'\n",
    "print('')\n",
    "sns.FacetGrid(data=dados_0,hue=y_col,height=5).map(plt.hist,col).add_legend()\n",
    "plt.title(\"Histograma de %s\"%(col))\n",
    "plt.show()\n",
    "for i in dados_0[col].unique():\n",
    "    print(\"Percentual de clientes insatisfeitos quando '%s'==%i é %.3f%%\"%\\\n",
    "      (col,i,dados_0[(dados_0[y_col]==1)&(dados_0[col]==i)][col].shape[0]*100/\\\n",
    "       dados_0[dados_0[col]==i].shape[0]))"
   ]
  },
  {
   "cell_type": "markdown",
   "metadata": {},
   "source": [
    "Há mais consumidores insatisfeitos quando ind_var13_corto_0 = 0 do que ao contrário."
   ]
  },
  {
   "cell_type": "markdown",
   "metadata": {},
   "source": [
    "Realizando a mesma análise para a variável \"ind_var8\""
   ]
  },
  {
   "cell_type": "code",
   "execution_count": 56,
   "metadata": {},
   "outputs": [
    {
     "name": "stdout",
     "output_type": "stream",
     "text": [
      "Valor Minimo ind_var8: 0\n",
      "Valor Minimo ind_var8: 1\n",
      "Top 5 Percentual de ocorrências dos valores para 'ind_var8':\n",
      "Valor\t Contagem%\n",
      "0    97.140226\n",
      "1     2.859774\n",
      "Name: ind_var8, dtype: float64\n",
      "****************************************************************************************************\n"
     ]
    }
   ],
   "source": [
    "col = imp_feat[1]\n",
    "max_ = dados_0[col].max()\n",
    "min_ = dados_0[col].min()\n",
    "print(\"Valor Minimo %s: \" %(col) + str(min_))\n",
    "print(\"Valor Minimo %s: \" %(col) + str(max_))\n",
    "\n",
    "print(\"Top 5 Percentual de ocorrências dos valores para '%s':\"%(col))\n",
    "print(\"Valor\\t Contagem%\")\n",
    "print((dados_0[col].value_counts()*100/dados_0.shape[0]).iloc[:5])\n",
    "print(\"*\"*100)"
   ]
  },
  {
   "cell_type": "code",
   "execution_count": 57,
   "metadata": {},
   "outputs": [
    {
     "name": "stdout",
     "output_type": "stream",
     "text": [
      "\n"
     ]
    },
    {
     "data": {
      "image/png": "[encoded data removed]",
      "text/plain": [
       "<Figure size 407.75x360 with 1 Axes>"
      ]
     },
     "metadata": {
      "needs_background": "light"
     },
     "output_type": "display_data"
    },
    {
     "name": "stdout",
     "output_type": "stream",
     "text": [
      "Percentual de clientes insatisfeitos quando 'ind_var8'==0 é 3.863%\n",
      "Percentual de clientes insatisfeitos quando 'ind_var8'==1 é 7.130%\n"
     ]
    }
   ],
   "source": [
    "y_col='TARGET'\n",
    "print('')\n",
    "sns.FacetGrid(data=dados_0,hue=y_col,height=5).map(plt.hist,col).add_legend()\n",
    "plt.title(\"Histograma de %s\"%(col))\n",
    "plt.show()\n",
    "for i in dados_0[col].unique():\n",
    "    print(\"Percentual de clientes insatisfeitos quando '%s'==%i é %.3f%%\"%\\\n",
    "      (col,i,dados_0[(dados_0[y_col]==1)&(dados_0[col]==i)][col].shape[0]*100/\\\n",
    "       dados_0[dados_0[col]==i].shape[0]))"
   ]
  },
  {
   "cell_type": "markdown",
   "metadata": {},
   "source": [
    "Ao contrário da variável \"ind_var13_corto_0\" a variável \"ind_var8\" possui mais consumidores insatisfeitos quando o seu valor é 1."
   ]
  },
  {
   "cell_type": "markdown",
   "metadata": {},
   "source": [
    "Considerando que as variáveis 'ind' possuem valores binários, vamos deixá-las assim mesmo."
   ]
  },
  {
   "cell_type": "markdown",
   "metadata": {},
   "source": [
    "## Engenharia de Atríbutos"
   ]
  },
  {
   "cell_type": "markdown",
   "metadata": {},
   "source": [
    "Devido ao grande número de colunas do dataset, já aplicamos algumas nas tranformações e seleção de variáveis na própria etapa da análise exploratória, apesar de estar \"misturando\" as coisas, no nosso entendimento isto foi necessário para eliminar recursos para as próximas etapas, desde que decidimos aplicar transformações logarítmicas nas variáveis 'saldo' e 'imp', e deixar as variáveis 'num' e 'ind' como estão, devemos aplicar a transformação logarítmica as variáveis restantes (de 'saldo' e 'imp'), uma vez que só aplicamos nas duas variáveis de cada selecionadas para análise."
   ]
  },
  {
   "cell_type": "code",
   "execution_count": 58,
   "metadata": {},
   "outputs": [
    {
     "name": "stdout",
     "output_type": "stream",
     "text": [
      "O número de variáveis 'saldo' e 'imp' são: 40\n"
     ]
    },
    {
     "data": {
      "text/plain": [
       "['imp_ent_var16_ult1',\n",
       " 'imp_op_var39_comer_ult1',\n",
       " 'imp_op_var39_comer_ult3',\n",
       " 'imp_op_var41_comer_ult1',\n",
       " 'imp_op_var41_comer_ult3',\n",
       " 'imp_op_var41_efect_ult1',\n",
       " 'imp_op_var41_efect_ult3',\n",
       " 'imp_op_var41_ult1',\n",
       " 'imp_op_var39_efect_ult1',\n",
       " 'imp_op_var39_efect_ult3',\n",
       " 'imp_op_var39_ult1',\n",
       " 'saldo_var5',\n",
       " 'saldo_var8',\n",
       " 'saldo_var12',\n",
       " 'saldo_var13_corto',\n",
       " 'saldo_var13',\n",
       " 'saldo_var24',\n",
       " 'saldo_var26',\n",
       " 'saldo_var25',\n",
       " 'saldo_var30',\n",
       " 'saldo_var37',\n",
       " 'saldo_var42',\n",
       " 'imp_aport_var13_hace3',\n",
       " 'imp_var43_emit_ult1',\n",
       " 'imp_trans_var37_ult1',\n",
       " 'saldo_medio_var5_hace2',\n",
       " 'saldo_medio_var5_hace3',\n",
       " 'saldo_medio_var5_ult1',\n",
       " 'saldo_medio_var5_ult3',\n",
       " 'saldo_medio_var8_hace2',\n",
       " 'saldo_medio_var8_ult1',\n",
       " 'saldo_medio_var8_ult3',\n",
       " 'saldo_medio_var12_hace2',\n",
       " 'saldo_medio_var12_hace3',\n",
       " 'saldo_medio_var12_ult1',\n",
       " 'saldo_medio_var12_ult3',\n",
       " 'saldo_medio_var13_corto_hace2',\n",
       " 'saldo_medio_var13_corto_hace3',\n",
       " 'saldo_medio_var13_corto_ult1',\n",
       " 'saldo_medio_var13_corto_ult3']"
      ]
     },
     "execution_count": 58,
     "metadata": {},
     "output_type": "execute_result"
    }
   ],
   "source": [
    "imp = [col for col in dados_0.columns if 'saldo' in col or 'imp' in col]\n",
    "print(\"O número de variáveis 'saldo' e 'imp' são: %i\"%(len(imp)))\n",
    "imp"
   ]
  },
  {
   "cell_type": "code",
   "execution_count": 59,
   "metadata": {},
   "outputs": [
    {
     "name": "stdout",
     "output_type": "stream",
     "text": [
      "O número de variáveis 'saldo' e 'imp' após as retiradas são: 36\n"
     ]
    },
    {
     "data": {
      "text/plain": [
       "['imp_ent_var16_ult1',\n",
       " 'imp_op_var39_comer_ult1',\n",
       " 'imp_op_var41_comer_ult1',\n",
       " 'imp_op_var41_comer_ult3',\n",
       " 'imp_op_var41_efect_ult1',\n",
       " 'imp_op_var41_efect_ult3',\n",
       " 'imp_op_var41_ult1',\n",
       " 'imp_op_var39_efect_ult1',\n",
       " 'imp_op_var39_ult1',\n",
       " 'saldo_var5',\n",
       " 'saldo_var8',\n",
       " 'saldo_var12',\n",
       " 'saldo_var13_corto',\n",
       " 'saldo_var24',\n",
       " 'saldo_var26',\n",
       " 'saldo_var25',\n",
       " 'saldo_var30',\n",
       " 'saldo_var37',\n",
       " 'saldo_var42',\n",
       " 'imp_aport_var13_hace3',\n",
       " 'imp_var43_emit_ult1',\n",
       " 'imp_trans_var37_ult1',\n",
       " 'saldo_medio_var5_hace2',\n",
       " 'saldo_medio_var5_hace3',\n",
       " 'saldo_medio_var5_ult1',\n",
       " 'saldo_medio_var5_ult3',\n",
       " 'saldo_medio_var8_hace2',\n",
       " 'saldo_medio_var8_ult1',\n",
       " 'saldo_medio_var8_ult3',\n",
       " 'saldo_medio_var12_hace3',\n",
       " 'saldo_medio_var12_ult1',\n",
       " 'saldo_medio_var12_ult3',\n",
       " 'saldo_medio_var13_corto_hace2',\n",
       " 'saldo_medio_var13_corto_hace3',\n",
       " 'saldo_medio_var13_corto_ult1',\n",
       " 'saldo_medio_var13_corto_ult3']"
      ]
     },
     "execution_count": 59,
     "metadata": {},
     "output_type": "execute_result"
    }
   ],
   "source": [
    "#Retirando as variáveis já transformadas:\n",
    "rem = [\"imp_op_var39_comer_ult3\", \"imp_op_var39_efect_ult3\", \"saldo_var13\", \"saldo_medio_var12_hace2\"]\n",
    "\n",
    "for i in rem:\n",
    "    imp.remove(i)\n",
    "    \n",
    "print(\"O número de variáveis 'saldo' e 'imp' após as retiradas são: %i\"%(len(imp)))\n",
    "imp"
   ]
  },
  {
   "cell_type": "code",
   "execution_count": 60,
   "metadata": {},
   "outputs": [
    {
     "name": "stderr",
     "output_type": "stream",
     "text": [
      "C:\\Users\\lucas\\Anaconda3\\lib\\site-packages\\pandas\\core\\arraylike.py:364: RuntimeWarning: invalid value encountered in log\n",
      "  result = getattr(ufunc, method)(*inputs, **kwargs)\n"
     ]
    }
   ],
   "source": [
    "#Aplicando a transformação logarítmica para os valores diferentes de 0 as variáveis restantes\n",
    "for i in imp:\n",
    "    dados_0.loc[dados_0[i]!=0,i] = np.log(dados_0.loc[dados_0[i]!=0,i])"
   ]
  },
  {
   "cell_type": "code",
   "execution_count": 61,
   "metadata": {},
   "outputs": [
    {
     "data": {
      "text/plain": [
       "76020"
      ]
     },
     "execution_count": 61,
     "metadata": {},
     "output_type": "execute_result"
    }
   ],
   "source": [
    "len(dados_0)"
   ]
  },
  {
   "cell_type": "code",
   "execution_count": 62,
   "metadata": {},
   "outputs": [
    {
     "data": {
      "text/html": [
       "<div>\n",
       "<style scoped>\n",
       "    .dataframe tbody tr th:only-of-type {\n",
       "        vertical-align: middle;\n",
       "    }\n",
       "\n",
       "    .dataframe tbody tr th {\n",
       "        vertical-align: top;\n",
       "    }\n",
       "\n",
       "    .dataframe thead th {\n",
       "        text-align: right;\n",
       "    }\n",
       "</style>\n",
       "<table border=\"1\" class=\"dataframe\">\n",
       "  <thead>\n",
       "    <tr style=\"text-align: right;\">\n",
       "      <th></th>\n",
       "      <th>ID</th>\n",
       "      <th>var3</th>\n",
       "      <th>var15</th>\n",
       "      <th>imp_ent_var16_ult1</th>\n",
       "      <th>imp_op_var39_comer_ult1</th>\n",
       "      <th>imp_op_var39_comer_ult3</th>\n",
       "      <th>imp_op_var41_comer_ult1</th>\n",
       "      <th>imp_op_var41_comer_ult3</th>\n",
       "      <th>imp_op_var41_efect_ult1</th>\n",
       "      <th>imp_op_var41_efect_ult3</th>\n",
       "      <th>...</th>\n",
       "      <th>saldo_medio_var12_hace3</th>\n",
       "      <th>saldo_medio_var12_ult1</th>\n",
       "      <th>saldo_medio_var12_ult3</th>\n",
       "      <th>saldo_medio_var13_corto_hace2</th>\n",
       "      <th>saldo_medio_var13_corto_hace3</th>\n",
       "      <th>saldo_medio_var13_corto_ult1</th>\n",
       "      <th>saldo_medio_var13_corto_ult3</th>\n",
       "      <th>var38</th>\n",
       "      <th>TARGET</th>\n",
       "      <th>var15_below_23</th>\n",
       "    </tr>\n",
       "  </thead>\n",
       "  <tbody>\n",
       "    <tr>\n",
       "      <th>0</th>\n",
       "      <td>1</td>\n",
       "      <td>2</td>\n",
       "      <td>0</td>\n",
       "      <td>0.0</td>\n",
       "      <td>0.000</td>\n",
       "      <td>0.000</td>\n",
       "      <td>0.000</td>\n",
       "      <td>0.000</td>\n",
       "      <td>0.0</td>\n",
       "      <td>0.0</td>\n",
       "      <td>...</td>\n",
       "      <td>0.0</td>\n",
       "      <td>0.000000</td>\n",
       "      <td>0.000000</td>\n",
       "      <td>0.000000</td>\n",
       "      <td>0.000000</td>\n",
       "      <td>0.000000</td>\n",
       "      <td>0.000000</td>\n",
       "      <td>10.576564</td>\n",
       "      <td>0</td>\n",
       "      <td>0</td>\n",
       "    </tr>\n",
       "    <tr>\n",
       "      <th>1</th>\n",
       "      <td>3</td>\n",
       "      <td>2</td>\n",
       "      <td>1</td>\n",
       "      <td>0.0</td>\n",
       "      <td>0.000</td>\n",
       "      <td>0.000</td>\n",
       "      <td>0.000</td>\n",
       "      <td>0.000</td>\n",
       "      <td>0.0</td>\n",
       "      <td>0.0</td>\n",
       "      <td>...</td>\n",
       "      <td>0.0</td>\n",
       "      <td>0.000000</td>\n",
       "      <td>0.000000</td>\n",
       "      <td>5.703782</td>\n",
       "      <td>4.805823</td>\n",
       "      <td>5.703782</td>\n",
       "      <td>5.483759</td>\n",
       "      <td>10.805234</td>\n",
       "      <td>0</td>\n",
       "      <td>0</td>\n",
       "    </tr>\n",
       "    <tr>\n",
       "      <th>2</th>\n",
       "      <td>4</td>\n",
       "      <td>2</td>\n",
       "      <td>0</td>\n",
       "      <td>0.0</td>\n",
       "      <td>0.000</td>\n",
       "      <td>0.000</td>\n",
       "      <td>0.000</td>\n",
       "      <td>0.000</td>\n",
       "      <td>0.0</td>\n",
       "      <td>0.0</td>\n",
       "      <td>...</td>\n",
       "      <td>0.0</td>\n",
       "      <td>0.000000</td>\n",
       "      <td>0.000000</td>\n",
       "      <td>0.000000</td>\n",
       "      <td>0.000000</td>\n",
       "      <td>0.000000</td>\n",
       "      <td>0.000000</td>\n",
       "      <td>11.117417</td>\n",
       "      <td>0</td>\n",
       "      <td>0</td>\n",
       "    </tr>\n",
       "    <tr>\n",
       "      <th>3</th>\n",
       "      <td>8</td>\n",
       "      <td>2</td>\n",
       "      <td>1</td>\n",
       "      <td>0.0</td>\n",
       "      <td>5.273</td>\n",
       "      <td>5.273</td>\n",
       "      <td>5.273</td>\n",
       "      <td>5.273</td>\n",
       "      <td>0.0</td>\n",
       "      <td>0.0</td>\n",
       "      <td>...</td>\n",
       "      <td>0.0</td>\n",
       "      <td>0.000000</td>\n",
       "      <td>0.000000</td>\n",
       "      <td>0.000000</td>\n",
       "      <td>0.000000</td>\n",
       "      <td>0.000000</td>\n",
       "      <td>0.000000</td>\n",
       "      <td>11.066763</td>\n",
       "      <td>0</td>\n",
       "      <td>0</td>\n",
       "    </tr>\n",
       "    <tr>\n",
       "      <th>4</th>\n",
       "      <td>10</td>\n",
       "      <td>2</td>\n",
       "      <td>1</td>\n",
       "      <td>0.0</td>\n",
       "      <td>0.000</td>\n",
       "      <td>0.000</td>\n",
       "      <td>0.000</td>\n",
       "      <td>0.000</td>\n",
       "      <td>0.0</td>\n",
       "      <td>0.0</td>\n",
       "      <td>...</td>\n",
       "      <td>0.0</td>\n",
       "      <td>11.356294</td>\n",
       "      <td>11.356294</td>\n",
       "      <td>0.000000</td>\n",
       "      <td>0.000000</td>\n",
       "      <td>0.000000</td>\n",
       "      <td>0.000000</td>\n",
       "      <td>11.672584</td>\n",
       "      <td>0</td>\n",
       "      <td>0</td>\n",
       "    </tr>\n",
       "    <tr>\n",
       "      <th>5</th>\n",
       "      <td>13</td>\n",
       "      <td>2</td>\n",
       "      <td>0</td>\n",
       "      <td>0.0</td>\n",
       "      <td>0.000</td>\n",
       "      <td>0.000</td>\n",
       "      <td>0.000</td>\n",
       "      <td>0.000</td>\n",
       "      <td>0.0</td>\n",
       "      <td>0.0</td>\n",
       "      <td>...</td>\n",
       "      <td>0.0</td>\n",
       "      <td>0.000000</td>\n",
       "      <td>0.000000</td>\n",
       "      <td>0.000000</td>\n",
       "      <td>0.000000</td>\n",
       "      <td>0.000000</td>\n",
       "      <td>0.000000</td>\n",
       "      <td>11.384816</td>\n",
       "      <td>0</td>\n",
       "      <td>0</td>\n",
       "    </tr>\n",
       "    <tr>\n",
       "      <th>6</th>\n",
       "      <td>14</td>\n",
       "      <td>2</td>\n",
       "      <td>1</td>\n",
       "      <td>0.0</td>\n",
       "      <td>0.000</td>\n",
       "      <td>0.000</td>\n",
       "      <td>0.000</td>\n",
       "      <td>0.000</td>\n",
       "      <td>0.0</td>\n",
       "      <td>0.0</td>\n",
       "      <td>...</td>\n",
       "      <td>0.0</td>\n",
       "      <td>0.000000</td>\n",
       "      <td>0.000000</td>\n",
       "      <td>0.000000</td>\n",
       "      <td>0.000000</td>\n",
       "      <td>0.000000</td>\n",
       "      <td>0.000000</td>\n",
       "      <td>11.461176</td>\n",
       "      <td>0</td>\n",
       "      <td>0</td>\n",
       "    </tr>\n",
       "    <tr>\n",
       "      <th>7</th>\n",
       "      <td>18</td>\n",
       "      <td>2</td>\n",
       "      <td>1</td>\n",
       "      <td>0.0</td>\n",
       "      <td>0.000</td>\n",
       "      <td>0.000</td>\n",
       "      <td>0.000</td>\n",
       "      <td>0.000</td>\n",
       "      <td>0.0</td>\n",
       "      <td>0.0</td>\n",
       "      <td>...</td>\n",
       "      <td>0.0</td>\n",
       "      <td>0.000000</td>\n",
       "      <td>0.000000</td>\n",
       "      <td>0.000000</td>\n",
       "      <td>0.000000</td>\n",
       "      <td>0.000000</td>\n",
       "      <td>0.000000</td>\n",
       "      <td>12.435751</td>\n",
       "      <td>0</td>\n",
       "      <td>0</td>\n",
       "    </tr>\n",
       "    <tr>\n",
       "      <th>8</th>\n",
       "      <td>20</td>\n",
       "      <td>2</td>\n",
       "      <td>1</td>\n",
       "      <td>0.0</td>\n",
       "      <td>0.000</td>\n",
       "      <td>0.000</td>\n",
       "      <td>0.000</td>\n",
       "      <td>0.000</td>\n",
       "      <td>0.0</td>\n",
       "      <td>0.0</td>\n",
       "      <td>...</td>\n",
       "      <td>0.0</td>\n",
       "      <td>0.000000</td>\n",
       "      <td>0.000000</td>\n",
       "      <td>0.000000</td>\n",
       "      <td>0.000000</td>\n",
       "      <td>0.000000</td>\n",
       "      <td>0.000000</td>\n",
       "      <td>11.532356</td>\n",
       "      <td>0</td>\n",
       "      <td>0</td>\n",
       "    </tr>\n",
       "    <tr>\n",
       "      <th>9</th>\n",
       "      <td>23</td>\n",
       "      <td>2</td>\n",
       "      <td>0</td>\n",
       "      <td>0.0</td>\n",
       "      <td>0.000</td>\n",
       "      <td>0.000</td>\n",
       "      <td>0.000</td>\n",
       "      <td>0.000</td>\n",
       "      <td>0.0</td>\n",
       "      <td>0.0</td>\n",
       "      <td>...</td>\n",
       "      <td>0.0</td>\n",
       "      <td>0.000000</td>\n",
       "      <td>0.000000</td>\n",
       "      <td>0.000000</td>\n",
       "      <td>0.000000</td>\n",
       "      <td>0.000000</td>\n",
       "      <td>0.000000</td>\n",
       "      <td>12.783986</td>\n",
       "      <td>0</td>\n",
       "      <td>0</td>\n",
       "    </tr>\n",
       "  </tbody>\n",
       "</table>\n",
       "<p>10 rows × 144 columns</p>\n",
       "</div>"
      ],
      "text/plain": [
       "   ID  var3  var15  imp_ent_var16_ult1  imp_op_var39_comer_ult1  \\\n",
       "0   1     2      0                 0.0                    0.000   \n",
       "1   3     2      1                 0.0                    0.000   \n",
       "2   4     2      0                 0.0                    0.000   \n",
       "3   8     2      1                 0.0                    5.273   \n",
       "4  10     2      1                 0.0                    0.000   \n",
       "5  13     2      0                 0.0                    0.000   \n",
       "6  14     2      1                 0.0                    0.000   \n",
       "7  18     2      1                 0.0                    0.000   \n",
       "8  20     2      1                 0.0                    0.000   \n",
       "9  23     2      0                 0.0                    0.000   \n",
       "\n",
       "   imp_op_var39_comer_ult3  imp_op_var41_comer_ult1  imp_op_var41_comer_ult3  \\\n",
       "0                    0.000                    0.000                    0.000   \n",
       "1                    0.000                    0.000                    0.000   \n",
       "2                    0.000                    0.000                    0.000   \n",
       "3                    5.273                    5.273                    5.273   \n",
       "4                    0.000                    0.000                    0.000   \n",
       "5                    0.000                    0.000                    0.000   \n",
       "6                    0.000                    0.000                    0.000   \n",
       "7                    0.000                    0.000                    0.000   \n",
       "8                    0.000                    0.000                    0.000   \n",
       "9                    0.000                    0.000                    0.000   \n",
       "\n",
       "   imp_op_var41_efect_ult1  imp_op_var41_efect_ult3  ...  \\\n",
       "0                      0.0                      0.0  ...   \n",
       "1                      0.0                      0.0  ...   \n",
       "2                      0.0                      0.0  ...   \n",
       "3                      0.0                      0.0  ...   \n",
       "4                      0.0                      0.0  ...   \n",
       "5                      0.0                      0.0  ...   \n",
       "6                      0.0                      0.0  ...   \n",
       "7                      0.0                      0.0  ...   \n",
       "8                      0.0                      0.0  ...   \n",
       "9                      0.0                      0.0  ...   \n",
       "\n",
       "   saldo_medio_var12_hace3  saldo_medio_var12_ult1  saldo_medio_var12_ult3  \\\n",
       "0                      0.0                0.000000                0.000000   \n",
       "1                      0.0                0.000000                0.000000   \n",
       "2                      0.0                0.000000                0.000000   \n",
       "3                      0.0                0.000000                0.000000   \n",
       "4                      0.0               11.356294               11.356294   \n",
       "5                      0.0                0.000000                0.000000   \n",
       "6                      0.0                0.000000                0.000000   \n",
       "7                      0.0                0.000000                0.000000   \n",
       "8                      0.0                0.000000                0.000000   \n",
       "9                      0.0                0.000000                0.000000   \n",
       "\n",
       "   saldo_medio_var13_corto_hace2  saldo_medio_var13_corto_hace3  \\\n",
       "0                       0.000000                       0.000000   \n",
       "1                       5.703782                       4.805823   \n",
       "2                       0.000000                       0.000000   \n",
       "3                       0.000000                       0.000000   \n",
       "4                       0.000000                       0.000000   \n",
       "5                       0.000000                       0.000000   \n",
       "6                       0.000000                       0.000000   \n",
       "7                       0.000000                       0.000000   \n",
       "8                       0.000000                       0.000000   \n",
       "9                       0.000000                       0.000000   \n",
       "\n",
       "   saldo_medio_var13_corto_ult1  saldo_medio_var13_corto_ult3      var38  \\\n",
       "0                      0.000000                      0.000000  10.576564   \n",
       "1                      5.703782                      5.483759  10.805234   \n",
       "2                      0.000000                      0.000000  11.117417   \n",
       "3                      0.000000                      0.000000  11.066763   \n",
       "4                      0.000000                      0.000000  11.672584   \n",
       "5                      0.000000                      0.000000  11.384816   \n",
       "6                      0.000000                      0.000000  11.461176   \n",
       "7                      0.000000                      0.000000  12.435751   \n",
       "8                      0.000000                      0.000000  11.532356   \n",
       "9                      0.000000                      0.000000  12.783986   \n",
       "\n",
       "   TARGET  var15_below_23  \n",
       "0       0               0  \n",
       "1       0               0  \n",
       "2       0               0  \n",
       "3       0               0  \n",
       "4       0               0  \n",
       "5       0               0  \n",
       "6       0               0  \n",
       "7       0               0  \n",
       "8       0               0  \n",
       "9       0               0  \n",
       "\n",
       "[10 rows x 144 columns]"
      ]
     },
     "execution_count": 62,
     "metadata": {},
     "output_type": "execute_result"
    }
   ],
   "source": [
    "dados_0.head(10)"
   ]
  },
  {
   "cell_type": "code",
   "execution_count": 63,
   "metadata": {
    "scrolled": true
   },
   "outputs": [
    {
     "data": {
      "text/html": [
       "<div>\n",
       "<style scoped>\n",
       "    .dataframe tbody tr th:only-of-type {\n",
       "        vertical-align: middle;\n",
       "    }\n",
       "\n",
       "    .dataframe tbody tr th {\n",
       "        vertical-align: top;\n",
       "    }\n",
       "\n",
       "    .dataframe thead th {\n",
       "        text-align: right;\n",
       "    }\n",
       "</style>\n",
       "<table border=\"1\" class=\"dataframe\">\n",
       "  <thead>\n",
       "    <tr style=\"text-align: right;\">\n",
       "      <th></th>\n",
       "      <th>ID</th>\n",
       "      <th>var3</th>\n",
       "      <th>var15</th>\n",
       "      <th>imp_ent_var16_ult1</th>\n",
       "      <th>imp_op_var39_comer_ult1</th>\n",
       "      <th>imp_op_var39_comer_ult3</th>\n",
       "      <th>imp_op_var41_comer_ult1</th>\n",
       "      <th>imp_op_var41_comer_ult3</th>\n",
       "      <th>imp_op_var41_efect_ult1</th>\n",
       "      <th>imp_op_var41_efect_ult3</th>\n",
       "      <th>...</th>\n",
       "      <th>saldo_medio_var12_hace3</th>\n",
       "      <th>saldo_medio_var12_ult1</th>\n",
       "      <th>saldo_medio_var12_ult3</th>\n",
       "      <th>saldo_medio_var13_corto_hace2</th>\n",
       "      <th>saldo_medio_var13_corto_hace3</th>\n",
       "      <th>saldo_medio_var13_corto_ult1</th>\n",
       "      <th>saldo_medio_var13_corto_ult3</th>\n",
       "      <th>var38</th>\n",
       "      <th>var15_below_23</th>\n",
       "      <th>TARGET1</th>\n",
       "    </tr>\n",
       "  </thead>\n",
       "  <tbody>\n",
       "    <tr>\n",
       "      <th>0</th>\n",
       "      <td>1</td>\n",
       "      <td>2</td>\n",
       "      <td>0</td>\n",
       "      <td>0.0</td>\n",
       "      <td>0.000</td>\n",
       "      <td>0.000</td>\n",
       "      <td>0.000</td>\n",
       "      <td>0.000</td>\n",
       "      <td>0.0</td>\n",
       "      <td>0.0</td>\n",
       "      <td>...</td>\n",
       "      <td>0.0</td>\n",
       "      <td>0.000000</td>\n",
       "      <td>0.000000</td>\n",
       "      <td>0.000000</td>\n",
       "      <td>0.000000</td>\n",
       "      <td>0.000000</td>\n",
       "      <td>0.000000</td>\n",
       "      <td>10.576564</td>\n",
       "      <td>0</td>\n",
       "      <td>0</td>\n",
       "    </tr>\n",
       "    <tr>\n",
       "      <th>1</th>\n",
       "      <td>3</td>\n",
       "      <td>2</td>\n",
       "      <td>1</td>\n",
       "      <td>0.0</td>\n",
       "      <td>0.000</td>\n",
       "      <td>0.000</td>\n",
       "      <td>0.000</td>\n",
       "      <td>0.000</td>\n",
       "      <td>0.0</td>\n",
       "      <td>0.0</td>\n",
       "      <td>...</td>\n",
       "      <td>0.0</td>\n",
       "      <td>0.000000</td>\n",
       "      <td>0.000000</td>\n",
       "      <td>5.703782</td>\n",
       "      <td>4.805823</td>\n",
       "      <td>5.703782</td>\n",
       "      <td>5.483759</td>\n",
       "      <td>10.805234</td>\n",
       "      <td>0</td>\n",
       "      <td>0</td>\n",
       "    </tr>\n",
       "    <tr>\n",
       "      <th>2</th>\n",
       "      <td>4</td>\n",
       "      <td>2</td>\n",
       "      <td>0</td>\n",
       "      <td>0.0</td>\n",
       "      <td>0.000</td>\n",
       "      <td>0.000</td>\n",
       "      <td>0.000</td>\n",
       "      <td>0.000</td>\n",
       "      <td>0.0</td>\n",
       "      <td>0.0</td>\n",
       "      <td>...</td>\n",
       "      <td>0.0</td>\n",
       "      <td>0.000000</td>\n",
       "      <td>0.000000</td>\n",
       "      <td>0.000000</td>\n",
       "      <td>0.000000</td>\n",
       "      <td>0.000000</td>\n",
       "      <td>0.000000</td>\n",
       "      <td>11.117417</td>\n",
       "      <td>0</td>\n",
       "      <td>0</td>\n",
       "    </tr>\n",
       "    <tr>\n",
       "      <th>3</th>\n",
       "      <td>8</td>\n",
       "      <td>2</td>\n",
       "      <td>1</td>\n",
       "      <td>0.0</td>\n",
       "      <td>5.273</td>\n",
       "      <td>5.273</td>\n",
       "      <td>5.273</td>\n",
       "      <td>5.273</td>\n",
       "      <td>0.0</td>\n",
       "      <td>0.0</td>\n",
       "      <td>...</td>\n",
       "      <td>0.0</td>\n",
       "      <td>0.000000</td>\n",
       "      <td>0.000000</td>\n",
       "      <td>0.000000</td>\n",
       "      <td>0.000000</td>\n",
       "      <td>0.000000</td>\n",
       "      <td>0.000000</td>\n",
       "      <td>11.066763</td>\n",
       "      <td>0</td>\n",
       "      <td>0</td>\n",
       "    </tr>\n",
       "    <tr>\n",
       "      <th>4</th>\n",
       "      <td>10</td>\n",
       "      <td>2</td>\n",
       "      <td>1</td>\n",
       "      <td>0.0</td>\n",
       "      <td>0.000</td>\n",
       "      <td>0.000</td>\n",
       "      <td>0.000</td>\n",
       "      <td>0.000</td>\n",
       "      <td>0.0</td>\n",
       "      <td>0.0</td>\n",
       "      <td>...</td>\n",
       "      <td>0.0</td>\n",
       "      <td>11.356294</td>\n",
       "      <td>11.356294</td>\n",
       "      <td>0.000000</td>\n",
       "      <td>0.000000</td>\n",
       "      <td>0.000000</td>\n",
       "      <td>0.000000</td>\n",
       "      <td>11.672584</td>\n",
       "      <td>0</td>\n",
       "      <td>0</td>\n",
       "    </tr>\n",
       "    <tr>\n",
       "      <th>5</th>\n",
       "      <td>13</td>\n",
       "      <td>2</td>\n",
       "      <td>0</td>\n",
       "      <td>0.0</td>\n",
       "      <td>0.000</td>\n",
       "      <td>0.000</td>\n",
       "      <td>0.000</td>\n",
       "      <td>0.000</td>\n",
       "      <td>0.0</td>\n",
       "      <td>0.0</td>\n",
       "      <td>...</td>\n",
       "      <td>0.0</td>\n",
       "      <td>0.000000</td>\n",
       "      <td>0.000000</td>\n",
       "      <td>0.000000</td>\n",
       "      <td>0.000000</td>\n",
       "      <td>0.000000</td>\n",
       "      <td>0.000000</td>\n",
       "      <td>11.384816</td>\n",
       "      <td>0</td>\n",
       "      <td>0</td>\n",
       "    </tr>\n",
       "    <tr>\n",
       "      <th>6</th>\n",
       "      <td>14</td>\n",
       "      <td>2</td>\n",
       "      <td>1</td>\n",
       "      <td>0.0</td>\n",
       "      <td>0.000</td>\n",
       "      <td>0.000</td>\n",
       "      <td>0.000</td>\n",
       "      <td>0.000</td>\n",
       "      <td>0.0</td>\n",
       "      <td>0.0</td>\n",
       "      <td>...</td>\n",
       "      <td>0.0</td>\n",
       "      <td>0.000000</td>\n",
       "      <td>0.000000</td>\n",
       "      <td>0.000000</td>\n",
       "      <td>0.000000</td>\n",
       "      <td>0.000000</td>\n",
       "      <td>0.000000</td>\n",
       "      <td>11.461176</td>\n",
       "      <td>0</td>\n",
       "      <td>0</td>\n",
       "    </tr>\n",
       "    <tr>\n",
       "      <th>7</th>\n",
       "      <td>18</td>\n",
       "      <td>2</td>\n",
       "      <td>1</td>\n",
       "      <td>0.0</td>\n",
       "      <td>0.000</td>\n",
       "      <td>0.000</td>\n",
       "      <td>0.000</td>\n",
       "      <td>0.000</td>\n",
       "      <td>0.0</td>\n",
       "      <td>0.0</td>\n",
       "      <td>...</td>\n",
       "      <td>0.0</td>\n",
       "      <td>0.000000</td>\n",
       "      <td>0.000000</td>\n",
       "      <td>0.000000</td>\n",
       "      <td>0.000000</td>\n",
       "      <td>0.000000</td>\n",
       "      <td>0.000000</td>\n",
       "      <td>12.435751</td>\n",
       "      <td>0</td>\n",
       "      <td>0</td>\n",
       "    </tr>\n",
       "    <tr>\n",
       "      <th>8</th>\n",
       "      <td>20</td>\n",
       "      <td>2</td>\n",
       "      <td>1</td>\n",
       "      <td>0.0</td>\n",
       "      <td>0.000</td>\n",
       "      <td>0.000</td>\n",
       "      <td>0.000</td>\n",
       "      <td>0.000</td>\n",
       "      <td>0.0</td>\n",
       "      <td>0.0</td>\n",
       "      <td>...</td>\n",
       "      <td>0.0</td>\n",
       "      <td>0.000000</td>\n",
       "      <td>0.000000</td>\n",
       "      <td>0.000000</td>\n",
       "      <td>0.000000</td>\n",
       "      <td>0.000000</td>\n",
       "      <td>0.000000</td>\n",
       "      <td>11.532356</td>\n",
       "      <td>0</td>\n",
       "      <td>0</td>\n",
       "    </tr>\n",
       "    <tr>\n",
       "      <th>9</th>\n",
       "      <td>23</td>\n",
       "      <td>2</td>\n",
       "      <td>0</td>\n",
       "      <td>0.0</td>\n",
       "      <td>0.000</td>\n",
       "      <td>0.000</td>\n",
       "      <td>0.000</td>\n",
       "      <td>0.000</td>\n",
       "      <td>0.0</td>\n",
       "      <td>0.0</td>\n",
       "      <td>...</td>\n",
       "      <td>0.0</td>\n",
       "      <td>0.000000</td>\n",
       "      <td>0.000000</td>\n",
       "      <td>0.000000</td>\n",
       "      <td>0.000000</td>\n",
       "      <td>0.000000</td>\n",
       "      <td>0.000000</td>\n",
       "      <td>12.783986</td>\n",
       "      <td>0</td>\n",
       "      <td>0</td>\n",
       "    </tr>\n",
       "  </tbody>\n",
       "</table>\n",
       "<p>10 rows × 144 columns</p>\n",
       "</div>"
      ],
      "text/plain": [
       "   ID  var3  var15  imp_ent_var16_ult1  imp_op_var39_comer_ult1  \\\n",
       "0   1     2      0                 0.0                    0.000   \n",
       "1   3     2      1                 0.0                    0.000   \n",
       "2   4     2      0                 0.0                    0.000   \n",
       "3   8     2      1                 0.0                    5.273   \n",
       "4  10     2      1                 0.0                    0.000   \n",
       "5  13     2      0                 0.0                    0.000   \n",
       "6  14     2      1                 0.0                    0.000   \n",
       "7  18     2      1                 0.0                    0.000   \n",
       "8  20     2      1                 0.0                    0.000   \n",
       "9  23     2      0                 0.0                    0.000   \n",
       "\n",
       "   imp_op_var39_comer_ult3  imp_op_var41_comer_ult1  imp_op_var41_comer_ult3  \\\n",
       "0                    0.000                    0.000                    0.000   \n",
       "1                    0.000                    0.000                    0.000   \n",
       "2                    0.000                    0.000                    0.000   \n",
       "3                    5.273                    5.273                    5.273   \n",
       "4                    0.000                    0.000                    0.000   \n",
       "5                    0.000                    0.000                    0.000   \n",
       "6                    0.000                    0.000                    0.000   \n",
       "7                    0.000                    0.000                    0.000   \n",
       "8                    0.000                    0.000                    0.000   \n",
       "9                    0.000                    0.000                    0.000   \n",
       "\n",
       "   imp_op_var41_efect_ult1  imp_op_var41_efect_ult3  ...  \\\n",
       "0                      0.0                      0.0  ...   \n",
       "1                      0.0                      0.0  ...   \n",
       "2                      0.0                      0.0  ...   \n",
       "3                      0.0                      0.0  ...   \n",
       "4                      0.0                      0.0  ...   \n",
       "5                      0.0                      0.0  ...   \n",
       "6                      0.0                      0.0  ...   \n",
       "7                      0.0                      0.0  ...   \n",
       "8                      0.0                      0.0  ...   \n",
       "9                      0.0                      0.0  ...   \n",
       "\n",
       "   saldo_medio_var12_hace3  saldo_medio_var12_ult1  saldo_medio_var12_ult3  \\\n",
       "0                      0.0                0.000000                0.000000   \n",
       "1                      0.0                0.000000                0.000000   \n",
       "2                      0.0                0.000000                0.000000   \n",
       "3                      0.0                0.000000                0.000000   \n",
       "4                      0.0               11.356294               11.356294   \n",
       "5                      0.0                0.000000                0.000000   \n",
       "6                      0.0                0.000000                0.000000   \n",
       "7                      0.0                0.000000                0.000000   \n",
       "8                      0.0                0.000000                0.000000   \n",
       "9                      0.0                0.000000                0.000000   \n",
       "\n",
       "   saldo_medio_var13_corto_hace2  saldo_medio_var13_corto_hace3  \\\n",
       "0                       0.000000                       0.000000   \n",
       "1                       5.703782                       4.805823   \n",
       "2                       0.000000                       0.000000   \n",
       "3                       0.000000                       0.000000   \n",
       "4                       0.000000                       0.000000   \n",
       "5                       0.000000                       0.000000   \n",
       "6                       0.000000                       0.000000   \n",
       "7                       0.000000                       0.000000   \n",
       "8                       0.000000                       0.000000   \n",
       "9                       0.000000                       0.000000   \n",
       "\n",
       "   saldo_medio_var13_corto_ult1  saldo_medio_var13_corto_ult3      var38  \\\n",
       "0                      0.000000                      0.000000  10.576564   \n",
       "1                      5.703782                      5.483759  10.805234   \n",
       "2                      0.000000                      0.000000  11.117417   \n",
       "3                      0.000000                      0.000000  11.066763   \n",
       "4                      0.000000                      0.000000  11.672584   \n",
       "5                      0.000000                      0.000000  11.384816   \n",
       "6                      0.000000                      0.000000  11.461176   \n",
       "7                      0.000000                      0.000000  12.435751   \n",
       "8                      0.000000                      0.000000  11.532356   \n",
       "9                      0.000000                      0.000000  12.783986   \n",
       "\n",
       "   var15_below_23  TARGET1  \n",
       "0               0        0  \n",
       "1               0        0  \n",
       "2               0        0  \n",
       "3               0        0  \n",
       "4               0        0  \n",
       "5               0        0  \n",
       "6               0        0  \n",
       "7               0        0  \n",
       "8               0        0  \n",
       "9               0        0  \n",
       "\n",
       "[10 rows x 144 columns]"
      ]
     },
     "execution_count": 63,
     "metadata": {},
     "output_type": "execute_result"
    }
   ],
   "source": [
    "#Criando uma cópia do dataset dados_0\n",
    "dados_1 = dados_0\n",
    "\n",
    "#Cria uma variável a mais no dataset (para deixar a variável target no último índice)\n",
    "dados_1['TARGET1'] = dados_1['TARGET']\n",
    "dados_1 = dados_1.drop(columns=['TARGET'])\n",
    "dados1 = dados_1.rename(columns={'TARGET1': 'TARGET'})\n",
    "dados_1.head(10)"
   ]
  },
  {
   "cell_type": "code",
   "execution_count": 64,
   "metadata": {},
   "outputs": [
    {
     "data": {
      "text/plain": [
       "495"
      ]
     },
     "execution_count": 64,
     "metadata": {},
     "output_type": "execute_result"
    }
   ],
   "source": [
    "dados_1.isna().sum().sum()"
   ]
  },
  {
   "cell_type": "markdown",
   "metadata": {},
   "source": [
    "As operações com os dados acabaram gerando valores NA no dataset, desde que a maioria dos valores das colunas são nulos, vamos substituir os valores NA por valores nulos."
   ]
  },
  {
   "cell_type": "code",
   "execution_count": 65,
   "metadata": {},
   "outputs": [
    {
     "data": {
      "text/plain": [
       "0"
      ]
     },
     "execution_count": 65,
     "metadata": {},
     "output_type": "execute_result"
    }
   ],
   "source": [
    "# Apply the function\n",
    "dados_1 = dados_1.fillna(0)\n",
    "dados_1.isna().sum().sum()"
   ]
  },
  {
   "cell_type": "markdown",
   "metadata": {},
   "source": [
    "Vamos aplicar uma normalização nos dados para os deixá-los na mesma escala."
   ]
  },
  {
   "cell_type": "code",
   "execution_count": 66,
   "metadata": {},
   "outputs": [
    {
     "name": "stdout",
     "output_type": "stream",
     "text": [
      "\n",
      "Dados Normalizados: \n",
      "\n",
      " [[0.00840336 0.         0.18671089 0.27034637 0.26051662 0.27034637\n",
      "  0.26521204 0.         0.         0.24560705 0.         0.\n",
      "  0.24560705 0.         1.         0.         0.         0.\n",
      "  0.         0.         0.         0.         0.         0.\n",
      "  0.         0.         0.         0.         0.         0.\n",
      "  0.         0.         1.         0.         0.         0.\n",
      "  1.         0.         1.         0.         0.         0.2\n",
      "  0.         0.         0.         0.         0.         0.\n",
      "  0.         0.         0.         0.         0.         0.\n",
      "  0.         0.         0.         0.         0.         0.\n",
      "  0.         0.         0.         0.         0.         0.02631579\n",
      "  0.         0.         0.         0.         0.09090909 0.\n",
      "  0.09090909 0.02631579 0.         0.20819143 0.22060567 0.19033206\n",
      "  0.         0.         0.19033206 0.         0.         0.18890261\n",
      "  0.10635101 0.19033206 1.         0.         0.20076282 0.19309965\n",
      "  0.         0.         0.         0.         0.         0.\n",
      "  0.         0.         0.         0.         0.         0.\n",
      "  0.         0.         0.         0.         0.         0.\n",
      "  0.         0.66666667 0.         0.         0.         0.\n",
      "  0.         0.         0.         0.         0.         0.\n",
      "  0.         0.         0.         0.         0.         0.20489432\n",
      "  0.19749282 0.20855459 0.20979847 0.1219066  0.22132053 0.12424287\n",
      "  0.13900884 0.17338952 0.19034544 0.10487199 0.         0.\n",
      "  0.         0.         0.24251888 0.        ]\n",
      " [0.00840336 0.25       0.18671089 0.27034637 0.26051662 0.27034637\n",
      "  0.26521204 0.         0.         0.24560705 0.         0.\n",
      "  0.24560705 0.         1.         0.         0.         0.\n",
      "  0.         0.         1.         1.         1.         0.\n",
      "  1.         0.         0.         0.         0.         0.\n",
      "  0.         0.         1.         1.         0.         0.\n",
      "  1.         0.         1.         0.         0.14285714 0.2\n",
      "  0.         0.         0.         0.         0.         0.16666667\n",
      "  0.5        0.5        0.         0.16666667 0.         0.\n",
      "  0.         0.         0.         0.         0.         0.\n",
      "  0.         0.         0.         0.         0.         0.05263158\n",
      "  0.09090909 0.08333333 0.         0.         0.09090909 0.\n",
      "  0.09090909 0.02631579 0.         0.20819143 0.22060567 0.19033206\n",
      "  0.4381794  0.40108236 0.19033206 0.         0.         0.49617244\n",
      "  0.10635101 0.19033206 0.03030303 0.4181304  0.20076282 0.19309965\n",
      "  0.         0.         0.         0.         0.         0.\n",
      "  0.         0.125      0.         0.         0.         0.\n",
      "  0.         0.         0.         0.33333333 0.         0.\n",
      "  1.         0.66666667 0.         0.         0.         0.\n",
      "  0.         0.         0.         0.         0.         0.\n",
      "  0.         0.         0.         0.         0.         0.20489432\n",
      "  0.45022763 0.20855459 0.20979847 0.1219066  0.22132053 0.12424287\n",
      "  0.13900884 0.17338952 0.19034544 0.10487199 0.4381794  0.38058271\n",
      "  0.4381794  0.42127663 0.26987593 0.        ]\n",
      " [0.00840336 0.         0.18671089 0.27034637 0.26051662 0.27034637\n",
      "  0.26521204 0.         0.         0.24560705 0.         0.\n",
      "  0.24560705 0.         1.         1.         0.         0.\n",
      "  0.         0.         0.         0.         0.         0.\n",
      "  0.         0.         0.         0.         0.         0.\n",
      "  0.         0.         1.         1.         0.         0.\n",
      "  1.         0.         1.         0.         0.14285714 0.2\n",
      "  0.2        0.         0.         0.         0.         0.\n",
      "  0.         0.         0.         0.         0.         0.\n",
      "  0.         0.         0.         0.         0.         0.\n",
      "  0.         0.         0.         0.         0.         0.02631579\n",
      "  0.09090909 0.08333333 0.         0.         0.09090909 0.\n",
      "  0.09090909 0.02631579 0.16666667 0.27341827 0.22060567 0.19033206\n",
      "  0.         0.         0.19033206 0.         0.         0.24808622\n",
      "  0.10635101 0.24996351 1.         0.         0.20076282 0.19309965\n",
      "  0.         0.         0.         0.         0.         0.\n",
      "  0.         0.         0.         0.         0.         0.\n",
      "  0.         0.         0.         1.         0.         0.\n",
      "  0.         0.33333333 0.         0.         0.         0.\n",
      "  0.         0.         0.         0.         0.         0.\n",
      "  0.         0.         0.         0.         0.         0.26908817\n",
      "  0.10091367 0.27389521 0.25332794 0.1219066  0.22132053 0.12424287\n",
      "  0.13900884 0.17338952 0.19034544 0.10487199 0.         0.\n",
      "  0.         0.         0.30722421 0.        ]\n",
      " [0.00840336 0.25       0.18671089 0.67688073 0.65226945 0.67688073\n",
      "  0.66402564 0.         0.         0.61493958 0.         0.\n",
      "  0.61493958 0.         1.         1.         0.         0.\n",
      "  0.         0.         0.         0.         0.         0.\n",
      "  0.         0.         0.         0.         0.         0.\n",
      "  0.         0.         1.         1.         1.         1.\n",
      "  1.         0.         1.         0.         0.42857143 0.2\n",
      "  0.2        0.         0.         0.         0.         0.\n",
      "  0.         0.         0.         0.         0.         0.\n",
      "  0.         0.         0.         0.         0.         0.01923077\n",
      "  0.01923077 0.         0.         0.01923077 0.01923077 0.02631579\n",
      "  0.09090909 0.25       0.05714286 0.05263158 0.09090909 0.\n",
      "  0.09090909 0.02631579 0.16666667 0.46095674 0.22060567 0.19033206\n",
      "  0.         0.         0.19033206 0.         0.         0.41824936\n",
      "  0.39501914 0.42141429 0.02020202 0.         0.20076282 0.19309965\n",
      "  1.         1.         1.         1.         0.         0.\n",
      "  0.         0.         0.         0.02439024 0.         0.\n",
      "  0.01282051 0.         0.05617978 0.66666667 0.         0.\n",
      "  0.         0.33333333 0.02054795 0.015      0.02054795 0.02054795\n",
      "  0.         0.         0.         0.         0.         0.\n",
      "  0.         0.07894737 0.00884956 0.03529412 0.05992509 0.51027213\n",
      "  0.19749282 0.4772055  0.50496071 0.1219066  0.22132053 0.12424287\n",
      "  0.13900884 0.17338952 0.19034544 0.10487199 0.         0.\n",
      "  0.         0.         0.30116415 0.        ]\n",
      " [0.00840336 0.25       0.18671089 0.27034637 0.26051662 0.27034637\n",
      "  0.26521204 0.         0.         0.24560705 0.         0.\n",
      "  0.24560705 0.         1.         0.         0.         0.\n",
      "  1.         1.         0.         0.         0.         0.\n",
      "  0.         0.         1.         1.         0.         0.\n",
      "  0.         0.         1.         1.         0.         0.\n",
      "  1.         0.         1.         0.         0.14285714 0.2\n",
      "  0.         0.         0.         0.02702703 0.2        0.\n",
      "  0.         0.         0.         0.         0.         0.33333333\n",
      "  0.5        0.         0.         0.         0.         0.\n",
      "  0.         0.         0.         0.         0.         0.05263158\n",
      "  0.09090909 0.08333333 0.         0.         0.09090909 0.\n",
      "  0.09090909 0.05263158 0.16666667 0.20819143 0.22060567 0.83153139\n",
      "  0.         0.         0.83153139 0.         0.         0.82528636\n",
      "  0.10635101 0.83153139 0.01010101 0.         0.87710179 0.88179231\n",
      "  0.         0.         0.         0.         1.         1.\n",
      "  0.         0.         0.         0.02439024 0.         0.0625\n",
      "  0.03846154 0.03846154 0.         1.         0.         0.33333333\n",
      "  0.         0.66666667 0.         0.         0.         0.\n",
      "  0.         0.         0.         0.         0.01666667 0.02272727\n",
      "  0.03225806 0.         0.         0.         0.         0.26908817\n",
      "  0.12968388 0.8395361  0.77881794 0.1219066  0.22132053 0.12424287\n",
      "  0.13900884 0.17338952 0.80679574 0.79938929 0.         0.\n",
      "  0.         0.         0.37364191 0.        ]]\n"
     ]
    }
   ],
   "source": [
    "array = dados_1.values\n",
    "\n",
    "# Separando o array em componentes de input (X) e output (Y)\n",
    "# Lembrando de retirar o ID\n",
    "X = array[:,1:143]\n",
    "Y = array[:,143]\n",
    "\n",
    "# Gerando a nova escala (normalizando os dados)\n",
    "scaler = MinMaxScaler(feature_range = (0, 1))\n",
    "dados_1_scaled = scaler.fit_transform(X)\n",
    "\n",
    "print(\"\\nDados Normalizados: \\n\\n\", dados_1_scaled[0:5,:])"
   ]
  },
  {
   "cell_type": "markdown",
   "metadata": {},
   "source": [
    "## Seleção de Atríbutos"
   ]
  },
  {
   "cell_type": "markdown",
   "metadata": {},
   "source": [
    "Inicialmente vamos aplicar a técnica PCA para fazer uma combinação de componentes, possuímos 143 recursos, vamos comecar selecionando 70 componentes e verificar qual a soma de suas variâncias, isto é o quanto estas 70 componentes contém de informação dos dados originais."
   ]
  },
  {
   "cell_type": "code",
   "execution_count": 67,
   "metadata": {},
   "outputs": [],
   "source": [
    "# Seleção de atributos\n",
    "pca_70 = PCA(n_components = 70)\n",
    "dados_1_PCA = pca_70.fit(dados_1_scaled)"
   ]
  },
  {
   "cell_type": "code",
   "execution_count": 68,
   "metadata": {},
   "outputs": [
    {
     "name": "stdout",
     "output_type": "stream",
     "text": [
      "Variância Total com 70 componentes: 99.9%\n"
     ]
    }
   ],
   "source": [
    "print(\"Variância Total com 70 componentes: {0:.1%}\".format(dados_1_PCA.explained_variance_ratio_.sum()))"
   ]
  },
  {
   "cell_type": "markdown",
   "metadata": {},
   "source": [
    "Desde que 70 componentes estão representando 99,9% da informação contida nos dados originais, vamos reduzir ainda mais o número de componentes total, para 20 por exemplo."
   ]
  },
  {
   "cell_type": "code",
   "execution_count": 69,
   "metadata": {},
   "outputs": [
    {
     "name": "stdout",
     "output_type": "stream",
     "text": [
      "Variância Total com 20 componentes: 95.1%\n"
     ]
    }
   ],
   "source": [
    "# Seleção de atributos\n",
    "pca_20 = PCA(n_components = 20)\n",
    "dados_1_PCA = pca_20.fit(dados_1_scaled)\n",
    "\n",
    "print(\"Variância Total com 20 componentes: {0:.1%}\".format(dados_1_PCA.explained_variance_ratio_.sum()))"
   ]
  },
  {
   "cell_type": "markdown",
   "metadata": {},
   "source": [
    "95% ainda é muita informação preservada, vamos reduzir um pouco mais, 10 componentes..."
   ]
  },
  {
   "cell_type": "code",
   "execution_count": 70,
   "metadata": {},
   "outputs": [
    {
     "name": "stdout",
     "output_type": "stream",
     "text": [
      "Variância Total com 10 componentes: 86.4%\n"
     ]
    }
   ],
   "source": [
    "# Seleção de atributos\n",
    "pca = PCA(n_components = 10)\n",
    "dados_1_PCA = pca.fit(dados_1_scaled)\n",
    "\n",
    "print(\"Variância Total com 10 componentes: {0:.1%}\".format(dados_1_PCA.explained_variance_ratio_.sum()))"
   ]
  },
  {
   "cell_type": "markdown",
   "metadata": {},
   "source": [
    "Aqui já temos uma redução mais significativa da variância, vamos prosseguir com 2 conjuntos de dados, um com 10 e outro com 20 componentes."
   ]
  },
  {
   "cell_type": "code",
   "execution_count": 71,
   "metadata": {},
   "outputs": [],
   "source": [
    "# Seleção de atributos\n",
    "pca = PCA(n_components = 10)\n",
    "PCA_10 = pca.fit(dados_1_scaled)\n",
    "dados_1_scaled_10 = PCA_10.transform(dados_1_scaled)\n",
    "\n",
    "pca = PCA(n_components = 20)\n",
    "PCA_20 = pca.fit(dados_1_scaled)\n",
    "dados_1_scaled_20 = PCA_20.transform(dados_1_scaled)"
   ]
  },
  {
   "cell_type": "markdown",
   "metadata": {},
   "source": [
    "## Aplicação do Modelo"
   ]
  },
  {
   "cell_type": "markdown",
   "metadata": {},
   "source": [
    "Vamos começar aplicando o modelo da Regressão Logística em nosso conjunto de dados, ao invés de dividirmos os dados em treino e teste, vamos utilizar a técnica de validação cruzada. Para avaliação do modelo usaremos a métrica AUC."
   ]
  },
  {
   "cell_type": "code",
   "execution_count": 72,
   "metadata": {},
   "outputs": [
    {
     "name": "stderr",
     "output_type": "stream",
     "text": [
      "C:\\Users\\lucas\\Anaconda3\\lib\\site-packages\\sklearn\\utils\\validation.py:72: FutureWarning: Pass shuffle=True as keyword args. From version 1.0 (renaming of 0.25) passing these as positional arguments will result in an error\n",
      "  \"will result in an error\", FutureWarning)\n"
     ]
    },
    {
     "name": "stdout",
     "output_type": "stream",
     "text": [
      "AUC com 20 componentes: 79.7%\n",
      "AUC com 10 componentes: 74.1%\n"
     ]
    }
   ],
   "source": [
    "# Definindo os valores para o número de folds\n",
    "num_folds = 10\n",
    "seed = 1\n",
    "\n",
    "# Separando os dados em folds\n",
    "kfold = KFold(num_folds, True, random_state = seed)\n",
    "\n",
    "# Criando o modelo\n",
    "model1 = LogisticRegression()\n",
    "\n",
    "# Cross Validation\n",
    "resultado_10 = cross_val_score(model1, dados_1_scaled_10, Y, cv = kfold, scoring = 'roc_auc')\n",
    "resultado_20 = cross_val_score(model1, dados_1_scaled_20, Y, cv = kfold, scoring = 'roc_auc')\n",
    "\n",
    "# Print do resultado\n",
    "print(\"AUC com 20 componentes: {0:.1%}\".format(resultado_20.mean()))\n",
    "print(\"AUC com 10 componentes: {0:.1%}\".format(resultado_10.mean()))"
   ]
  },
  {
   "cell_type": "markdown",
   "metadata": {},
   "source": [
    "Como mencionamos, o nosso objetivo era uma acurácia de pelo menos 70%, que mudamos para uma AUC de 70% devido ao desbalançeamento de classes da variável \"TARGET\", com 10 componentes e o modelo da Regressão Logística conseguimos uma AUC média de 74,1%, com o dobro de componentes a AUC foi de praticamente 80%, o que é um bom resultado, vamos fazer apenas mais uma seção de otimização do modelo e tentar melhorar a performance do algorítmo."
   ]
  },
  {
   "cell_type": "markdown",
   "metadata": {},
   "source": [
    "## Otimização do Modelo"
   ]
  },
  {
   "cell_type": "markdown",
   "metadata": {},
   "source": [
    "Fato é que poderíamos fazer muitas coisas nesta parte, desde alterar o modo como transformamos as variáveis, ou então o método de seleção de componentes, para limitar o nosso escopo de modo a não deixar esta etapa tão exaustiva, vamos começar testando com um número diferente de componentes, bem como aplicar outras técnicas de aprendizagem de máquina."
   ]
  },
  {
   "cell_type": "markdown",
   "metadata": {},
   "source": [
    "### Aumentando o número de componentes"
   ]
  },
  {
   "cell_type": "markdown",
   "metadata": {},
   "source": [
    "Uma vez que 70 componentes continham 99,9% da informação orginal, vamos construir um modelo com 70 componentes."
   ]
  },
  {
   "cell_type": "code",
   "execution_count": 73,
   "metadata": {},
   "outputs": [
    {
     "name": "stderr",
     "output_type": "stream",
     "text": [
      "C:\\Users\\lucas\\Anaconda3\\lib\\site-packages\\sklearn\\linear_model\\_logistic.py:765: ConvergenceWarning: lbfgs failed to converge (status=1):\n",
      "STOP: TOTAL NO. of ITERATIONS REACHED LIMIT.\n",
      "\n",
      "Increase the number of iterations (max_iter) or scale the data as shown in:\n",
      "    https://scikit-learn.org/stable/modules/preprocessing.html\n",
      "Please also refer to the documentation for alternative solver options:\n",
      "    https://scikit-learn.org/stable/modules/linear_model.html#logistic-regression\n",
      "  extra_warning_msg=_LOGISTIC_SOLVER_CONVERGENCE_MSG)\n",
      "C:\\Users\\lucas\\Anaconda3\\lib\\site-packages\\sklearn\\linear_model\\_logistic.py:765: ConvergenceWarning: lbfgs failed to converge (status=1):\n",
      "STOP: TOTAL NO. of ITERATIONS REACHED LIMIT.\n",
      "\n",
      "Increase the number of iterations (max_iter) or scale the data as shown in:\n",
      "    https://scikit-learn.org/stable/modules/preprocessing.html\n",
      "Please also refer to the documentation for alternative solver options:\n",
      "    https://scikit-learn.org/stable/modules/linear_model.html#logistic-regression\n",
      "  extra_warning_msg=_LOGISTIC_SOLVER_CONVERGENCE_MSG)\n",
      "C:\\Users\\lucas\\Anaconda3\\lib\\site-packages\\sklearn\\linear_model\\_logistic.py:765: ConvergenceWarning: lbfgs failed to converge (status=1):\n",
      "STOP: TOTAL NO. of ITERATIONS REACHED LIMIT.\n",
      "\n",
      "Increase the number of iterations (max_iter) or scale the data as shown in:\n",
      "    https://scikit-learn.org/stable/modules/preprocessing.html\n",
      "Please also refer to the documentation for alternative solver options:\n",
      "    https://scikit-learn.org/stable/modules/linear_model.html#logistic-regression\n",
      "  extra_warning_msg=_LOGISTIC_SOLVER_CONVERGENCE_MSG)\n",
      "C:\\Users\\lucas\\Anaconda3\\lib\\site-packages\\sklearn\\linear_model\\_logistic.py:765: ConvergenceWarning: lbfgs failed to converge (status=1):\n",
      "STOP: TOTAL NO. of ITERATIONS REACHED LIMIT.\n",
      "\n",
      "Increase the number of iterations (max_iter) or scale the data as shown in:\n",
      "    https://scikit-learn.org/stable/modules/preprocessing.html\n",
      "Please also refer to the documentation for alternative solver options:\n",
      "    https://scikit-learn.org/stable/modules/linear_model.html#logistic-regression\n",
      "  extra_warning_msg=_LOGISTIC_SOLVER_CONVERGENCE_MSG)\n",
      "C:\\Users\\lucas\\Anaconda3\\lib\\site-packages\\sklearn\\linear_model\\_logistic.py:765: ConvergenceWarning: lbfgs failed to converge (status=1):\n",
      "STOP: TOTAL NO. of ITERATIONS REACHED LIMIT.\n",
      "\n",
      "Increase the number of iterations (max_iter) or scale the data as shown in:\n",
      "    https://scikit-learn.org/stable/modules/preprocessing.html\n",
      "Please also refer to the documentation for alternative solver options:\n",
      "    https://scikit-learn.org/stable/modules/linear_model.html#logistic-regression\n",
      "  extra_warning_msg=_LOGISTIC_SOLVER_CONVERGENCE_MSG)\n",
      "C:\\Users\\lucas\\Anaconda3\\lib\\site-packages\\sklearn\\linear_model\\_logistic.py:765: ConvergenceWarning: lbfgs failed to converge (status=1):\n",
      "STOP: TOTAL NO. of ITERATIONS REACHED LIMIT.\n",
      "\n",
      "Increase the number of iterations (max_iter) or scale the data as shown in:\n",
      "    https://scikit-learn.org/stable/modules/preprocessing.html\n",
      "Please also refer to the documentation for alternative solver options:\n",
      "    https://scikit-learn.org/stable/modules/linear_model.html#logistic-regression\n",
      "  extra_warning_msg=_LOGISTIC_SOLVER_CONVERGENCE_MSG)\n",
      "C:\\Users\\lucas\\Anaconda3\\lib\\site-packages\\sklearn\\linear_model\\_logistic.py:765: ConvergenceWarning: lbfgs failed to converge (status=1):\n",
      "STOP: TOTAL NO. of ITERATIONS REACHED LIMIT.\n",
      "\n",
      "Increase the number of iterations (max_iter) or scale the data as shown in:\n",
      "    https://scikit-learn.org/stable/modules/preprocessing.html\n",
      "Please also refer to the documentation for alternative solver options:\n",
      "    https://scikit-learn.org/stable/modules/linear_model.html#logistic-regression\n",
      "  extra_warning_msg=_LOGISTIC_SOLVER_CONVERGENCE_MSG)\n",
      "C:\\Users\\lucas\\Anaconda3\\lib\\site-packages\\sklearn\\linear_model\\_logistic.py:765: ConvergenceWarning: lbfgs failed to converge (status=1):\n",
      "STOP: TOTAL NO. of ITERATIONS REACHED LIMIT.\n",
      "\n",
      "Increase the number of iterations (max_iter) or scale the data as shown in:\n",
      "    https://scikit-learn.org/stable/modules/preprocessing.html\n",
      "Please also refer to the documentation for alternative solver options:\n",
      "    https://scikit-learn.org/stable/modules/linear_model.html#logistic-regression\n",
      "  extra_warning_msg=_LOGISTIC_SOLVER_CONVERGENCE_MSG)\n",
      "C:\\Users\\lucas\\Anaconda3\\lib\\site-packages\\sklearn\\linear_model\\_logistic.py:765: ConvergenceWarning: lbfgs failed to converge (status=1):\n",
      "STOP: TOTAL NO. of ITERATIONS REACHED LIMIT.\n",
      "\n",
      "Increase the number of iterations (max_iter) or scale the data as shown in:\n",
      "    https://scikit-learn.org/stable/modules/preprocessing.html\n",
      "Please also refer to the documentation for alternative solver options:\n",
      "    https://scikit-learn.org/stable/modules/linear_model.html#logistic-regression\n",
      "  extra_warning_msg=_LOGISTIC_SOLVER_CONVERGENCE_MSG)\n"
     ]
    },
    {
     "name": "stdout",
     "output_type": "stream",
     "text": [
      "AUC com 70 componentes: 81.0%\n"
     ]
    },
    {
     "name": "stderr",
     "output_type": "stream",
     "text": [
      "C:\\Users\\lucas\\Anaconda3\\lib\\site-packages\\sklearn\\linear_model\\_logistic.py:765: ConvergenceWarning: lbfgs failed to converge (status=1):\n",
      "STOP: TOTAL NO. of ITERATIONS REACHED LIMIT.\n",
      "\n",
      "Increase the number of iterations (max_iter) or scale the data as shown in:\n",
      "    https://scikit-learn.org/stable/modules/preprocessing.html\n",
      "Please also refer to the documentation for alternative solver options:\n",
      "    https://scikit-learn.org/stable/modules/linear_model.html#logistic-regression\n",
      "  extra_warning_msg=_LOGISTIC_SOLVER_CONVERGENCE_MSG)\n"
     ]
    }
   ],
   "source": [
    "# Seleção de atributos\n",
    "pca = PCA(n_components = 70)\n",
    "PCA_70 = pca.fit(dados_1_scaled)\n",
    "dados_1_scaled_70 = PCA_70.transform(dados_1_scaled)\n",
    "\n",
    "resultado_70 = cross_val_score(model1, dados_1_scaled_70, Y, cv = kfold, scoring = 'roc_auc')\n",
    "\n",
    "# Print do resultado\n",
    "print(\"AUC com 70 componentes: {0:.1%}\".format(resultado_70.mean()))"
   ]
  },
  {
   "cell_type": "markdown",
   "metadata": {},
   "source": [
    "Com 70 componentes houve pouco ganho na AUC, vamos manter as 20 componentes e testar mudar os parâmetros da regressão logística com o GridSearchCV."
   ]
  },
  {
   "cell_type": "code",
   "execution_count": 74,
   "metadata": {},
   "outputs": [],
   "source": [
    "valores_grid = {'penalty': ['l1','l2'], 'C': [0.001,0.01,0.1,1,10,100,1000]}"
   ]
  },
  {
   "cell_type": "code",
   "execution_count": 75,
   "metadata": {},
   "outputs": [
    {
     "name": "stderr",
     "output_type": "stream",
     "text": [
      "C:\\Users\\lucas\\Anaconda3\\lib\\site-packages\\sklearn\\model_selection\\_validation.py:619: FitFailedWarning: Estimator fit failed. The score on this train-test partition for these parameters will be set to nan. Details: \n",
      "Traceback (most recent call last):\n",
      "  File \"C:\\Users\\lucas\\Anaconda3\\lib\\site-packages\\sklearn\\model_selection\\_validation.py\", line 598, in _fit_and_score\n",
      "    estimator.fit(X_train, y_train, **fit_params)\n",
      "  File \"C:\\Users\\lucas\\Anaconda3\\lib\\site-packages\\sklearn\\linear_model\\_logistic.py\", line 1306, in fit\n",
      "    solver = _check_solver(self.solver, self.penalty, self.dual)\n",
      "  File \"C:\\Users\\lucas\\Anaconda3\\lib\\site-packages\\sklearn\\linear_model\\_logistic.py\", line 444, in _check_solver\n",
      "    \"got %s penalty.\" % (solver, penalty))\n",
      "ValueError: Solver lbfgs supports only 'l2' or 'none' penalties, got l1 penalty.\n",
      "\n",
      "  FitFailedWarning)\n",
      "C:\\Users\\lucas\\Anaconda3\\lib\\site-packages\\sklearn\\model_selection\\_validation.py:619: FitFailedWarning: Estimator fit failed. The score on this train-test partition for these parameters will be set to nan. Details: \n",
      "Traceback (most recent call last):\n",
      "  File \"C:\\Users\\lucas\\Anaconda3\\lib\\site-packages\\sklearn\\model_selection\\_validation.py\", line 598, in _fit_and_score\n",
      "    estimator.fit(X_train, y_train, **fit_params)\n",
      "  File \"C:\\Users\\lucas\\Anaconda3\\lib\\site-packages\\sklearn\\linear_model\\_logistic.py\", line 1306, in fit\n",
      "    solver = _check_solver(self.solver, self.penalty, self.dual)\n",
      "  File \"C:\\Users\\lucas\\Anaconda3\\lib\\site-packages\\sklearn\\linear_model\\_logistic.py\", line 444, in _check_solver\n",
      "    \"got %s penalty.\" % (solver, penalty))\n",
      "ValueError: Solver lbfgs supports only 'l2' or 'none' penalties, got l1 penalty.\n",
      "\n",
      "  FitFailedWarning)\n",
      "C:\\Users\\lucas\\Anaconda3\\lib\\site-packages\\sklearn\\model_selection\\_validation.py:619: FitFailedWarning: Estimator fit failed. The score on this train-test partition for these parameters will be set to nan. Details: \n",
      "Traceback (most recent call last):\n",
      "  File \"C:\\Users\\lucas\\Anaconda3\\lib\\site-packages\\sklearn\\model_selection\\_validation.py\", line 598, in _fit_and_score\n",
      "    estimator.fit(X_train, y_train, **fit_params)\n",
      "  File \"C:\\Users\\lucas\\Anaconda3\\lib\\site-packages\\sklearn\\linear_model\\_logistic.py\", line 1306, in fit\n",
      "    solver = _check_solver(self.solver, self.penalty, self.dual)\n",
      "  File \"C:\\Users\\lucas\\Anaconda3\\lib\\site-packages\\sklearn\\linear_model\\_logistic.py\", line 444, in _check_solver\n",
      "    \"got %s penalty.\" % (solver, penalty))\n",
      "ValueError: Solver lbfgs supports only 'l2' or 'none' penalties, got l1 penalty.\n",
      "\n",
      "  FitFailedWarning)\n",
      "C:\\Users\\lucas\\Anaconda3\\lib\\site-packages\\sklearn\\model_selection\\_validation.py:619: FitFailedWarning: Estimator fit failed. The score on this train-test partition for these parameters will be set to nan. Details: \n",
      "Traceback (most recent call last):\n",
      "  File \"C:\\Users\\lucas\\Anaconda3\\lib\\site-packages\\sklearn\\model_selection\\_validation.py\", line 598, in _fit_and_score\n",
      "    estimator.fit(X_train, y_train, **fit_params)\n",
      "  File \"C:\\Users\\lucas\\Anaconda3\\lib\\site-packages\\sklearn\\linear_model\\_logistic.py\", line 1306, in fit\n",
      "    solver = _check_solver(self.solver, self.penalty, self.dual)\n",
      "  File \"C:\\Users\\lucas\\Anaconda3\\lib\\site-packages\\sklearn\\linear_model\\_logistic.py\", line 444, in _check_solver\n",
      "    \"got %s penalty.\" % (solver, penalty))\n",
      "ValueError: Solver lbfgs supports only 'l2' or 'none' penalties, got l1 penalty.\n",
      "\n",
      "  FitFailedWarning)\n",
      "C:\\Users\\lucas\\Anaconda3\\lib\\site-packages\\sklearn\\model_selection\\_validation.py:619: FitFailedWarning: Estimator fit failed. The score on this train-test partition for these parameters will be set to nan. Details: \n",
      "Traceback (most recent call last):\n",
      "  File \"C:\\Users\\lucas\\Anaconda3\\lib\\site-packages\\sklearn\\model_selection\\_validation.py\", line 598, in _fit_and_score\n",
      "    estimator.fit(X_train, y_train, **fit_params)\n",
      "  File \"C:\\Users\\lucas\\Anaconda3\\lib\\site-packages\\sklearn\\linear_model\\_logistic.py\", line 1306, in fit\n",
      "    solver = _check_solver(self.solver, self.penalty, self.dual)\n",
      "  File \"C:\\Users\\lucas\\Anaconda3\\lib\\site-packages\\sklearn\\linear_model\\_logistic.py\", line 444, in _check_solver\n",
      "    \"got %s penalty.\" % (solver, penalty))\n",
      "ValueError: Solver lbfgs supports only 'l2' or 'none' penalties, got l1 penalty.\n",
      "\n",
      "  FitFailedWarning)\n",
      "C:\\Users\\lucas\\Anaconda3\\lib\\site-packages\\sklearn\\model_selection\\_validation.py:619: FitFailedWarning: Estimator fit failed. The score on this train-test partition for these parameters will be set to nan. Details: \n",
      "Traceback (most recent call last):\n",
      "  File \"C:\\Users\\lucas\\Anaconda3\\lib\\site-packages\\sklearn\\model_selection\\_validation.py\", line 598, in _fit_and_score\n",
      "    estimator.fit(X_train, y_train, **fit_params)\n",
      "  File \"C:\\Users\\lucas\\Anaconda3\\lib\\site-packages\\sklearn\\linear_model\\_logistic.py\", line 1306, in fit\n",
      "    solver = _check_solver(self.solver, self.penalty, self.dual)\n",
      "  File \"C:\\Users\\lucas\\Anaconda3\\lib\\site-packages\\sklearn\\linear_model\\_logistic.py\", line 444, in _check_solver\n",
      "    \"got %s penalty.\" % (solver, penalty))\n",
      "ValueError: Solver lbfgs supports only 'l2' or 'none' penalties, got l1 penalty.\n",
      "\n",
      "  FitFailedWarning)\n",
      "C:\\Users\\lucas\\Anaconda3\\lib\\site-packages\\sklearn\\model_selection\\_validation.py:619: FitFailedWarning: Estimator fit failed. The score on this train-test partition for these parameters will be set to nan. Details: \n",
      "Traceback (most recent call last):\n",
      "  File \"C:\\Users\\lucas\\Anaconda3\\lib\\site-packages\\sklearn\\model_selection\\_validation.py\", line 598, in _fit_and_score\n",
      "    estimator.fit(X_train, y_train, **fit_params)\n",
      "  File \"C:\\Users\\lucas\\Anaconda3\\lib\\site-packages\\sklearn\\linear_model\\_logistic.py\", line 1306, in fit\n",
      "    solver = _check_solver(self.solver, self.penalty, self.dual)\n",
      "  File \"C:\\Users\\lucas\\Anaconda3\\lib\\site-packages\\sklearn\\linear_model\\_logistic.py\", line 444, in _check_solver\n",
      "    \"got %s penalty.\" % (solver, penalty))\n",
      "ValueError: Solver lbfgs supports only 'l2' or 'none' penalties, got l1 penalty.\n",
      "\n",
      "  FitFailedWarning)\n",
      "C:\\Users\\lucas\\Anaconda3\\lib\\site-packages\\sklearn\\model_selection\\_validation.py:619: FitFailedWarning: Estimator fit failed. The score on this train-test partition for these parameters will be set to nan. Details: \n",
      "Traceback (most recent call last):\n",
      "  File \"C:\\Users\\lucas\\Anaconda3\\lib\\site-packages\\sklearn\\model_selection\\_validation.py\", line 598, in _fit_and_score\n",
      "    estimator.fit(X_train, y_train, **fit_params)\n",
      "  File \"C:\\Users\\lucas\\Anaconda3\\lib\\site-packages\\sklearn\\linear_model\\_logistic.py\", line 1306, in fit\n",
      "    solver = _check_solver(self.solver, self.penalty, self.dual)\n",
      "  File \"C:\\Users\\lucas\\Anaconda3\\lib\\site-packages\\sklearn\\linear_model\\_logistic.py\", line 444, in _check_solver\n",
      "    \"got %s penalty.\" % (solver, penalty))\n",
      "ValueError: Solver lbfgs supports only 'l2' or 'none' penalties, got l1 penalty.\n",
      "\n",
      "  FitFailedWarning)\n",
      "C:\\Users\\lucas\\Anaconda3\\lib\\site-packages\\sklearn\\model_selection\\_validation.py:619: FitFailedWarning: Estimator fit failed. The score on this train-test partition for these parameters will be set to nan. Details: \n",
      "Traceback (most recent call last):\n",
      "  File \"C:\\Users\\lucas\\Anaconda3\\lib\\site-packages\\sklearn\\model_selection\\_validation.py\", line 598, in _fit_and_score\n",
      "    estimator.fit(X_train, y_train, **fit_params)\n",
      "  File \"C:\\Users\\lucas\\Anaconda3\\lib\\site-packages\\sklearn\\linear_model\\_logistic.py\", line 1306, in fit\n",
      "    solver = _check_solver(self.solver, self.penalty, self.dual)\n",
      "  File \"C:\\Users\\lucas\\Anaconda3\\lib\\site-packages\\sklearn\\linear_model\\_logistic.py\", line 444, in _check_solver\n",
      "    \"got %s penalty.\" % (solver, penalty))\n",
      "ValueError: Solver lbfgs supports only 'l2' or 'none' penalties, got l1 penalty.\n",
      "\n",
      "  FitFailedWarning)\n",
      "C:\\Users\\lucas\\Anaconda3\\lib\\site-packages\\sklearn\\model_selection\\_validation.py:619: FitFailedWarning: Estimator fit failed. The score on this train-test partition for these parameters will be set to nan. Details: \n",
      "Traceback (most recent call last):\n",
      "  File \"C:\\Users\\lucas\\Anaconda3\\lib\\site-packages\\sklearn\\model_selection\\_validation.py\", line 598, in _fit_and_score\n",
      "    estimator.fit(X_train, y_train, **fit_params)\n",
      "  File \"C:\\Users\\lucas\\Anaconda3\\lib\\site-packages\\sklearn\\linear_model\\_logistic.py\", line 1306, in fit\n",
      "    solver = _check_solver(self.solver, self.penalty, self.dual)\n",
      "  File \"C:\\Users\\lucas\\Anaconda3\\lib\\site-packages\\sklearn\\linear_model\\_logistic.py\", line 444, in _check_solver\n",
      "    \"got %s penalty.\" % (solver, penalty))\n",
      "ValueError: Solver lbfgs supports only 'l2' or 'none' penalties, got l1 penalty.\n",
      "\n",
      "  FitFailedWarning)\n"
     ]
    },
    {
     "name": "stderr",
     "output_type": "stream",
     "text": [
      "C:\\Users\\lucas\\Anaconda3\\lib\\site-packages\\sklearn\\model_selection\\_validation.py:619: FitFailedWarning: Estimator fit failed. The score on this train-test partition for these parameters will be set to nan. Details: \n",
      "Traceback (most recent call last):\n",
      "  File \"C:\\Users\\lucas\\Anaconda3\\lib\\site-packages\\sklearn\\model_selection\\_validation.py\", line 598, in _fit_and_score\n",
      "    estimator.fit(X_train, y_train, **fit_params)\n",
      "  File \"C:\\Users\\lucas\\Anaconda3\\lib\\site-packages\\sklearn\\linear_model\\_logistic.py\", line 1306, in fit\n",
      "    solver = _check_solver(self.solver, self.penalty, self.dual)\n",
      "  File \"C:\\Users\\lucas\\Anaconda3\\lib\\site-packages\\sklearn\\linear_model\\_logistic.py\", line 444, in _check_solver\n",
      "    \"got %s penalty.\" % (solver, penalty))\n",
      "ValueError: Solver lbfgs supports only 'l2' or 'none' penalties, got l1 penalty.\n",
      "\n",
      "  FitFailedWarning)\n",
      "C:\\Users\\lucas\\Anaconda3\\lib\\site-packages\\sklearn\\model_selection\\_validation.py:619: FitFailedWarning: Estimator fit failed. The score on this train-test partition for these parameters will be set to nan. Details: \n",
      "Traceback (most recent call last):\n",
      "  File \"C:\\Users\\lucas\\Anaconda3\\lib\\site-packages\\sklearn\\model_selection\\_validation.py\", line 598, in _fit_and_score\n",
      "    estimator.fit(X_train, y_train, **fit_params)\n",
      "  File \"C:\\Users\\lucas\\Anaconda3\\lib\\site-packages\\sklearn\\linear_model\\_logistic.py\", line 1306, in fit\n",
      "    solver = _check_solver(self.solver, self.penalty, self.dual)\n",
      "  File \"C:\\Users\\lucas\\Anaconda3\\lib\\site-packages\\sklearn\\linear_model\\_logistic.py\", line 444, in _check_solver\n",
      "    \"got %s penalty.\" % (solver, penalty))\n",
      "ValueError: Solver lbfgs supports only 'l2' or 'none' penalties, got l1 penalty.\n",
      "\n",
      "  FitFailedWarning)\n",
      "C:\\Users\\lucas\\Anaconda3\\lib\\site-packages\\sklearn\\model_selection\\_validation.py:619: FitFailedWarning: Estimator fit failed. The score on this train-test partition for these parameters will be set to nan. Details: \n",
      "Traceback (most recent call last):\n",
      "  File \"C:\\Users\\lucas\\Anaconda3\\lib\\site-packages\\sklearn\\model_selection\\_validation.py\", line 598, in _fit_and_score\n",
      "    estimator.fit(X_train, y_train, **fit_params)\n",
      "  File \"C:\\Users\\lucas\\Anaconda3\\lib\\site-packages\\sklearn\\linear_model\\_logistic.py\", line 1306, in fit\n",
      "    solver = _check_solver(self.solver, self.penalty, self.dual)\n",
      "  File \"C:\\Users\\lucas\\Anaconda3\\lib\\site-packages\\sklearn\\linear_model\\_logistic.py\", line 444, in _check_solver\n",
      "    \"got %s penalty.\" % (solver, penalty))\n",
      "ValueError: Solver lbfgs supports only 'l2' or 'none' penalties, got l1 penalty.\n",
      "\n",
      "  FitFailedWarning)\n",
      "C:\\Users\\lucas\\Anaconda3\\lib\\site-packages\\sklearn\\model_selection\\_validation.py:619: FitFailedWarning: Estimator fit failed. The score on this train-test partition for these parameters will be set to nan. Details: \n",
      "Traceback (most recent call last):\n",
      "  File \"C:\\Users\\lucas\\Anaconda3\\lib\\site-packages\\sklearn\\model_selection\\_validation.py\", line 598, in _fit_and_score\n",
      "    estimator.fit(X_train, y_train, **fit_params)\n",
      "  File \"C:\\Users\\lucas\\Anaconda3\\lib\\site-packages\\sklearn\\linear_model\\_logistic.py\", line 1306, in fit\n",
      "    solver = _check_solver(self.solver, self.penalty, self.dual)\n",
      "  File \"C:\\Users\\lucas\\Anaconda3\\lib\\site-packages\\sklearn\\linear_model\\_logistic.py\", line 444, in _check_solver\n",
      "    \"got %s penalty.\" % (solver, penalty))\n",
      "ValueError: Solver lbfgs supports only 'l2' or 'none' penalties, got l1 penalty.\n",
      "\n",
      "  FitFailedWarning)\n",
      "C:\\Users\\lucas\\Anaconda3\\lib\\site-packages\\sklearn\\model_selection\\_validation.py:619: FitFailedWarning: Estimator fit failed. The score on this train-test partition for these parameters will be set to nan. Details: \n",
      "Traceback (most recent call last):\n",
      "  File \"C:\\Users\\lucas\\Anaconda3\\lib\\site-packages\\sklearn\\model_selection\\_validation.py\", line 598, in _fit_and_score\n",
      "    estimator.fit(X_train, y_train, **fit_params)\n",
      "  File \"C:\\Users\\lucas\\Anaconda3\\lib\\site-packages\\sklearn\\linear_model\\_logistic.py\", line 1306, in fit\n",
      "    solver = _check_solver(self.solver, self.penalty, self.dual)\n",
      "  File \"C:\\Users\\lucas\\Anaconda3\\lib\\site-packages\\sklearn\\linear_model\\_logistic.py\", line 444, in _check_solver\n",
      "    \"got %s penalty.\" % (solver, penalty))\n",
      "ValueError: Solver lbfgs supports only 'l2' or 'none' penalties, got l1 penalty.\n",
      "\n",
      "  FitFailedWarning)\n",
      "C:\\Users\\lucas\\Anaconda3\\lib\\site-packages\\sklearn\\model_selection\\_validation.py:619: FitFailedWarning: Estimator fit failed. The score on this train-test partition for these parameters will be set to nan. Details: \n",
      "Traceback (most recent call last):\n",
      "  File \"C:\\Users\\lucas\\Anaconda3\\lib\\site-packages\\sklearn\\model_selection\\_validation.py\", line 598, in _fit_and_score\n",
      "    estimator.fit(X_train, y_train, **fit_params)\n",
      "  File \"C:\\Users\\lucas\\Anaconda3\\lib\\site-packages\\sklearn\\linear_model\\_logistic.py\", line 1306, in fit\n",
      "    solver = _check_solver(self.solver, self.penalty, self.dual)\n",
      "  File \"C:\\Users\\lucas\\Anaconda3\\lib\\site-packages\\sklearn\\linear_model\\_logistic.py\", line 444, in _check_solver\n",
      "    \"got %s penalty.\" % (solver, penalty))\n",
      "ValueError: Solver lbfgs supports only 'l2' or 'none' penalties, got l1 penalty.\n",
      "\n",
      "  FitFailedWarning)\n",
      "C:\\Users\\lucas\\Anaconda3\\lib\\site-packages\\sklearn\\model_selection\\_validation.py:619: FitFailedWarning: Estimator fit failed. The score on this train-test partition for these parameters will be set to nan. Details: \n",
      "Traceback (most recent call last):\n",
      "  File \"C:\\Users\\lucas\\Anaconda3\\lib\\site-packages\\sklearn\\model_selection\\_validation.py\", line 598, in _fit_and_score\n",
      "    estimator.fit(X_train, y_train, **fit_params)\n",
      "  File \"C:\\Users\\lucas\\Anaconda3\\lib\\site-packages\\sklearn\\linear_model\\_logistic.py\", line 1306, in fit\n",
      "    solver = _check_solver(self.solver, self.penalty, self.dual)\n",
      "  File \"C:\\Users\\lucas\\Anaconda3\\lib\\site-packages\\sklearn\\linear_model\\_logistic.py\", line 444, in _check_solver\n",
      "    \"got %s penalty.\" % (solver, penalty))\n",
      "ValueError: Solver lbfgs supports only 'l2' or 'none' penalties, got l1 penalty.\n",
      "\n",
      "  FitFailedWarning)\n",
      "C:\\Users\\lucas\\Anaconda3\\lib\\site-packages\\sklearn\\model_selection\\_validation.py:619: FitFailedWarning: Estimator fit failed. The score on this train-test partition for these parameters will be set to nan. Details: \n",
      "Traceback (most recent call last):\n",
      "  File \"C:\\Users\\lucas\\Anaconda3\\lib\\site-packages\\sklearn\\model_selection\\_validation.py\", line 598, in _fit_and_score\n",
      "    estimator.fit(X_train, y_train, **fit_params)\n",
      "  File \"C:\\Users\\lucas\\Anaconda3\\lib\\site-packages\\sklearn\\linear_model\\_logistic.py\", line 1306, in fit\n",
      "    solver = _check_solver(self.solver, self.penalty, self.dual)\n",
      "  File \"C:\\Users\\lucas\\Anaconda3\\lib\\site-packages\\sklearn\\linear_model\\_logistic.py\", line 444, in _check_solver\n",
      "    \"got %s penalty.\" % (solver, penalty))\n",
      "ValueError: Solver lbfgs supports only 'l2' or 'none' penalties, got l1 penalty.\n",
      "\n",
      "  FitFailedWarning)\n",
      "C:\\Users\\lucas\\Anaconda3\\lib\\site-packages\\sklearn\\model_selection\\_validation.py:619: FitFailedWarning: Estimator fit failed. The score on this train-test partition for these parameters will be set to nan. Details: \n",
      "Traceback (most recent call last):\n",
      "  File \"C:\\Users\\lucas\\Anaconda3\\lib\\site-packages\\sklearn\\model_selection\\_validation.py\", line 598, in _fit_and_score\n",
      "    estimator.fit(X_train, y_train, **fit_params)\n",
      "  File \"C:\\Users\\lucas\\Anaconda3\\lib\\site-packages\\sklearn\\linear_model\\_logistic.py\", line 1306, in fit\n",
      "    solver = _check_solver(self.solver, self.penalty, self.dual)\n",
      "  File \"C:\\Users\\lucas\\Anaconda3\\lib\\site-packages\\sklearn\\linear_model\\_logistic.py\", line 444, in _check_solver\n",
      "    \"got %s penalty.\" % (solver, penalty))\n",
      "ValueError: Solver lbfgs supports only 'l2' or 'none' penalties, got l1 penalty.\n",
      "\n",
      "  FitFailedWarning)\n",
      "C:\\Users\\lucas\\Anaconda3\\lib\\site-packages\\sklearn\\model_selection\\_validation.py:619: FitFailedWarning: Estimator fit failed. The score on this train-test partition for these parameters will be set to nan. Details: \n",
      "Traceback (most recent call last):\n",
      "  File \"C:\\Users\\lucas\\Anaconda3\\lib\\site-packages\\sklearn\\model_selection\\_validation.py\", line 598, in _fit_and_score\n",
      "    estimator.fit(X_train, y_train, **fit_params)\n",
      "  File \"C:\\Users\\lucas\\Anaconda3\\lib\\site-packages\\sklearn\\linear_model\\_logistic.py\", line 1306, in fit\n",
      "    solver = _check_solver(self.solver, self.penalty, self.dual)\n",
      "  File \"C:\\Users\\lucas\\Anaconda3\\lib\\site-packages\\sklearn\\linear_model\\_logistic.py\", line 444, in _check_solver\n",
      "    \"got %s penalty.\" % (solver, penalty))\n",
      "ValueError: Solver lbfgs supports only 'l2' or 'none' penalties, got l1 penalty.\n",
      "\n",
      "  FitFailedWarning)\n"
     ]
    },
    {
     "name": "stderr",
     "output_type": "stream",
     "text": [
      "C:\\Users\\lucas\\Anaconda3\\lib\\site-packages\\sklearn\\model_selection\\_validation.py:619: FitFailedWarning: Estimator fit failed. The score on this train-test partition for these parameters will be set to nan. Details: \n",
      "Traceback (most recent call last):\n",
      "  File \"C:\\Users\\lucas\\Anaconda3\\lib\\site-packages\\sklearn\\model_selection\\_validation.py\", line 598, in _fit_and_score\n",
      "    estimator.fit(X_train, y_train, **fit_params)\n",
      "  File \"C:\\Users\\lucas\\Anaconda3\\lib\\site-packages\\sklearn\\linear_model\\_logistic.py\", line 1306, in fit\n",
      "    solver = _check_solver(self.solver, self.penalty, self.dual)\n",
      "  File \"C:\\Users\\lucas\\Anaconda3\\lib\\site-packages\\sklearn\\linear_model\\_logistic.py\", line 444, in _check_solver\n",
      "    \"got %s penalty.\" % (solver, penalty))\n",
      "ValueError: Solver lbfgs supports only 'l2' or 'none' penalties, got l1 penalty.\n",
      "\n",
      "  FitFailedWarning)\n",
      "C:\\Users\\lucas\\Anaconda3\\lib\\site-packages\\sklearn\\model_selection\\_validation.py:619: FitFailedWarning: Estimator fit failed. The score on this train-test partition for these parameters will be set to nan. Details: \n",
      "Traceback (most recent call last):\n",
      "  File \"C:\\Users\\lucas\\Anaconda3\\lib\\site-packages\\sklearn\\model_selection\\_validation.py\", line 598, in _fit_and_score\n",
      "    estimator.fit(X_train, y_train, **fit_params)\n",
      "  File \"C:\\Users\\lucas\\Anaconda3\\lib\\site-packages\\sklearn\\linear_model\\_logistic.py\", line 1306, in fit\n",
      "    solver = _check_solver(self.solver, self.penalty, self.dual)\n",
      "  File \"C:\\Users\\lucas\\Anaconda3\\lib\\site-packages\\sklearn\\linear_model\\_logistic.py\", line 444, in _check_solver\n",
      "    \"got %s penalty.\" % (solver, penalty))\n",
      "ValueError: Solver lbfgs supports only 'l2' or 'none' penalties, got l1 penalty.\n",
      "\n",
      "  FitFailedWarning)\n",
      "C:\\Users\\lucas\\Anaconda3\\lib\\site-packages\\sklearn\\model_selection\\_validation.py:619: FitFailedWarning: Estimator fit failed. The score on this train-test partition for these parameters will be set to nan. Details: \n",
      "Traceback (most recent call last):\n",
      "  File \"C:\\Users\\lucas\\Anaconda3\\lib\\site-packages\\sklearn\\model_selection\\_validation.py\", line 598, in _fit_and_score\n",
      "    estimator.fit(X_train, y_train, **fit_params)\n",
      "  File \"C:\\Users\\lucas\\Anaconda3\\lib\\site-packages\\sklearn\\linear_model\\_logistic.py\", line 1306, in fit\n",
      "    solver = _check_solver(self.solver, self.penalty, self.dual)\n",
      "  File \"C:\\Users\\lucas\\Anaconda3\\lib\\site-packages\\sklearn\\linear_model\\_logistic.py\", line 444, in _check_solver\n",
      "    \"got %s penalty.\" % (solver, penalty))\n",
      "ValueError: Solver lbfgs supports only 'l2' or 'none' penalties, got l1 penalty.\n",
      "\n",
      "  FitFailedWarning)\n",
      "C:\\Users\\lucas\\Anaconda3\\lib\\site-packages\\sklearn\\model_selection\\_validation.py:619: FitFailedWarning: Estimator fit failed. The score on this train-test partition for these parameters will be set to nan. Details: \n",
      "Traceback (most recent call last):\n",
      "  File \"C:\\Users\\lucas\\Anaconda3\\lib\\site-packages\\sklearn\\model_selection\\_validation.py\", line 598, in _fit_and_score\n",
      "    estimator.fit(X_train, y_train, **fit_params)\n",
      "  File \"C:\\Users\\lucas\\Anaconda3\\lib\\site-packages\\sklearn\\linear_model\\_logistic.py\", line 1306, in fit\n",
      "    solver = _check_solver(self.solver, self.penalty, self.dual)\n",
      "  File \"C:\\Users\\lucas\\Anaconda3\\lib\\site-packages\\sklearn\\linear_model\\_logistic.py\", line 444, in _check_solver\n",
      "    \"got %s penalty.\" % (solver, penalty))\n",
      "ValueError: Solver lbfgs supports only 'l2' or 'none' penalties, got l1 penalty.\n",
      "\n",
      "  FitFailedWarning)\n",
      "C:\\Users\\lucas\\Anaconda3\\lib\\site-packages\\sklearn\\model_selection\\_validation.py:619: FitFailedWarning: Estimator fit failed. The score on this train-test partition for these parameters will be set to nan. Details: \n",
      "Traceback (most recent call last):\n",
      "  File \"C:\\Users\\lucas\\Anaconda3\\lib\\site-packages\\sklearn\\model_selection\\_validation.py\", line 598, in _fit_and_score\n",
      "    estimator.fit(X_train, y_train, **fit_params)\n",
      "  File \"C:\\Users\\lucas\\Anaconda3\\lib\\site-packages\\sklearn\\linear_model\\_logistic.py\", line 1306, in fit\n",
      "    solver = _check_solver(self.solver, self.penalty, self.dual)\n",
      "  File \"C:\\Users\\lucas\\Anaconda3\\lib\\site-packages\\sklearn\\linear_model\\_logistic.py\", line 444, in _check_solver\n",
      "    \"got %s penalty.\" % (solver, penalty))\n",
      "ValueError: Solver lbfgs supports only 'l2' or 'none' penalties, got l1 penalty.\n",
      "\n",
      "  FitFailedWarning)\n",
      "C:\\Users\\lucas\\Anaconda3\\lib\\site-packages\\sklearn\\model_selection\\_validation.py:619: FitFailedWarning: Estimator fit failed. The score on this train-test partition for these parameters will be set to nan. Details: \n",
      "Traceback (most recent call last):\n",
      "  File \"C:\\Users\\lucas\\Anaconda3\\lib\\site-packages\\sklearn\\model_selection\\_validation.py\", line 598, in _fit_and_score\n",
      "    estimator.fit(X_train, y_train, **fit_params)\n",
      "  File \"C:\\Users\\lucas\\Anaconda3\\lib\\site-packages\\sklearn\\linear_model\\_logistic.py\", line 1306, in fit\n",
      "    solver = _check_solver(self.solver, self.penalty, self.dual)\n",
      "  File \"C:\\Users\\lucas\\Anaconda3\\lib\\site-packages\\sklearn\\linear_model\\_logistic.py\", line 444, in _check_solver\n",
      "    \"got %s penalty.\" % (solver, penalty))\n",
      "ValueError: Solver lbfgs supports only 'l2' or 'none' penalties, got l1 penalty.\n",
      "\n",
      "  FitFailedWarning)\n",
      "C:\\Users\\lucas\\Anaconda3\\lib\\site-packages\\sklearn\\model_selection\\_validation.py:619: FitFailedWarning: Estimator fit failed. The score on this train-test partition for these parameters will be set to nan. Details: \n",
      "Traceback (most recent call last):\n",
      "  File \"C:\\Users\\lucas\\Anaconda3\\lib\\site-packages\\sklearn\\model_selection\\_validation.py\", line 598, in _fit_and_score\n",
      "    estimator.fit(X_train, y_train, **fit_params)\n",
      "  File \"C:\\Users\\lucas\\Anaconda3\\lib\\site-packages\\sklearn\\linear_model\\_logistic.py\", line 1306, in fit\n",
      "    solver = _check_solver(self.solver, self.penalty, self.dual)\n",
      "  File \"C:\\Users\\lucas\\Anaconda3\\lib\\site-packages\\sklearn\\linear_model\\_logistic.py\", line 444, in _check_solver\n",
      "    \"got %s penalty.\" % (solver, penalty))\n",
      "ValueError: Solver lbfgs supports only 'l2' or 'none' penalties, got l1 penalty.\n",
      "\n",
      "  FitFailedWarning)\n",
      "C:\\Users\\lucas\\Anaconda3\\lib\\site-packages\\sklearn\\model_selection\\_validation.py:619: FitFailedWarning: Estimator fit failed. The score on this train-test partition for these parameters will be set to nan. Details: \n",
      "Traceback (most recent call last):\n",
      "  File \"C:\\Users\\lucas\\Anaconda3\\lib\\site-packages\\sklearn\\model_selection\\_validation.py\", line 598, in _fit_and_score\n",
      "    estimator.fit(X_train, y_train, **fit_params)\n",
      "  File \"C:\\Users\\lucas\\Anaconda3\\lib\\site-packages\\sklearn\\linear_model\\_logistic.py\", line 1306, in fit\n",
      "    solver = _check_solver(self.solver, self.penalty, self.dual)\n",
      "  File \"C:\\Users\\lucas\\Anaconda3\\lib\\site-packages\\sklearn\\linear_model\\_logistic.py\", line 444, in _check_solver\n",
      "    \"got %s penalty.\" % (solver, penalty))\n",
      "ValueError: Solver lbfgs supports only 'l2' or 'none' penalties, got l1 penalty.\n",
      "\n",
      "  FitFailedWarning)\n",
      "C:\\Users\\lucas\\Anaconda3\\lib\\site-packages\\sklearn\\model_selection\\_validation.py:619: FitFailedWarning: Estimator fit failed. The score on this train-test partition for these parameters will be set to nan. Details: \n",
      "Traceback (most recent call last):\n",
      "  File \"C:\\Users\\lucas\\Anaconda3\\lib\\site-packages\\sklearn\\model_selection\\_validation.py\", line 598, in _fit_and_score\n",
      "    estimator.fit(X_train, y_train, **fit_params)\n",
      "  File \"C:\\Users\\lucas\\Anaconda3\\lib\\site-packages\\sklearn\\linear_model\\_logistic.py\", line 1306, in fit\n",
      "    solver = _check_solver(self.solver, self.penalty, self.dual)\n",
      "  File \"C:\\Users\\lucas\\Anaconda3\\lib\\site-packages\\sklearn\\linear_model\\_logistic.py\", line 444, in _check_solver\n",
      "    \"got %s penalty.\" % (solver, penalty))\n",
      "ValueError: Solver lbfgs supports only 'l2' or 'none' penalties, got l1 penalty.\n",
      "\n",
      "  FitFailedWarning)\n",
      "C:\\Users\\lucas\\Anaconda3\\lib\\site-packages\\sklearn\\model_selection\\_validation.py:619: FitFailedWarning: Estimator fit failed. The score on this train-test partition for these parameters will be set to nan. Details: \n",
      "Traceback (most recent call last):\n",
      "  File \"C:\\Users\\lucas\\Anaconda3\\lib\\site-packages\\sklearn\\model_selection\\_validation.py\", line 598, in _fit_and_score\n",
      "    estimator.fit(X_train, y_train, **fit_params)\n",
      "  File \"C:\\Users\\lucas\\Anaconda3\\lib\\site-packages\\sklearn\\linear_model\\_logistic.py\", line 1306, in fit\n",
      "    solver = _check_solver(self.solver, self.penalty, self.dual)\n",
      "  File \"C:\\Users\\lucas\\Anaconda3\\lib\\site-packages\\sklearn\\linear_model\\_logistic.py\", line 444, in _check_solver\n",
      "    \"got %s penalty.\" % (solver, penalty))\n",
      "ValueError: Solver lbfgs supports only 'l2' or 'none' penalties, got l1 penalty.\n",
      "\n",
      "  FitFailedWarning)\n"
     ]
    },
    {
     "name": "stderr",
     "output_type": "stream",
     "text": [
      "C:\\Users\\lucas\\Anaconda3\\lib\\site-packages\\sklearn\\model_selection\\_validation.py:619: FitFailedWarning: Estimator fit failed. The score on this train-test partition for these parameters will be set to nan. Details: \n",
      "Traceback (most recent call last):\n",
      "  File \"C:\\Users\\lucas\\Anaconda3\\lib\\site-packages\\sklearn\\model_selection\\_validation.py\", line 598, in _fit_and_score\n",
      "    estimator.fit(X_train, y_train, **fit_params)\n",
      "  File \"C:\\Users\\lucas\\Anaconda3\\lib\\site-packages\\sklearn\\linear_model\\_logistic.py\", line 1306, in fit\n",
      "    solver = _check_solver(self.solver, self.penalty, self.dual)\n",
      "  File \"C:\\Users\\lucas\\Anaconda3\\lib\\site-packages\\sklearn\\linear_model\\_logistic.py\", line 444, in _check_solver\n",
      "    \"got %s penalty.\" % (solver, penalty))\n",
      "ValueError: Solver lbfgs supports only 'l2' or 'none' penalties, got l1 penalty.\n",
      "\n",
      "  FitFailedWarning)\n",
      "C:\\Users\\lucas\\Anaconda3\\lib\\site-packages\\sklearn\\model_selection\\_validation.py:619: FitFailedWarning: Estimator fit failed. The score on this train-test partition for these parameters will be set to nan. Details: \n",
      "Traceback (most recent call last):\n",
      "  File \"C:\\Users\\lucas\\Anaconda3\\lib\\site-packages\\sklearn\\model_selection\\_validation.py\", line 598, in _fit_and_score\n",
      "    estimator.fit(X_train, y_train, **fit_params)\n",
      "  File \"C:\\Users\\lucas\\Anaconda3\\lib\\site-packages\\sklearn\\linear_model\\_logistic.py\", line 1306, in fit\n",
      "    solver = _check_solver(self.solver, self.penalty, self.dual)\n",
      "  File \"C:\\Users\\lucas\\Anaconda3\\lib\\site-packages\\sklearn\\linear_model\\_logistic.py\", line 444, in _check_solver\n",
      "    \"got %s penalty.\" % (solver, penalty))\n",
      "ValueError: Solver lbfgs supports only 'l2' or 'none' penalties, got l1 penalty.\n",
      "\n",
      "  FitFailedWarning)\n",
      "C:\\Users\\lucas\\Anaconda3\\lib\\site-packages\\sklearn\\model_selection\\_validation.py:619: FitFailedWarning: Estimator fit failed. The score on this train-test partition for these parameters will be set to nan. Details: \n",
      "Traceback (most recent call last):\n",
      "  File \"C:\\Users\\lucas\\Anaconda3\\lib\\site-packages\\sklearn\\model_selection\\_validation.py\", line 598, in _fit_and_score\n",
      "    estimator.fit(X_train, y_train, **fit_params)\n",
      "  File \"C:\\Users\\lucas\\Anaconda3\\lib\\site-packages\\sklearn\\linear_model\\_logistic.py\", line 1306, in fit\n",
      "    solver = _check_solver(self.solver, self.penalty, self.dual)\n",
      "  File \"C:\\Users\\lucas\\Anaconda3\\lib\\site-packages\\sklearn\\linear_model\\_logistic.py\", line 444, in _check_solver\n",
      "    \"got %s penalty.\" % (solver, penalty))\n",
      "ValueError: Solver lbfgs supports only 'l2' or 'none' penalties, got l1 penalty.\n",
      "\n",
      "  FitFailedWarning)\n",
      "C:\\Users\\lucas\\Anaconda3\\lib\\site-packages\\sklearn\\model_selection\\_validation.py:619: FitFailedWarning: Estimator fit failed. The score on this train-test partition for these parameters will be set to nan. Details: \n",
      "Traceback (most recent call last):\n",
      "  File \"C:\\Users\\lucas\\Anaconda3\\lib\\site-packages\\sklearn\\model_selection\\_validation.py\", line 598, in _fit_and_score\n",
      "    estimator.fit(X_train, y_train, **fit_params)\n",
      "  File \"C:\\Users\\lucas\\Anaconda3\\lib\\site-packages\\sklearn\\linear_model\\_logistic.py\", line 1306, in fit\n",
      "    solver = _check_solver(self.solver, self.penalty, self.dual)\n",
      "  File \"C:\\Users\\lucas\\Anaconda3\\lib\\site-packages\\sklearn\\linear_model\\_logistic.py\", line 444, in _check_solver\n",
      "    \"got %s penalty.\" % (solver, penalty))\n",
      "ValueError: Solver lbfgs supports only 'l2' or 'none' penalties, got l1 penalty.\n",
      "\n",
      "  FitFailedWarning)\n",
      "C:\\Users\\lucas\\Anaconda3\\lib\\site-packages\\sklearn\\model_selection\\_validation.py:619: FitFailedWarning: Estimator fit failed. The score on this train-test partition for these parameters will be set to nan. Details: \n",
      "Traceback (most recent call last):\n",
      "  File \"C:\\Users\\lucas\\Anaconda3\\lib\\site-packages\\sklearn\\model_selection\\_validation.py\", line 598, in _fit_and_score\n",
      "    estimator.fit(X_train, y_train, **fit_params)\n",
      "  File \"C:\\Users\\lucas\\Anaconda3\\lib\\site-packages\\sklearn\\linear_model\\_logistic.py\", line 1306, in fit\n",
      "    solver = _check_solver(self.solver, self.penalty, self.dual)\n",
      "  File \"C:\\Users\\lucas\\Anaconda3\\lib\\site-packages\\sklearn\\linear_model\\_logistic.py\", line 444, in _check_solver\n",
      "    \"got %s penalty.\" % (solver, penalty))\n",
      "ValueError: Solver lbfgs supports only 'l2' or 'none' penalties, got l1 penalty.\n",
      "\n",
      "  FitFailedWarning)\n",
      "C:\\Users\\lucas\\Anaconda3\\lib\\site-packages\\sklearn\\model_selection\\_search.py:925: UserWarning: One or more of the test scores are non-finite: [       nan 0.75556391        nan 0.78617356        nan 0.79503276\n",
      "        nan 0.79669038        nan 0.79681613        nan 0.79687825\n",
      "        nan 0.79688829]\n",
      "  category=UserWarning\n"
     ]
    },
    {
     "name": "stdout",
     "output_type": "stream",
     "text": [
      "AUC: 79.689\n",
      "Melhores Parâmetros do Modelo:\n",
      " LogisticRegression(C=1000)\n"
     ]
    }
   ],
   "source": [
    "# Criando o grid\n",
    "grid = GridSearchCV(estimator = model1, param_grid = valores_grid, scoring = 'roc_auc')\n",
    "grid.fit(dados_1_scaled_20, Y)\n",
    "\n",
    "# Print do resultado\n",
    "print(\"AUC: %.3f\" % (grid.best_score_ * 100))\n",
    "print(\"Melhores Parâmetros do Modelo:\\n\", grid.best_estimator_)"
   ]
  },
  {
   "cell_type": "markdown",
   "metadata": {},
   "source": [
    "Já haviamos obtido este score com os parâmetros padrão do modelo."
   ]
  },
  {
   "cell_type": "markdown",
   "metadata": {},
   "source": [
    "Vamos testar outros modelos:"
   ]
  },
  {
   "cell_type": "code",
   "execution_count": 76,
   "metadata": {},
   "outputs": [],
   "source": [
    "modelos = []\n",
    "modelos.append(('LDA', LinearDiscriminantAnalysis()))\n",
    "modelos.append(('NB', GaussianNB()))\n",
    "modelos.append(('KNN', KNeighborsClassifier()))\n",
    "modelos.append(('CART', DecisionTreeClassifier()))\n",
    "modelos.append(('RF', RandomForestClassifier()))\n",
    "modelos.append(('XGBoost', xgb.XGBClassifier(eval_metric='logloss', use_label_encoder=False)))"
   ]
  },
  {
   "cell_type": "code",
   "execution_count": 77,
   "metadata": {},
   "outputs": [
    {
     "name": "stdout",
     "output_type": "stream",
     "text": [
      "LDA: 0.795188\n",
      "NB: 0.732115\n",
      "KNN: 0.648590\n",
      "CART: 0.582743\n",
      "RF: 0.710619\n",
      "XGBoost: 0.810543\n"
     ]
    }
   ],
   "source": [
    "# Avaliando cada modelo em um loop\n",
    "resultados = []\n",
    "nomes = []\n",
    "\n",
    "for nome, modelo in modelos:\n",
    "    kfold = KFold(n_splits = num_folds, random_state = seed, shuffle = True)\n",
    "    cv_results = cross_val_score(modelo, dados_1_scaled_20, Y, cv = kfold, scoring = 'roc_auc')\n",
    "    resultados.append(cv_results)\n",
    "    nomes.append(nome)\n",
    "    print(\"%s: %f\" % (nome, cv_results.mean()))"
   ]
  },
  {
   "cell_type": "markdown",
   "metadata": {},
   "source": [
    "Com 20 componentes, o algoritmo que teve a melhor performance foi o XGBoost com aproximadamente 81% de AUC. Vamos manter o resultado assim."
   ]
  },
  {
   "cell_type": "markdown",
   "metadata": {},
   "source": [
    "## Salvando o Modelo"
   ]
  },
  {
   "cell_type": "code",
   "execution_count": 78,
   "metadata": {},
   "outputs": [
    {
     "name": "stderr",
     "output_type": "stream",
     "text": [
      "C:\\Users\\lucas\\Anaconda3\\lib\\site-packages\\xgboost\\sklearn.py:1146: UserWarning: The use of label encoder in XGBClassifier is deprecated and will be removed in a future release. To remove this warning, do the following: 1) Pass option use_label_encoder=False when constructing XGBClassifier object; and 2) Encode your labels (y) as integers starting with 0, i.e. 0, 1, 2, ..., [num_class - 1].\n",
      "  warnings.warn(label_encoder_deprecation_msg, UserWarning)\n"
     ]
    }
   ],
   "source": [
    "# Salvando o modelo\n",
    "modelo = xgb.XGBClassifier(eval_metric='logloss')\n",
    "modelo.fit(dados_1_scaled_20, Y)\n",
    "\n",
    "arquivo = 'modelos/model_XGBoost.sav'\n",
    "pickle.dump(modelo, open(arquivo, 'wb'))"
   ]
  },
  {
   "cell_type": "markdown",
   "metadata": {},
   "source": [
    "## Conclusão"
   ]
  },
  {
   "cell_type": "markdown",
   "metadata": {},
   "source": [
    "Neste trabalho foi desenvolvido um modelo para a previsão da satisfação de clientes a partir de uma base de dados do banco Santander. A base de dados era extensa e não continha nenhum detalhamento do significado das variáveis, ou seja tivemos de recorrer a comunidade para obter tal informação. A análise exploratória, aplicação da técnica PCA e o algorítmo XGBoost atingiram uma AUC de aproximadamente 81%, como é uma AUC média considerando os dados de treinamento, é provável que nos dados de teste esta performance seja mais baixa, necessitando de melhorias no processo como um todo, como por exemplo a aplicação de outras técnicas na etapa de Engenharia de Atríbutos. Ainda sim o desenvolvimento deste projeto me permitiu aumentar muito meus conhecimentos em Machie Learnig e Python de um modo geral, permitindo nos próximos projetos \"já saber por onde começar\", algo que eu tinha dificuldade anteriormente, por fim pretendo continuar minha jornada no mundo da ciência de dados, mantendo em mente que o mais importante desta área é resolver problemas de negócios."
   ]
  },
  {
   "cell_type": "code",
   "execution_count": null,
   "metadata": {},
   "outputs": [],
   "source": []
  }
 ],
 "metadata": {
  "kernelspec": {
   "display_name": "Python 3",
   "language": "python",
   "name": "python3"
  },
  "language_info": {
   "codemirror_mode": {
    "name": "ipython",
    "version": 3
   },
   "file_extension": ".py",
   "mimetype": "text/x-python",
   "name": "python",
   "nbconvert_exporter": "python",
   "pygments_lexer": "ipython3",
   "version": "3.7.3"
  }
 },
 "nbformat": 4,
 "nbformat_minor": 2
}
